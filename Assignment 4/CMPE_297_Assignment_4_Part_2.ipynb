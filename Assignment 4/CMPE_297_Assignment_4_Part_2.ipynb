{
  "cells": [
    {
      "cell_type": "markdown",
      "metadata": {
        "id": "view-in-github",
        "colab_type": "text"
      },
      "source": [
        "<a href=\"https://colab.research.google.com/github/sarjakpatel/CMPE_297_Advanced_Deep_Learning/blob/main/Assignment%204/CMPE_297_Assignment_4_Part_2.ipynb\" target=\"_parent\"><img src=\"https://colab.research.google.com/assets/colab-badge.svg\" alt=\"Open In Colab\"/></a>"
      ]
    },
    {
      "cell_type": "markdown",
      "id": "e97dbf01",
      "metadata": {
        "papermill": {
          "duration": 0.035787,
          "end_time": "2021-10-10T16:36:26.406495",
          "exception": false,
          "start_time": "2021-10-10T16:36:26.370708",
          "status": "completed"
        },
        "tags": [],
        "id": "e97dbf01"
      },
      "source": [
        "# CMPE 297 Assignment 4 Part 2: Meta learning using prototypical networks in pytorch\n"
      ]
    },
    {
      "cell_type": "markdown",
      "id": "89d6c708",
      "metadata": {
        "papermill": {
          "duration": 0.034571,
          "end_time": "2021-10-10T16:36:26.475148",
          "exception": false,
          "start_time": "2021-10-10T16:36:26.440577",
          "status": "completed"
        },
        "tags": [],
        "id": "89d6c708"
      },
      "source": [
        "## Importing Libraries"
      ]
    },
    {
      "cell_type": "code",
      "execution_count": 1,
      "id": "2350fea0",
      "metadata": {
        "execution": {
          "iopub.execute_input": "2021-10-10T16:36:26.546320Z",
          "iopub.status.busy": "2021-10-10T16:36:26.545801Z",
          "iopub.status.idle": "2021-10-10T16:36:26.547964Z",
          "shell.execute_reply": "2021-10-10T16:36:26.548348Z"
        },
        "id": "2350fea0",
        "lines_to_next_cell": 0,
        "papermill": {
          "duration": 0.039795,
          "end_time": "2021-10-10T16:36:26.548525",
          "exception": false,
          "start_time": "2021-10-10T16:36:26.508730",
          "status": "completed"
        },
        "tags": [],
        "colab": {
          "base_uri": "https://localhost:8080/"
        },
        "outputId": "a89aeefe-66d0-492d-bd74-c54168b06d04"
      },
      "outputs": [
        {
          "output_type": "stream",
          "name": "stdout",
          "text": [
            "\u001b[K     |████████████████████████████████| 804.1 MB 2.6 kB/s \n",
            "\u001b[K     |████████████████████████████████| 529 kB 73.4 MB/s \n",
            "\u001b[K     |████████████████████████████████| 708 kB 44.9 MB/s \n",
            "\u001b[K     |████████████████████████████████| 707 kB 57.0 MB/s \n",
            "\u001b[K     |████████████████████████████████| 706 kB 60.9 MB/s \n",
            "\u001b[K     |████████████████████████████████| 706 kB 72.7 MB/s \n",
            "\u001b[K     |████████████████████████████████| 705 kB 69.6 MB/s \n",
            "\u001b[K     |████████████████████████████████| 705 kB 62.1 MB/s \n",
            "\u001b[K     |████████████████████████████████| 701 kB 66.6 MB/s \n",
            "\u001b[K     |████████████████████████████████| 700 kB 66.7 MB/s \n",
            "\u001b[K     |████████████████████████████████| 585 kB 66.8 MB/s \n",
            "\u001b[K     |████████████████████████████████| 19.1 MB 964 kB/s \n",
            "\u001b[K     |████████████████████████████████| 19.1 MB 501 kB/s \n",
            "\u001b[K     |████████████████████████████████| 21.0 MB 1.3 MB/s \n",
            "\u001b[K     |████████████████████████████████| 23.2 MB 1.6 MB/s \n",
            "\u001b[K     |████████████████████████████████| 23.3 MB 78.5 MB/s \n",
            "\u001b[K     |████████████████████████████████| 23.3 MB 1.2 MB/s \n",
            "\u001b[K     |████████████████████████████████| 22.1 MB 1.3 MB/s \n",
            "\u001b[K     |████████████████████████████████| 22.1 MB 1.3 MB/s \n",
            "\u001b[K     |████████████████████████████████| 17.4 MB 736 kB/s \n",
            "\u001b[31mERROR: pip's dependency resolver does not currently take into account all the packages that are installed. This behaviour is the source of the following dependency conflicts.\n",
            "torchtext 0.13.1 requires torch==1.12.1, but you have torch 1.8.1 which is incompatible.\n",
            "torchaudio 0.12.1+cu113 requires torch==1.12.1, but you have torch 1.8.1 which is incompatible.\u001b[0m\n",
            "\u001b[?25h"
          ]
        }
      ],
      "source": [
        "!pip install --quiet \"torch>=1.6, <1.9\" \"matplotlib\" \"torchmetrics>=0.3\" \"seaborn\" \"torchvision\" \"pytorch-lightning>=1.3\""
      ]
    },
    {
      "cell_type": "code",
      "source": [
        "!pip install -U torchtext==0.10.0"
      ],
      "metadata": {
        "colab": {
          "base_uri": "https://localhost:8080/"
        },
        "id": "DEYQc4owzbpt",
        "outputId": "ebfe6ad8-9dbe-41eb-a8d3-0d770f4487e8"
      },
      "id": "DEYQc4owzbpt",
      "execution_count": 2,
      "outputs": [
        {
          "output_type": "stream",
          "name": "stdout",
          "text": [
            "Looking in indexes: https://pypi.org/simple, https://us-python.pkg.dev/colab-wheels/public/simple/\n",
            "Collecting torchtext==0.10.0\n",
            "  Downloading torchtext-0.10.0-cp37-cp37m-manylinux1_x86_64.whl (7.6 MB)\n",
            "\u001b[K     |████████████████████████████████| 7.6 MB 4.9 MB/s \n",
            "\u001b[?25hRequirement already satisfied: numpy in /usr/local/lib/python3.7/dist-packages (from torchtext==0.10.0) (1.21.6)\n",
            "Requirement already satisfied: requests in /usr/local/lib/python3.7/dist-packages (from torchtext==0.10.0) (2.23.0)\n",
            "Requirement already satisfied: tqdm in /usr/local/lib/python3.7/dist-packages (from torchtext==0.10.0) (4.64.1)\n",
            "Collecting torch==1.9.0\n",
            "  Downloading torch-1.9.0-cp37-cp37m-manylinux1_x86_64.whl (831.4 MB)\n",
            "\u001b[K     |████████████████████████████████| 831.4 MB 2.6 kB/s \n",
            "\u001b[?25hRequirement already satisfied: typing-extensions in /usr/local/lib/python3.7/dist-packages (from torch==1.9.0->torchtext==0.10.0) (4.1.1)\n",
            "Requirement already satisfied: certifi>=2017.4.17 in /usr/local/lib/python3.7/dist-packages (from requests->torchtext==0.10.0) (2022.9.24)\n",
            "Requirement already satisfied: idna<3,>=2.5 in /usr/local/lib/python3.7/dist-packages (from requests->torchtext==0.10.0) (2.10)\n",
            "Requirement already satisfied: chardet<4,>=3.0.2 in /usr/local/lib/python3.7/dist-packages (from requests->torchtext==0.10.0) (3.0.4)\n",
            "Requirement already satisfied: urllib3!=1.25.0,!=1.25.1,<1.26,>=1.21.1 in /usr/local/lib/python3.7/dist-packages (from requests->torchtext==0.10.0) (1.24.3)\n",
            "Installing collected packages: torch, torchtext\n",
            "  Attempting uninstall: torch\n",
            "    Found existing installation: torch 1.8.1\n",
            "    Uninstalling torch-1.8.1:\n",
            "      Successfully uninstalled torch-1.8.1\n",
            "  Attempting uninstall: torchtext\n",
            "    Found existing installation: torchtext 0.13.1\n",
            "    Uninstalling torchtext-0.13.1:\n",
            "      Successfully uninstalled torchtext-0.13.1\n",
            "\u001b[31mERROR: pip's dependency resolver does not currently take into account all the packages that are installed. This behaviour is the source of the following dependency conflicts.\n",
            "torchvision 0.9.1 requires torch==1.8.1, but you have torch 1.9.0 which is incompatible.\n",
            "torchaudio 0.12.1+cu113 requires torch==1.12.1, but you have torch 1.9.0 which is incompatible.\u001b[0m\n",
            "Successfully installed torch-1.9.0 torchtext-0.10.0\n"
          ]
        }
      ]
    },
    {
      "cell_type": "code",
      "execution_count": 3,
      "id": "a414f0fb",
      "metadata": {
        "execution": {
          "iopub.execute_input": "2021-10-10T16:36:26.695087Z",
          "iopub.status.busy": "2021-10-10T16:36:26.694610Z",
          "iopub.status.idle": "2021-10-10T16:36:28.445235Z",
          "shell.execute_reply": "2021-10-10T16:36:28.444817Z"
        },
        "papermill": {
          "duration": 1.794133,
          "end_time": "2021-10-10T16:36:28.445346",
          "exception": false,
          "start_time": "2021-10-10T16:36:26.651213",
          "status": "completed"
        },
        "tags": [],
        "id": "a414f0fb",
        "outputId": "b7f7b5d1-5f05-4146-e434-a3181243bb9c",
        "colab": {
          "base_uri": "https://localhost:8080/",
          "height": 71
        }
      },
      "outputs": [
        {
          "output_type": "stream",
          "name": "stderr",
          "text": [
            "INFO:pytorch_lightning.utilities.seed:Global seed set to 42\n"
          ]
        },
        {
          "output_type": "stream",
          "name": "stdout",
          "text": [
            "Device: cuda:0\n"
          ]
        },
        {
          "output_type": "display_data",
          "data": {
            "text/plain": [
              "<Figure size 432x288 with 0 Axes>"
            ]
          },
          "metadata": {}
        }
      ],
      "source": [
        "import json\n",
        "import os\n",
        "import random\n",
        "import urllib.request\n",
        "from collections import defaultdict\n",
        "from copy import deepcopy\n",
        "from statistics import mean, stdev\n",
        "from urllib.error import HTTPError\n",
        "\n",
        "import matplotlib\n",
        "import matplotlib.pyplot as plt\n",
        "import numpy as np\n",
        "import pytorch_lightning as pl\n",
        "import seaborn as sns\n",
        "import torch\n",
        "import torch.nn.functional as F\n",
        "import torch.optim as optim\n",
        "import torch.utils.data as data\n",
        "import torchvision\n",
        "from IPython.display import set_matplotlib_formats\n",
        "from PIL import Image\n",
        "from pytorch_lightning.callbacks import LearningRateMonitor, ModelCheckpoint\n",
        "from torchvision import transforms\n",
        "from torchvision.datasets import CIFAR100, SVHN\n",
        "from tqdm.auto import tqdm\n",
        "\n",
        "plt.set_cmap(\"cividis\")\n",
        "# %matplotlib inline\n",
        "set_matplotlib_formats(\"svg\", \"pdf\")  # For export\n",
        "matplotlib.rcParams[\"lines.linewidth\"] = 2.0\n",
        "sns.reset_orig()\n",
        "\n",
        "# Import tensorboard\n",
        "# %load_ext tensorboard\n",
        "\n",
        "# Path to the folder where the datasets are/should be downloaded (e.g. CIFAR10)\n",
        "DATASET_PATH = os.environ.get(\"PATH_DATASETS\", \"data/\")\n",
        "# Path to the folder where the pretrained models are saved\n",
        "CHECKPOINT_PATH = os.environ.get(\"PATH_CHECKPOINT\", \"saved_models/MetaLearning/\")\n",
        "\n",
        "# Setting the seed\n",
        "pl.seed_everything(42)\n",
        "\n",
        "# Ensure that all operations are deterministic on GPU (if used) for reproducibility\n",
        "torch.backends.cudnn.determinstic = True\n",
        "torch.backends.cudnn.benchmark = False\n",
        "\n",
        "device = torch.device(\"cuda:0\") if torch.cuda.is_available() else torch.device(\"cpu\")\n",
        "print(\"Device:\", device)"
      ]
    },
    {
      "cell_type": "markdown",
      "id": "ce51286e",
      "metadata": {
        "papermill": {
          "duration": 0.034776,
          "end_time": "2021-10-10T16:36:28.518803",
          "exception": false,
          "start_time": "2021-10-10T16:36:28.484027",
          "status": "completed"
        },
        "tags": [],
        "id": "ce51286e"
      },
      "source": [
        "Training the models in this notebook can take between 2 and 8 hours, and the evaluation time of some algorithms is in the span of couples of minutes.\n",
        "Hence, we download pre-trained models and results below."
      ]
    },
    {
      "cell_type": "code",
      "execution_count": 4,
      "id": "fddcdeaa",
      "metadata": {
        "execution": {
          "iopub.execute_input": "2021-10-10T16:36:28.594883Z",
          "iopub.status.busy": "2021-10-10T16:36:28.594389Z",
          "iopub.status.idle": "2021-10-10T16:36:29.453405Z",
          "shell.execute_reply": "2021-10-10T16:36:29.452919Z"
        },
        "papermill": {
          "duration": 0.899529,
          "end_time": "2021-10-10T16:36:29.453517",
          "exception": false,
          "start_time": "2021-10-10T16:36:28.553988",
          "status": "completed"
        },
        "tags": [],
        "id": "fddcdeaa",
        "outputId": "13f3d09c-f1db-4344-d9ca-0cffbfb3b834",
        "colab": {
          "base_uri": "https://localhost:8080/"
        }
      },
      "outputs": [
        {
          "output_type": "stream",
          "name": "stdout",
          "text": [
            "Downloading https://raw.githubusercontent.com/phlippe/saved_models/main/tutorial16/ProtoNet.ckpt...\n"
          ]
        }
      ],
      "source": [
        "# Github URL where saved models are stored for this tutorial\n",
        "base_url = \"https://raw.githubusercontent.com/phlippe/saved_models/main/tutorial16/\"\n",
        "# Files to download\n",
        "pretrained_files = [\"ProtoNet.ckpt\"]\n",
        "# Create checkpoint path if it doesn't exist yet\n",
        "os.makedirs(CHECKPOINT_PATH, exist_ok=True)\n",
        "\n",
        "# For each file, check whether it already exists. If not, try downloading it.\n",
        "for file_name in pretrained_files:\n",
        "    file_path = os.path.join(CHECKPOINT_PATH, file_name)\n",
        "    if \"/\" in file_name:\n",
        "        os.makedirs(file_path.rsplit(\"/\", 1)[0], exist_ok=True)\n",
        "    if not os.path.isfile(file_path):\n",
        "        file_url = base_url + file_name\n",
        "        print(\"Downloading %s...\" % file_url)\n",
        "        try:\n",
        "            urllib.request.urlretrieve(file_url, file_path)\n",
        "        except HTTPError as e:\n",
        "            print(\n",
        "                \"Something went wrong. Please try to download the file from the GDrive folder, or contact the author with the full output including the following error:\\n\",\n",
        "                e,\n",
        "            )"
      ]
    },
    {
      "cell_type": "markdown",
      "id": "96d108b7",
      "metadata": {
        "papermill": {
          "duration": 0.038624,
          "end_time": "2021-10-10T16:36:29.528397",
          "exception": false,
          "start_time": "2021-10-10T16:36:29.489773",
          "status": "completed"
        },
        "tags": [],
        "id": "96d108b7"
      },
      "source": [
        "## Dataset\n",
        "\n",
        "We start our implementation by discussing the dataset setup.\n",
        "In this notebook, we will use CIFAR100, which has 100 classes each with 600 images of size $32\\times 32$ pixels.\n",
        "Instead of splitting the training, validation and test set over examples, we will split them over classes: we will use 80 classes for training, and 10 for validation and 10 for testing.\n",
        "Our overall goal is to obtain a model that can distinguish between the 10 test classes with seeing very little examples.\n",
        "First, let's load the dataset and visualize some examples."
      ]
    },
    {
      "cell_type": "code",
      "execution_count": 5,
      "id": "2a4a4c43",
      "metadata": {
        "execution": {
          "iopub.execute_input": "2021-10-10T16:36:29.603641Z",
          "iopub.status.busy": "2021-10-10T16:36:29.603170Z",
          "iopub.status.idle": "2021-10-10T16:36:34.357455Z",
          "shell.execute_reply": "2021-10-10T16:36:34.357029Z"
        },
        "papermill": {
          "duration": 4.793304,
          "end_time": "2021-10-10T16:36:34.357578",
          "exception": false,
          "start_time": "2021-10-10T16:36:29.564274",
          "status": "completed"
        },
        "tags": [],
        "id": "2a4a4c43",
        "outputId": "33fda524-89e2-4fc6-ec5b-919a6d7b31ac",
        "colab": {
          "referenced_widgets": [
            "0ce5ca76ff8d4aa6803bbaea67fe652c",
            "55b9f1c4310c4c5fbfb42821ed9fd70c",
            "ab0c6a8c97264faeb27c0878856b8a2d",
            "7636277dbdbd46f083fc010b92f1002d",
            "7168cd32cdc34b5e9b14d698e5a8fe5b",
            "806bdb25949246b0823872376f3d5071",
            "836ae6e1dca84a778f5b0cf520b53629",
            "c99ad060dd6e41748755fec88d837c8b",
            "bad52e3b311c4f6b8c7257674a749dc2",
            "898ed43b760347fabda8d9e7e09c7a59",
            "5aa2f18599b642d18c739427eea5226d"
          ],
          "base_uri": "https://localhost:8080/",
          "height": 103
        }
      },
      "outputs": [
        {
          "output_type": "stream",
          "name": "stdout",
          "text": [
            "Downloading https://www.cs.toronto.edu/~kriz/cifar-100-python.tar.gz to data/cifar-100-python.tar.gz\n"
          ]
        },
        {
          "output_type": "display_data",
          "data": {
            "text/plain": [
              "  0%|          | 0/169001437 [00:00<?, ?it/s]"
            ],
            "application/vnd.jupyter.widget-view+json": {
              "version_major": 2,
              "version_minor": 0,
              "model_id": "0ce5ca76ff8d4aa6803bbaea67fe652c"
            }
          },
          "metadata": {}
        },
        {
          "output_type": "stream",
          "name": "stdout",
          "text": [
            "Extracting data/cifar-100-python.tar.gz to data/\n",
            "Files already downloaded and verified\n"
          ]
        }
      ],
      "source": [
        "# Loading CIFAR100 dataset\n",
        "cifar_train_set = CIFAR100(root=DATASET_PATH, train=True, download=True, transform=transforms.ToTensor())\n",
        "cifar_test_set = CIFAR100(root=DATASET_PATH, train=False, download=True, transform=transforms.ToTensor())"
      ]
    },
    {
      "cell_type": "code",
      "execution_count": 6,
      "id": "89dcf2d2",
      "metadata": {
        "execution": {
          "iopub.execute_input": "2021-10-10T16:36:34.438125Z",
          "iopub.status.busy": "2021-10-10T16:36:34.437648Z",
          "iopub.status.idle": "2021-10-10T16:36:34.627198Z",
          "shell.execute_reply": "2021-10-10T16:36:34.627588Z"
        },
        "papermill": {
          "duration": 0.231715,
          "end_time": "2021-10-10T16:36:34.627730",
          "exception": false,
          "start_time": "2021-10-10T16:36:34.396015",
          "status": "completed"
        },
        "tags": [],
        "id": "89dcf2d2",
        "outputId": "3093966c-ae85-4edc-adbd-0b4bb0b3db44",
        "colab": {
          "base_uri": "https://localhost:8080/",
          "height": 262
        }
      },
      "outputs": [
        {
          "output_type": "display_data",
          "data": {
            "text/plain": [
              "<Figure size 576x576 with 1 Axes>"
            ],
            "image/svg+xml": "<?xml version=\"1.0\" encoding=\"utf-8\" standalone=\"no\"?>\n<!DOCTYPE svg PUBLIC \"-//W3C//DTD SVG 1.1//EN\"\n  \"http://www.w3.org/Graphics/SVG/1.1/DTD/svg11.dtd\">\n<!-- Created with matplotlib (https://matplotlib.org/) -->\n<svg height=\"181.207445pt\" version=\"1.1\" viewBox=\"0 0 460.8 181.207445\" width=\"460.8pt\" xmlns=\"http://www.w3.org/2000/svg\" xmlns:xlink=\"http://www.w3.org/1999/xlink\">\n <defs>\n  <style type=\"text/css\">\n*{stroke-linecap:butt;stroke-linejoin:round;}\n  </style>\n </defs>\n <g id=\"figure_1\">\n  <g id=\"patch_1\">\n   <path d=\"M 0 181.207445 \nL 460.8 181.207445 \nL 460.8 0 \nL 0 0 \nz\n\" style=\"fill:none;\"/>\n  </g>\n  <g id=\"axes_1\">\n   <g clip-path=\"url(#p9e862821a6)\">\n    <image height=\"152\" id=\"imagea9d54f74fe\" transform=\"scale(1 -1)translate(0 -152)\" width=\"447\" x=\"7.2\" xlink:href=\"data:image/png;base64,\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\" y=\"-22.007445\"/>\n   </g>\n   <g id=\"text_1\">\n    <!-- Examples of the CIFAR100 dataset -->\n    <defs>\n     <path d=\"M 9.8125 72.90625 \nL 55.90625 72.90625 \nL 55.90625 64.59375 \nL 19.671875 64.59375 \nL 19.671875 43.015625 \nL 54.390625 43.015625 \nL 54.390625 34.71875 \nL 19.671875 34.71875 \nL 19.671875 8.296875 \nL 56.78125 8.296875 \nL 56.78125 0 \nL 9.8125 0 \nz\n\" id=\"DejaVuSans-69\"/>\n     <path d=\"M 54.890625 54.6875 \nL 35.109375 28.078125 \nL 55.90625 0 \nL 45.3125 0 \nL 29.390625 21.484375 \nL 13.484375 0 \nL 2.875 0 \nL 24.125 28.609375 \nL 4.6875 54.6875 \nL 15.28125 54.6875 \nL 29.78125 35.203125 \nL 44.28125 54.6875 \nz\n\" id=\"DejaVuSans-120\"/>\n     <path d=\"M 34.28125 27.484375 \nQ 23.390625 27.484375 19.1875 25 \nQ 14.984375 22.515625 14.984375 16.5 \nQ 14.984375 11.71875 18.140625 8.90625 \nQ 21.296875 6.109375 26.703125 6.109375 \nQ 34.1875 6.109375 38.703125 11.40625 \nQ 43.21875 16.703125 43.21875 25.484375 \nL 43.21875 27.484375 \nz\nM 52.203125 31.203125 \nL 52.203125 0 \nL 43.21875 0 \nL 43.21875 8.296875 \nQ 40.140625 3.328125 35.546875 0.953125 \nQ 30.953125 -1.421875 24.3125 -1.421875 \nQ 15.921875 -1.421875 10.953125 3.296875 \nQ 6 8.015625 6 15.921875 \nQ 6 25.140625 12.171875 29.828125 \nQ 18.359375 34.515625 30.609375 34.515625 \nL 43.21875 34.515625 \nL 43.21875 35.40625 \nQ 43.21875 41.609375 39.140625 45 \nQ 35.0625 48.390625 27.6875 48.390625 \nQ 23 48.390625 18.546875 47.265625 \nQ 14.109375 46.140625 10.015625 43.890625 \nL 10.015625 52.203125 \nQ 14.9375 54.109375 19.578125 55.046875 \nQ 24.21875 56 28.609375 56 \nQ 40.484375 56 46.34375 49.84375 \nQ 52.203125 43.703125 52.203125 31.203125 \nz\n\" id=\"DejaVuSans-97\"/>\n     <path d=\"M 52 44.1875 \nQ 55.375 50.25 60.0625 53.125 \nQ 64.75 56 71.09375 56 \nQ 79.640625 56 84.28125 50.015625 \nQ 88.921875 44.046875 88.921875 33.015625 \nL 88.921875 0 \nL 79.890625 0 \nL 79.890625 32.71875 \nQ 79.890625 40.578125 77.09375 44.375 \nQ 74.3125 48.1875 68.609375 48.1875 \nQ 61.625 48.1875 57.5625 43.546875 \nQ 53.515625 38.921875 53.515625 30.90625 \nL 53.515625 0 \nL 44.484375 0 \nL 44.484375 32.71875 \nQ 44.484375 40.625 41.703125 44.40625 \nQ 38.921875 48.1875 33.109375 48.1875 \nQ 26.21875 48.1875 22.15625 43.53125 \nQ 18.109375 38.875 18.109375 30.90625 \nL 18.109375 0 \nL 9.078125 0 \nL 9.078125 54.6875 \nL 18.109375 54.6875 \nL 18.109375 46.1875 \nQ 21.1875 51.21875 25.484375 53.609375 \nQ 29.78125 56 35.6875 56 \nQ 41.65625 56 45.828125 52.96875 \nQ 50 49.953125 52 44.1875 \nz\n\" id=\"DejaVuSans-109\"/>\n     <path d=\"M 18.109375 8.203125 \nL 18.109375 -20.796875 \nL 9.078125 -20.796875 \nL 9.078125 54.6875 \nL 18.109375 54.6875 \nL 18.109375 46.390625 \nQ 20.953125 51.265625 25.265625 53.625 \nQ 29.59375 56 35.59375 56 \nQ 45.5625 56 51.78125 48.09375 \nQ 58.015625 40.1875 58.015625 27.296875 \nQ 58.015625 14.40625 51.78125 6.484375 \nQ 45.5625 -1.421875 35.59375 -1.421875 \nQ 29.59375 -1.421875 25.265625 0.953125 \nQ 20.953125 3.328125 18.109375 8.203125 \nz\nM 48.6875 27.296875 \nQ 48.6875 37.203125 44.609375 42.84375 \nQ 40.53125 48.484375 33.40625 48.484375 \nQ 26.265625 48.484375 22.1875 42.84375 \nQ 18.109375 37.203125 18.109375 27.296875 \nQ 18.109375 17.390625 22.1875 11.75 \nQ 26.265625 6.109375 33.40625 6.109375 \nQ 40.53125 6.109375 44.609375 11.75 \nQ 48.6875 17.390625 48.6875 27.296875 \nz\n\" id=\"DejaVuSans-112\"/>\n     <path d=\"M 9.421875 75.984375 \nL 18.40625 75.984375 \nL 18.40625 0 \nL 9.421875 0 \nz\n\" id=\"DejaVuSans-108\"/>\n     <path d=\"M 56.203125 29.59375 \nL 56.203125 25.203125 \nL 14.890625 25.203125 \nQ 15.484375 15.921875 20.484375 11.0625 \nQ 25.484375 6.203125 34.421875 6.203125 \nQ 39.59375 6.203125 44.453125 7.46875 \nQ 49.3125 8.734375 54.109375 11.28125 \nL 54.109375 2.78125 \nQ 49.265625 0.734375 44.1875 -0.34375 \nQ 39.109375 -1.421875 33.890625 -1.421875 \nQ 20.796875 -1.421875 13.15625 6.1875 \nQ 5.515625 13.8125 5.515625 26.8125 \nQ 5.515625 40.234375 12.765625 48.109375 \nQ 20.015625 56 32.328125 56 \nQ 43.359375 56 49.78125 48.890625 \nQ 56.203125 41.796875 56.203125 29.59375 \nz\nM 47.21875 32.234375 \nQ 47.125 39.59375 43.09375 43.984375 \nQ 39.0625 48.390625 32.421875 48.390625 \nQ 24.90625 48.390625 20.390625 44.140625 \nQ 15.875 39.890625 15.1875 32.171875 \nz\n\" id=\"DejaVuSans-101\"/>\n     <path d=\"M 44.28125 53.078125 \nL 44.28125 44.578125 \nQ 40.484375 46.53125 36.375 47.5 \nQ 32.28125 48.484375 27.875 48.484375 \nQ 21.1875 48.484375 17.84375 46.4375 \nQ 14.5 44.390625 14.5 40.28125 \nQ 14.5 37.15625 16.890625 35.375 \nQ 19.28125 33.59375 26.515625 31.984375 \nL 29.59375 31.296875 \nQ 39.15625 29.25 43.1875 25.515625 \nQ 47.21875 21.78125 47.21875 15.09375 \nQ 47.21875 7.46875 41.1875 3.015625 \nQ 35.15625 -1.421875 24.609375 -1.421875 \nQ 20.21875 -1.421875 15.453125 -0.5625 \nQ 10.6875 0.296875 5.421875 2 \nL 5.421875 11.28125 \nQ 10.40625 8.6875 15.234375 7.390625 \nQ 20.0625 6.109375 24.8125 6.109375 \nQ 31.15625 6.109375 34.5625 8.28125 \nQ 37.984375 10.453125 37.984375 14.40625 \nQ 37.984375 18.0625 35.515625 20.015625 \nQ 33.0625 21.96875 24.703125 23.78125 \nL 21.578125 24.515625 \nQ 13.234375 26.265625 9.515625 29.90625 \nQ 5.8125 33.546875 5.8125 39.890625 \nQ 5.8125 47.609375 11.28125 51.796875 \nQ 16.75 56 26.8125 56 \nQ 31.78125 56 36.171875 55.265625 \nQ 40.578125 54.546875 44.28125 53.078125 \nz\n\" id=\"DejaVuSans-115\"/>\n     <path id=\"DejaVuSans-32\"/>\n     <path d=\"M 30.609375 48.390625 \nQ 23.390625 48.390625 19.1875 42.75 \nQ 14.984375 37.109375 14.984375 27.296875 \nQ 14.984375 17.484375 19.15625 11.84375 \nQ 23.34375 6.203125 30.609375 6.203125 \nQ 37.796875 6.203125 41.984375 11.859375 \nQ 46.1875 17.53125 46.1875 27.296875 \nQ 46.1875 37.015625 41.984375 42.703125 \nQ 37.796875 48.390625 30.609375 48.390625 \nz\nM 30.609375 56 \nQ 42.328125 56 49.015625 48.375 \nQ 55.71875 40.765625 55.71875 27.296875 \nQ 55.71875 13.875 49.015625 6.21875 \nQ 42.328125 -1.421875 30.609375 -1.421875 \nQ 18.84375 -1.421875 12.171875 6.21875 \nQ 5.515625 13.875 5.515625 27.296875 \nQ 5.515625 40.765625 12.171875 48.375 \nQ 18.84375 56 30.609375 56 \nz\n\" id=\"DejaVuSans-111\"/>\n     <path d=\"M 37.109375 75.984375 \nL 37.109375 68.5 \nL 28.515625 68.5 \nQ 23.6875 68.5 21.796875 66.546875 \nQ 19.921875 64.59375 19.921875 59.515625 \nL 19.921875 54.6875 \nL 34.71875 54.6875 \nL 34.71875 47.703125 \nL 19.921875 47.703125 \nL 19.921875 0 \nL 10.890625 0 \nL 10.890625 47.703125 \nL 2.296875 47.703125 \nL 2.296875 54.6875 \nL 10.890625 54.6875 \nL 10.890625 58.5 \nQ 10.890625 67.625 15.140625 71.796875 \nQ 19.390625 75.984375 28.609375 75.984375 \nz\n\" id=\"DejaVuSans-102\"/>\n     <path d=\"M 18.3125 70.21875 \nL 18.3125 54.6875 \nL 36.8125 54.6875 \nL 36.8125 47.703125 \nL 18.3125 47.703125 \nL 18.3125 18.015625 \nQ 18.3125 11.328125 20.140625 9.421875 \nQ 21.96875 7.515625 27.59375 7.515625 \nL 36.8125 7.515625 \nL 36.8125 0 \nL 27.59375 0 \nQ 17.1875 0 13.234375 3.875 \nQ 9.28125 7.765625 9.28125 18.015625 \nL 9.28125 47.703125 \nL 2.6875 47.703125 \nL 2.6875 54.6875 \nL 9.28125 54.6875 \nL 9.28125 70.21875 \nz\n\" id=\"DejaVuSans-116\"/>\n     <path d=\"M 54.890625 33.015625 \nL 54.890625 0 \nL 45.90625 0 \nL 45.90625 32.71875 \nQ 45.90625 40.484375 42.875 44.328125 \nQ 39.84375 48.1875 33.796875 48.1875 \nQ 26.515625 48.1875 22.3125 43.546875 \nQ 18.109375 38.921875 18.109375 30.90625 \nL 18.109375 0 \nL 9.078125 0 \nL 9.078125 75.984375 \nL 18.109375 75.984375 \nL 18.109375 46.1875 \nQ 21.34375 51.125 25.703125 53.5625 \nQ 30.078125 56 35.796875 56 \nQ 45.21875 56 50.046875 50.171875 \nQ 54.890625 44.34375 54.890625 33.015625 \nz\n\" id=\"DejaVuSans-104\"/>\n     <path d=\"M 64.40625 67.28125 \nL 64.40625 56.890625 \nQ 59.421875 61.53125 53.78125 63.8125 \nQ 48.140625 66.109375 41.796875 66.109375 \nQ 29.296875 66.109375 22.65625 58.46875 \nQ 16.015625 50.828125 16.015625 36.375 \nQ 16.015625 21.96875 22.65625 14.328125 \nQ 29.296875 6.6875 41.796875 6.6875 \nQ 48.140625 6.6875 53.78125 8.984375 \nQ 59.421875 11.28125 64.40625 15.921875 \nL 64.40625 5.609375 \nQ 59.234375 2.09375 53.4375 0.328125 \nQ 47.65625 -1.421875 41.21875 -1.421875 \nQ 24.65625 -1.421875 15.125 8.703125 \nQ 5.609375 18.84375 5.609375 36.375 \nQ 5.609375 53.953125 15.125 64.078125 \nQ 24.65625 74.21875 41.21875 74.21875 \nQ 47.75 74.21875 53.53125 72.484375 \nQ 59.328125 70.75 64.40625 67.28125 \nz\n\" id=\"DejaVuSans-67\"/>\n     <path d=\"M 9.8125 72.90625 \nL 19.671875 72.90625 \nL 19.671875 0 \nL 9.8125 0 \nz\n\" id=\"DejaVuSans-73\"/>\n     <path d=\"M 9.8125 72.90625 \nL 51.703125 72.90625 \nL 51.703125 64.59375 \nL 19.671875 64.59375 \nL 19.671875 43.109375 \nL 48.578125 43.109375 \nL 48.578125 34.8125 \nL 19.671875 34.8125 \nL 19.671875 0 \nL 9.8125 0 \nz\n\" id=\"DejaVuSans-70\"/>\n     <path d=\"M 34.1875 63.1875 \nL 20.796875 26.90625 \nL 47.609375 26.90625 \nz\nM 28.609375 72.90625 \nL 39.796875 72.90625 \nL 67.578125 0 \nL 57.328125 0 \nL 50.6875 18.703125 \nL 17.828125 18.703125 \nL 11.1875 0 \nL 0.78125 0 \nz\n\" id=\"DejaVuSans-65\"/>\n     <path d=\"M 44.390625 34.1875 \nQ 47.5625 33.109375 50.5625 29.59375 \nQ 53.5625 26.078125 56.59375 19.921875 \nL 66.609375 0 \nL 56 0 \nL 46.6875 18.703125 \nQ 43.0625 26.03125 39.671875 28.421875 \nQ 36.28125 30.8125 30.421875 30.8125 \nL 19.671875 30.8125 \nL 19.671875 0 \nL 9.8125 0 \nL 9.8125 72.90625 \nL 32.078125 72.90625 \nQ 44.578125 72.90625 50.734375 67.671875 \nQ 56.890625 62.453125 56.890625 51.90625 \nQ 56.890625 45.015625 53.6875 40.46875 \nQ 50.484375 35.9375 44.390625 34.1875 \nz\nM 19.671875 64.796875 \nL 19.671875 38.921875 \nL 32.078125 38.921875 \nQ 39.203125 38.921875 42.84375 42.21875 \nQ 46.484375 45.515625 46.484375 51.90625 \nQ 46.484375 58.296875 42.84375 61.546875 \nQ 39.203125 64.796875 32.078125 64.796875 \nz\n\" id=\"DejaVuSans-82\"/>\n     <path d=\"M 12.40625 8.296875 \nL 28.515625 8.296875 \nL 28.515625 63.921875 \nL 10.984375 60.40625 \nL 10.984375 69.390625 \nL 28.421875 72.90625 \nL 38.28125 72.90625 \nL 38.28125 8.296875 \nL 54.390625 8.296875 \nL 54.390625 0 \nL 12.40625 0 \nz\n\" id=\"DejaVuSans-49\"/>\n     <path d=\"M 31.78125 66.40625 \nQ 24.171875 66.40625 20.328125 58.90625 \nQ 16.5 51.421875 16.5 36.375 \nQ 16.5 21.390625 20.328125 13.890625 \nQ 24.171875 6.390625 31.78125 6.390625 \nQ 39.453125 6.390625 43.28125 13.890625 \nQ 47.125 21.390625 47.125 36.375 \nQ 47.125 51.421875 43.28125 58.90625 \nQ 39.453125 66.40625 31.78125 66.40625 \nz\nM 31.78125 74.21875 \nQ 44.046875 74.21875 50.515625 64.515625 \nQ 56.984375 54.828125 56.984375 36.375 \nQ 56.984375 17.96875 50.515625 8.265625 \nQ 44.046875 -1.421875 31.78125 -1.421875 \nQ 19.53125 -1.421875 13.0625 8.265625 \nQ 6.59375 17.96875 6.59375 36.375 \nQ 6.59375 54.828125 13.0625 64.515625 \nQ 19.53125 74.21875 31.78125 74.21875 \nz\n\" id=\"DejaVuSans-48\"/>\n     <path d=\"M 45.40625 46.390625 \nL 45.40625 75.984375 \nL 54.390625 75.984375 \nL 54.390625 0 \nL 45.40625 0 \nL 45.40625 8.203125 \nQ 42.578125 3.328125 38.25 0.953125 \nQ 33.9375 -1.421875 27.875 -1.421875 \nQ 17.96875 -1.421875 11.734375 6.484375 \nQ 5.515625 14.40625 5.515625 27.296875 \nQ 5.515625 40.1875 11.734375 48.09375 \nQ 17.96875 56 27.875 56 \nQ 33.9375 56 38.25 53.625 \nQ 42.578125 51.265625 45.40625 46.390625 \nz\nM 14.796875 27.296875 \nQ 14.796875 17.390625 18.875 11.75 \nQ 22.953125 6.109375 30.078125 6.109375 \nQ 37.203125 6.109375 41.296875 11.75 \nQ 45.40625 17.390625 45.40625 27.296875 \nQ 45.40625 37.203125 41.296875 42.84375 \nQ 37.203125 48.484375 30.078125 48.484375 \nQ 22.953125 48.484375 18.875 42.84375 \nQ 14.796875 37.203125 14.796875 27.296875 \nz\n\" id=\"DejaVuSans-100\"/>\n    </defs>\n    <g transform=\"translate(126.711562 16.318125)scale(0.12 -0.12)\">\n     <use xlink:href=\"#DejaVuSans-69\"/>\n     <use x=\"63.183594\" xlink:href=\"#DejaVuSans-120\"/>\n     <use x=\"122.363281\" xlink:href=\"#DejaVuSans-97\"/>\n     <use x=\"183.642578\" xlink:href=\"#DejaVuSans-109\"/>\n     <use x=\"281.054688\" xlink:href=\"#DejaVuSans-112\"/>\n     <use x=\"344.53125\" xlink:href=\"#DejaVuSans-108\"/>\n     <use x=\"372.314453\" xlink:href=\"#DejaVuSans-101\"/>\n     <use x=\"433.837891\" xlink:href=\"#DejaVuSans-115\"/>\n     <use x=\"485.9375\" xlink:href=\"#DejaVuSans-32\"/>\n     <use x=\"517.724609\" xlink:href=\"#DejaVuSans-111\"/>\n     <use x=\"578.90625\" xlink:href=\"#DejaVuSans-102\"/>\n     <use x=\"614.111328\" xlink:href=\"#DejaVuSans-32\"/>\n     <use x=\"645.898438\" xlink:href=\"#DejaVuSans-116\"/>\n     <use x=\"685.107422\" xlink:href=\"#DejaVuSans-104\"/>\n     <use x=\"748.486328\" xlink:href=\"#DejaVuSans-101\"/>\n     <use x=\"810.009766\" xlink:href=\"#DejaVuSans-32\"/>\n     <use x=\"841.796875\" xlink:href=\"#DejaVuSans-67\"/>\n     <use x=\"911.621094\" xlink:href=\"#DejaVuSans-73\"/>\n     <use x=\"941.113281\" xlink:href=\"#DejaVuSans-70\"/>\n     <use x=\"989.507812\" xlink:href=\"#DejaVuSans-65\"/>\n     <use x=\"1057.916016\" xlink:href=\"#DejaVuSans-82\"/>\n     <use x=\"1127.398438\" xlink:href=\"#DejaVuSans-49\"/>\n     <use x=\"1191.021484\" xlink:href=\"#DejaVuSans-48\"/>\n     <use x=\"1254.644531\" xlink:href=\"#DejaVuSans-48\"/>\n     <use x=\"1318.267578\" xlink:href=\"#DejaVuSans-32\"/>\n     <use x=\"1350.054688\" xlink:href=\"#DejaVuSans-100\"/>\n     <use x=\"1413.53125\" xlink:href=\"#DejaVuSans-97\"/>\n     <use x=\"1474.810547\" xlink:href=\"#DejaVuSans-116\"/>\n     <use x=\"1514.019531\" xlink:href=\"#DejaVuSans-97\"/>\n     <use x=\"1575.298828\" xlink:href=\"#DejaVuSans-115\"/>\n     <use x=\"1627.398438\" xlink:href=\"#DejaVuSans-101\"/>\n     <use x=\"1688.921875\" xlink:href=\"#DejaVuSans-116\"/>\n    </g>\n   </g>\n  </g>\n </g>\n <defs>\n  <clipPath id=\"p9e862821a6\">\n   <rect height=\"151.68932\" width=\"446.4\" x=\"7.2\" y=\"22.318125\"/>\n  </clipPath>\n </defs>\n</svg>\n",
            "application/pdf": "[encoded data removed]"
          },
          "metadata": {
            "needs_background": "light"
          }
        }
      ],
      "source": [
        "# Visualize some examples\n",
        "NUM_IMAGES = 12\n",
        "cifar_images = [cifar_train_set[np.random.randint(len(cifar_train_set))][0] for idx in range(NUM_IMAGES)]\n",
        "cifar_images = torch.stack(cifar_images, dim=0)\n",
        "img_grid = torchvision.utils.make_grid(cifar_images, nrow=6, normalize=True, pad_value=0.9)\n",
        "img_grid = img_grid.permute(1, 2, 0)\n",
        "\n",
        "plt.figure(figsize=(8, 8))\n",
        "plt.title(\"Examples of the CIFAR100 dataset\")\n",
        "plt.imshow(img_grid)\n",
        "plt.axis(\"off\")\n",
        "plt.show()\n",
        "plt.close()"
      ]
    },
    {
      "cell_type": "markdown",
      "id": "6393f96b",
      "metadata": {
        "papermill": {
          "duration": 0.041466,
          "end_time": "2021-10-10T16:36:34.711913",
          "exception": false,
          "start_time": "2021-10-10T16:36:34.670447",
          "status": "completed"
        },
        "tags": [],
        "id": "6393f96b"
      },
      "source": [
        "## Data preprocessing\n",
        "\n",
        "Next, we need to prepare the dataset in the training, validation and test split as mentioned before.\n",
        "The torchvision package gives us the training and test set as two separate dataset objects.\n",
        "The next code cells will merge the original training and test set, and then create the new train-val-test split."
      ]
    },
    {
      "cell_type": "code",
      "execution_count": 7,
      "id": "ce60f407",
      "metadata": {
        "execution": {
          "iopub.execute_input": "2021-10-10T16:36:34.798013Z",
          "iopub.status.busy": "2021-10-10T16:36:34.797539Z",
          "iopub.status.idle": "2021-10-10T16:36:34.875295Z",
          "shell.execute_reply": "2021-10-10T16:36:34.875698Z"
        },
        "papermill": {
          "duration": 0.122697,
          "end_time": "2021-10-10T16:36:34.875846",
          "exception": false,
          "start_time": "2021-10-10T16:36:34.753149",
          "status": "completed"
        },
        "tags": [],
        "id": "ce60f407"
      },
      "outputs": [],
      "source": [
        "# Merging original training and test set\n",
        "cifar_all_images = np.concatenate([cifar_train_set.data, cifar_test_set.data], axis=0)\n",
        "cifar_all_targets = torch.LongTensor(cifar_train_set.targets + cifar_test_set.targets)"
      ]
    },
    {
      "cell_type": "markdown",
      "id": "3f939d72",
      "metadata": {
        "lines_to_next_cell": 2,
        "papermill": {
          "duration": 0.040873,
          "end_time": "2021-10-10T16:36:34.959229",
          "exception": false,
          "start_time": "2021-10-10T16:36:34.918356",
          "status": "completed"
        },
        "tags": [],
        "id": "3f939d72"
      },
      "source": [
        "To have an easier time handling the dataset, we define our own, simple dataset class below.\n",
        "It takes a set of images, labels/targets, and image transformations, and\n",
        "returns the corresponding images and labels element-wise."
      ]
    },
    {
      "cell_type": "code",
      "execution_count": 8,
      "id": "83d1fcac",
      "metadata": {
        "execution": {
          "iopub.execute_input": "2021-10-10T16:36:35.051943Z",
          "iopub.status.busy": "2021-10-10T16:36:35.051455Z",
          "iopub.status.idle": "2021-10-10T16:36:35.053594Z",
          "shell.execute_reply": "2021-10-10T16:36:35.053130Z"
        },
        "papermill": {
          "duration": 0.053299,
          "end_time": "2021-10-10T16:36:35.053692",
          "exception": false,
          "start_time": "2021-10-10T16:36:35.000393",
          "status": "completed"
        },
        "tags": [],
        "id": "83d1fcac"
      },
      "outputs": [],
      "source": [
        "class ImageDataset(data.Dataset):\n",
        "    def __init__(self, imgs, targets, img_transform=None):\n",
        "        \"\"\"\n",
        "        Inputs:\n",
        "            imgs - Numpy array of shape [N,32,32,3] containing all images.\n",
        "            targets - PyTorch array of shape [N] containing all labels.\n",
        "            img_transform - A torchvision transformation that should be applied\n",
        "                            to the images before returning. If none, no transformation\n",
        "                            is applied.\n",
        "        \"\"\"\n",
        "        super().__init__()\n",
        "        self.img_transform = img_transform\n",
        "        self.imgs = imgs\n",
        "        self.targets = targets\n",
        "\n",
        "    def __getitem__(self, idx):\n",
        "        img, target = self.imgs[idx], self.targets[idx]\n",
        "        img = Image.fromarray(img)\n",
        "\n",
        "        if self.img_transform is not None:\n",
        "            img = self.img_transform(img)\n",
        "\n",
        "        return img, target\n",
        "\n",
        "    def __len__(self):\n",
        "        return self.imgs.shape[0]"
      ]
    },
    {
      "cell_type": "markdown",
      "id": "8afc6b05",
      "metadata": {
        "papermill": {
          "duration": 0.041697,
          "end_time": "2021-10-10T16:36:35.136827",
          "exception": false,
          "start_time": "2021-10-10T16:36:35.095130",
          "status": "completed"
        },
        "tags": [],
        "id": "8afc6b05"
      },
      "source": [
        "Now, we can create the class splits.\n",
        "We will assign the classes randomly to training, validation and test, and use a 80%-10%-10% split."
      ]
    },
    {
      "cell_type": "code",
      "execution_count": 9,
      "id": "5ff3abd6",
      "metadata": {
        "execution": {
          "iopub.execute_input": "2021-10-10T16:36:35.223236Z",
          "iopub.status.busy": "2021-10-10T16:36:35.222768Z",
          "iopub.status.idle": "2021-10-10T16:36:35.226508Z",
          "shell.execute_reply": "2021-10-10T16:36:35.226037Z"
        },
        "papermill": {
          "duration": 0.048464,
          "end_time": "2021-10-10T16:36:35.226609",
          "exception": false,
          "start_time": "2021-10-10T16:36:35.178145",
          "status": "completed"
        },
        "tags": [],
        "id": "5ff3abd6",
        "outputId": "c817f76b-72f7-485e-f590-31894a948cae",
        "colab": {
          "base_uri": "https://localhost:8080/"
        }
      },
      "outputs": [
        {
          "output_type": "stream",
          "name": "stderr",
          "text": [
            "INFO:pytorch_lightning.utilities.seed:Global seed set to 0\n"
          ]
        }
      ],
      "source": [
        "pl.seed_everything(0)  # Set seed for reproducibility\n",
        "classes = torch.randperm(100)  # Returns random permutation of numbers 0 to 99\n",
        "train_classes, val_classes, test_classes = classes[:80], classes[80:90], classes[90:]"
      ]
    },
    {
      "cell_type": "markdown",
      "id": "32cdc6d7",
      "metadata": {
        "papermill": {
          "duration": 0.042958,
          "end_time": "2021-10-10T16:36:35.311335",
          "exception": false,
          "start_time": "2021-10-10T16:36:35.268377",
          "status": "completed"
        },
        "tags": [],
        "id": "32cdc6d7"
      },
      "source": [
        "To get an intuition of the validation and test classes, we print the class names below:"
      ]
    },
    {
      "cell_type": "code",
      "execution_count": 10,
      "id": "3ba456f9",
      "metadata": {
        "execution": {
          "iopub.execute_input": "2021-10-10T16:36:35.405497Z",
          "iopub.status.busy": "2021-10-10T16:36:35.405025Z",
          "iopub.status.idle": "2021-10-10T16:36:35.408515Z",
          "shell.execute_reply": "2021-10-10T16:36:35.408107Z"
        },
        "papermill": {
          "duration": 0.052713,
          "end_time": "2021-10-10T16:36:35.408617",
          "exception": false,
          "start_time": "2021-10-10T16:36:35.355904",
          "status": "completed"
        },
        "tags": [],
        "id": "3ba456f9",
        "outputId": "dc1be21e-e011-4b7b-f37a-f0a63086df33",
        "colab": {
          "base_uri": "https://localhost:8080/"
        }
      },
      "outputs": [
        {
          "output_type": "stream",
          "name": "stdout",
          "text": [
            "Validation classes: ['caterpillar', 'castle', 'skunk', 'ray', 'bus', 'motorcycle', 'keyboard', 'chimpanzee', 'possum', 'tiger']\n",
            "Test classes: ['kangaroo', 'crocodile', 'butterfly', 'shark', 'forest', 'pickup_truck', 'telephone', 'lion', 'worm', 'mushroom']\n"
          ]
        }
      ],
      "source": [
        "# Printing validation and test classes\n",
        "idx_to_class = {val: key for key, val in cifar_train_set.class_to_idx.items()}\n",
        "print(\"Validation classes:\", [idx_to_class[c.item()] for c in val_classes])\n",
        "print(\"Test classes:\", [idx_to_class[c.item()] for c in test_classes])"
      ]
    },
    {
      "cell_type": "markdown",
      "id": "ce1f7d09",
      "metadata": {
        "lines_to_next_cell": 2,
        "papermill": {
          "duration": 0.041936,
          "end_time": "2021-10-10T16:36:35.493337",
          "exception": false,
          "start_time": "2021-10-10T16:36:35.451401",
          "status": "completed"
        },
        "tags": [],
        "id": "ce1f7d09"
      },
      "source": [
        "As we can see, the classes have quite some variety and some classes might be easier to distinguish than others.\n",
        "\n",
        "Finally, we can create the training, validation and test dataset according to our split above.\n",
        "For this, we create dataset objects of our previously defined class `ImageDataset`."
      ]
    },
    {
      "cell_type": "code",
      "execution_count": 11,
      "id": "32f068d1",
      "metadata": {
        "execution": {
          "iopub.execute_input": "2021-10-10T16:36:35.581555Z",
          "iopub.status.busy": "2021-10-10T16:36:35.581087Z",
          "iopub.status.idle": "2021-10-10T16:36:35.583171Z",
          "shell.execute_reply": "2021-10-10T16:36:35.582711Z"
        },
        "papermill": {
          "duration": 0.04763,
          "end_time": "2021-10-10T16:36:35.583269",
          "exception": false,
          "start_time": "2021-10-10T16:36:35.535639",
          "status": "completed"
        },
        "tags": [],
        "id": "32f068d1"
      },
      "outputs": [],
      "source": [
        "def dataset_from_labels(imgs, targets, class_set, **kwargs):\n",
        "    class_mask = (targets[:, None] == class_set[None, :]).any(dim=-1)\n",
        "    return ImageDataset(imgs=imgs[class_mask], targets=targets[class_mask], **kwargs)"
      ]
    },
    {
      "cell_type": "markdown",
      "id": "e8d4fb26",
      "metadata": {
        "papermill": {
          "duration": 0.041782,
          "end_time": "2021-10-10T16:36:35.667114",
          "exception": false,
          "start_time": "2021-10-10T16:36:35.625332",
          "status": "completed"
        },
        "tags": [],
        "id": "e8d4fb26"
      },
      "source": [
        "Here, we are normalizing the dataset and use small augmentations during training to prevent overfitting."
      ]
    },
    {
      "cell_type": "code",
      "execution_count": 12,
      "id": "25bb398a",
      "metadata": {
        "execution": {
          "iopub.execute_input": "2021-10-10T16:36:35.757452Z",
          "iopub.status.busy": "2021-10-10T16:36:35.756975Z",
          "iopub.status.idle": "2021-10-10T16:36:38.059891Z",
          "shell.execute_reply": "2021-10-10T16:36:38.059376Z"
        },
        "papermill": {
          "duration": 2.350192,
          "end_time": "2021-10-10T16:36:38.060028",
          "exception": false,
          "start_time": "2021-10-10T16:36:35.709836",
          "status": "completed"
        },
        "tags": [],
        "id": "25bb398a"
      },
      "outputs": [],
      "source": [
        "DATA_MEANS = (cifar_train_set.data / 255.0).mean(axis=(0, 1, 2))\n",
        "DATA_STD = (cifar_train_set.data / 255.0).std(axis=(0, 1, 2))\n",
        "\n",
        "test_transform = transforms.Compose([transforms.ToTensor(), transforms.Normalize(DATA_MEANS, DATA_STD)])\n",
        "# For training, we add some augmentation.\n",
        "train_transform = transforms.Compose(\n",
        "    [\n",
        "        transforms.RandomHorizontalFlip(),\n",
        "        transforms.RandomResizedCrop((32, 32), scale=(0.8, 1.0), ratio=(0.9, 1.1)),\n",
        "        transforms.ToTensor(),\n",
        "        transforms.Normalize(DATA_MEANS, DATA_STD),\n",
        "    ]\n",
        ")\n",
        "\n",
        "train_set = dataset_from_labels(cifar_all_images, cifar_all_targets, train_classes, img_transform=train_transform)\n",
        "val_set = dataset_from_labels(cifar_all_images, cifar_all_targets, val_classes, img_transform=test_transform)\n",
        "test_set = dataset_from_labels(cifar_all_images, cifar_all_targets, test_classes, img_transform=test_transform)"
      ]
    },
    {
      "cell_type": "markdown",
      "id": "3456a8f9",
      "metadata": {
        "lines_to_next_cell": 2,
        "papermill": {
          "duration": 0.042069,
          "end_time": "2021-10-10T16:36:38.145286",
          "exception": false,
          "start_time": "2021-10-10T16:36:38.103217",
          "status": "completed"
        },
        "tags": [],
        "id": "3456a8f9"
      },
      "source": [
        "## Data sampling"
      ]
    },
    {
      "cell_type": "code",
      "execution_count": 13,
      "id": "c0bad2d9",
      "metadata": {
        "execution": {
          "iopub.execute_input": "2021-10-10T16:36:38.237449Z",
          "iopub.status.busy": "2021-10-10T16:36:38.236947Z",
          "iopub.status.idle": "2021-10-10T16:36:38.243012Z",
          "shell.execute_reply": "2021-10-10T16:36:38.242609Z"
        },
        "papermill": {
          "duration": 0.055637,
          "end_time": "2021-10-10T16:36:38.243112",
          "exception": false,
          "start_time": "2021-10-10T16:36:38.187475",
          "status": "completed"
        },
        "tags": [],
        "id": "c0bad2d9"
      },
      "outputs": [],
      "source": [
        "class FewShotBatchSampler:\n",
        "    def __init__(self, dataset_targets, N_way, K_shot, include_query=False, shuffle=True, shuffle_once=False):\n",
        "        \"\"\"\n",
        "        Inputs:\n",
        "            dataset_targets - PyTorch tensor of the labels of the data elements.\n",
        "            N_way - Number of classes to sample per batch.\n",
        "            K_shot - Number of examples to sample per class in the batch.\n",
        "            include_query - If True, returns batch of size N_way*K_shot*2, which\n",
        "                            can be split into support and query set. Simplifies\n",
        "                            the implementation of sampling the same classes but\n",
        "                            distinct examples for support and query set.\n",
        "            shuffle - If True, examples and classes are newly shuffled in each\n",
        "                      iteration (for training)\n",
        "            shuffle_once - If True, examples and classes are shuffled once in\n",
        "                           the beginning, but kept constant across iterations\n",
        "                           (for validation)\n",
        "        \"\"\"\n",
        "        super().__init__()\n",
        "        self.dataset_targets = dataset_targets\n",
        "        self.N_way = N_way\n",
        "        self.K_shot = K_shot\n",
        "        self.shuffle = shuffle\n",
        "        self.include_query = include_query\n",
        "        if self.include_query:\n",
        "            self.K_shot *= 2\n",
        "        self.batch_size = self.N_way * self.K_shot  # Number of overall images per batch\n",
        "\n",
        "        # Organize examples by class\n",
        "        self.classes = torch.unique(self.dataset_targets).tolist()\n",
        "        self.num_classes = len(self.classes)\n",
        "        self.indices_per_class = {}\n",
        "        self.batches_per_class = {}  # Number of K-shot batches that each class can provide\n",
        "        for c in self.classes:\n",
        "            self.indices_per_class[c] = torch.where(self.dataset_targets == c)[0]\n",
        "            self.batches_per_class[c] = self.indices_per_class[c].shape[0] // self.K_shot\n",
        "\n",
        "        # Create a list of classes from which we select the N classes per batch\n",
        "        self.iterations = sum(self.batches_per_class.values()) // self.N_way\n",
        "        self.class_list = [c for c in self.classes for _ in range(self.batches_per_class[c])]\n",
        "        if shuffle_once or self.shuffle:\n",
        "            self.shuffle_data()\n",
        "        else:\n",
        "            # For testing, we iterate over classes instead of shuffling them\n",
        "            sort_idxs = [\n",
        "                i + p * self.num_classes for i, c in enumerate(self.classes) for p in range(self.batches_per_class[c])\n",
        "            ]\n",
        "            self.class_list = np.array(self.class_list)[np.argsort(sort_idxs)].tolist()\n",
        "\n",
        "    def shuffle_data(self):\n",
        "        # Shuffle the examples per class\n",
        "        for c in self.classes:\n",
        "            perm = torch.randperm(self.indices_per_class[c].shape[0])\n",
        "            self.indices_per_class[c] = self.indices_per_class[c][perm]\n",
        "        # Shuffle the class list from which we sample. Note that this way of shuffling\n",
        "        # does not prevent to choose the same class twice in a batch. However, for\n",
        "        # training and validation, this is not a problem.\n",
        "        random.shuffle(self.class_list)\n",
        "\n",
        "    def __iter__(self):\n",
        "        # Shuffle data\n",
        "        if self.shuffle:\n",
        "            self.shuffle_data()\n",
        "\n",
        "        # Sample few-shot batches\n",
        "        start_index = defaultdict(int)\n",
        "        for it in range(self.iterations):\n",
        "            class_batch = self.class_list[it * self.N_way : (it + 1) * self.N_way]  # Select N classes for the batch\n",
        "            index_batch = []\n",
        "            for c in class_batch:  # For each class, select the next K examples and add them to the batch\n",
        "                index_batch.extend(self.indices_per_class[c][start_index[c] : start_index[c] + self.K_shot])\n",
        "                start_index[c] += self.K_shot\n",
        "            if self.include_query:  # If we return support+query set, sort them so that they are easy to split\n",
        "                index_batch = index_batch[::2] + index_batch[1::2]\n",
        "            yield index_batch\n",
        "\n",
        "    def __len__(self):\n",
        "        return self.iterations"
      ]
    },
    {
      "cell_type": "markdown",
      "id": "966baf43",
      "metadata": {
        "papermill": {
          "duration": 0.041981,
          "end_time": "2021-10-10T16:36:38.327241",
          "exception": false,
          "start_time": "2021-10-10T16:36:38.285260",
          "status": "completed"
        },
        "tags": [],
        "id": "966baf43"
      },
      "source": [
        "Now, we can create our intended data loaders by passing an object of `FewShotBatchSampler` as `batch_sampler=...` input to the PyTorch data loader object.\n",
        "we will use a 5-class 4-shot training setting.\n",
        "This means that each support set contains 5 classes with 4 examples each, i.e., 20 images overall."
      ]
    },
    {
      "cell_type": "code",
      "execution_count": 14,
      "id": "6e5eee4a",
      "metadata": {
        "execution": {
          "iopub.execute_input": "2021-10-10T16:36:38.415592Z",
          "iopub.status.busy": "2021-10-10T16:36:38.415120Z",
          "iopub.status.idle": "2021-10-10T16:36:38.437251Z",
          "shell.execute_reply": "2021-10-10T16:36:38.436842Z"
        },
        "papermill": {
          "duration": 0.068099,
          "end_time": "2021-10-10T16:36:38.437354",
          "exception": false,
          "start_time": "2021-10-10T16:36:38.369255",
          "status": "completed"
        },
        "tags": [],
        "id": "6e5eee4a",
        "colab": {
          "base_uri": "https://localhost:8080/"
        },
        "outputId": "888d57fb-7b4c-43a8-feac-331cc3d0c55e"
      },
      "outputs": [
        {
          "output_type": "stream",
          "name": "stderr",
          "text": [
            "/usr/local/lib/python3.7/dist-packages/torch/utils/data/dataloader.py:481: UserWarning: This DataLoader will create 4 worker processes in total. Our suggested max number of worker in current system is 2, which is smaller than what this DataLoader is going to create. Please be aware that excessive worker creation might get DataLoader running slow or even freeze, lower the worker number to avoid potential slowness/freeze if necessary.\n",
            "  cpuset_checked))\n"
          ]
        }
      ],
      "source": [
        "N_WAY = 5\n",
        "K_SHOT = 4\n",
        "train_data_loader = data.DataLoader(\n",
        "    train_set,\n",
        "    batch_sampler=FewShotBatchSampler(train_set.targets, include_query=True, N_way=N_WAY, K_shot=K_SHOT, shuffle=True),\n",
        "    num_workers=4,\n",
        ")\n",
        "val_data_loader = data.DataLoader(\n",
        "    val_set,\n",
        "    batch_sampler=FewShotBatchSampler(\n",
        "        val_set.targets, include_query=True, N_way=N_WAY, K_shot=K_SHOT, shuffle=False, shuffle_once=True\n",
        "    ),\n",
        "    num_workers=4,\n",
        ")"
      ]
    },
    {
      "cell_type": "markdown",
      "id": "3105a10e",
      "metadata": {
        "lines_to_next_cell": 2,
        "papermill": {
          "duration": 0.042422,
          "end_time": "2021-10-10T16:36:38.521966",
          "exception": false,
          "start_time": "2021-10-10T16:36:38.479544",
          "status": "completed"
        },
        "tags": [],
        "id": "3105a10e"
      },
      "source": [
        "For simplicity, we implemented the sampling of a support and query set as sampling a support set with twice the number of examples.\n",
        "After sampling a batch from the data loader, we need to split it into a support and query set.\n",
        "We can summarize this step in the following function:"
      ]
    },
    {
      "cell_type": "code",
      "execution_count": 15,
      "id": "928a254e",
      "metadata": {
        "execution": {
          "iopub.execute_input": "2021-10-10T16:36:38.609800Z",
          "iopub.status.busy": "2021-10-10T16:36:38.608312Z",
          "iopub.status.idle": "2021-10-10T16:36:38.611864Z",
          "shell.execute_reply": "2021-10-10T16:36:38.611397Z"
        },
        "papermill": {
          "duration": 0.048021,
          "end_time": "2021-10-10T16:36:38.611980",
          "exception": false,
          "start_time": "2021-10-10T16:36:38.563959",
          "status": "completed"
        },
        "tags": [],
        "id": "928a254e"
      },
      "outputs": [],
      "source": [
        "def split_batch(imgs, targets):\n",
        "    support_imgs, query_imgs = imgs.chunk(2, dim=0)\n",
        "    support_targets, query_targets = targets.chunk(2, dim=0)\n",
        "    return support_imgs, query_imgs, support_targets, query_targets"
      ]
    },
    {
      "cell_type": "markdown",
      "id": "ac8356fb",
      "metadata": {
        "papermill": {
          "duration": 0.041927,
          "end_time": "2021-10-10T16:36:38.696240",
          "exception": false,
          "start_time": "2021-10-10T16:36:38.654313",
          "status": "completed"
        },
        "tags": [],
        "id": "ac8356fb"
      },
      "source": [
        "Finally, to ensure that our implementation of the data sampling process is correct, we can sample a batch and visualize its support and query set.\n",
        "What we would like to see is that the support and query set have the same classes, but distinct examples."
      ]
    },
    {
      "cell_type": "code",
      "execution_count": 16,
      "id": "18340de4",
      "metadata": {
        "execution": {
          "iopub.execute_input": "2021-10-10T16:36:38.786640Z",
          "iopub.status.busy": "2021-10-10T16:36:38.786168Z",
          "iopub.status.idle": "2021-10-10T16:36:39.045016Z",
          "shell.execute_reply": "2021-10-10T16:36:39.044567Z"
        },
        "papermill": {
          "duration": 0.306369,
          "end_time": "2021-10-10T16:36:39.045134",
          "exception": false,
          "start_time": "2021-10-10T16:36:38.738765",
          "status": "completed"
        },
        "tags": [],
        "id": "18340de4"
      },
      "outputs": [],
      "source": [
        "imgs, targets = next(iter(val_data_loader))  # We use the validation set since it does not apply augmentations\n",
        "support_imgs, query_imgs, _, _ = split_batch(imgs, targets)\n",
        "support_grid = torchvision.utils.make_grid(support_imgs, nrow=K_SHOT, normalize=True, pad_value=0.9)\n",
        "support_grid = support_grid.permute(1, 2, 0)\n",
        "query_grid = torchvision.utils.make_grid(query_imgs, nrow=K_SHOT, normalize=True, pad_value=0.9)\n",
        "query_grid = query_grid.permute(1, 2, 0)\n",
        "\n",
        "fig, ax = plt.subplots(1, 2, figsize=(8, 5))\n",
        "ax[0].imshow(support_grid)\n",
        "ax[0].set_title(\"Support set\")\n",
        "ax[0].axis(\"off\")\n",
        "ax[1].imshow(query_grid)\n",
        "ax[1].set_title(\"Query set\")\n",
        "ax[1].axis(\"off\")\n",
        "fig.suptitle(\"Few Shot Batch\", weight=\"bold\")\n",
        "fig.show()\n",
        "plt.close(fig)"
      ]
    },
    {
      "cell_type": "markdown",
      "id": "06b51e8e",
      "metadata": {
        "papermill": {
          "duration": 0.042585,
          "end_time": "2021-10-10T16:36:39.130534",
          "exception": false,
          "start_time": "2021-10-10T16:36:39.087949",
          "status": "completed"
        },
        "tags": [],
        "id": "06b51e8e"
      },
      "source": [
        "As we can see, the support and query set have the same five classes, but different examples.\n",
        "The models will be tasked to classify the examples in the query set by learning from the support set and its labels."
      ]
    },
    {
      "cell_type": "markdown",
      "id": "d400bfc2",
      "metadata": {
        "papermill": {
          "duration": 0.042184,
          "end_time": "2021-10-10T16:36:39.384014",
          "exception": false,
          "start_time": "2021-10-10T16:36:39.341830",
          "status": "completed"
        },
        "tags": [],
        "id": "d400bfc2"
      },
      "source": [
        "## ProtoNet implementation"
      ]
    },
    {
      "cell_type": "markdown",
      "id": "a10ef367",
      "metadata": {
        "lines_to_next_cell": 2,
        "papermill": {
          "duration": 0.042386,
          "end_time": "2021-10-10T16:36:39.468678",
          "exception": false,
          "start_time": "2021-10-10T16:36:39.426292",
          "status": "completed"
        },
        "tags": [],
        "id": "a10ef367"
      },
      "source": [
        "Now that we know how a ProtoNet works in principle, let's look at how we can apply to our specific problem of few-shot image classification, and implement it below.\n",
        "First, we need to define the encoder function $f_{\\theta}$.\n",
        "\n",
        "Here, we go with a DenseNet since it is in general more parameter efficient than ResNet.\n",
        "Luckily, we do not need to implement DenseNet ourselves again and can rely on torchvision's model package instead.\n",
        "We use common hyperparameters of 64 initial feature channels, add 32 per block, and use a bottleneck size of 64 (i.e. 2 times the growth rate).\n",
        "We use 4 stages of 6 layers each, which results in overall about 1 million parameters.\n",
        "Note that the torchvision package assumes that the last layer is used for classification and hence calls its output size `num_classes`.\n",
        "However, we can instead just use it as the feature space of ProtoNet, and choose an arbitrary dimensionality.\n",
        "We will use the same network for other algorithms in this notebook to ensure a fair comparison."
      ]
    },
    {
      "cell_type": "code",
      "execution_count": 17,
      "id": "2ba373cc",
      "metadata": {
        "execution": {
          "iopub.execute_input": "2021-10-10T16:36:39.567463Z",
          "iopub.status.busy": "2021-10-10T16:36:39.566989Z",
          "iopub.status.idle": "2021-10-10T16:36:39.569062Z",
          "shell.execute_reply": "2021-10-10T16:36:39.568593Z"
        },
        "lines_to_next_cell": 2,
        "papermill": {
          "duration": 0.056702,
          "end_time": "2021-10-10T16:36:39.569165",
          "exception": false,
          "start_time": "2021-10-10T16:36:39.512463",
          "status": "completed"
        },
        "tags": [],
        "id": "2ba373cc"
      },
      "outputs": [],
      "source": [
        "def get_convnet(output_size):\n",
        "    convnet = torchvision.models.DenseNet(\n",
        "        growth_rate=32,\n",
        "        block_config=(6, 6, 6, 6),\n",
        "        bn_size=2,\n",
        "        num_init_features=64,\n",
        "        num_classes=output_size,  # Output dimensionality\n",
        "    )\n",
        "    return convnet"
      ]
    },
    {
      "cell_type": "markdown",
      "id": "50da6f0b",
      "metadata": {
        "lines_to_next_cell": 2,
        "papermill": {
          "duration": 0.042572,
          "end_time": "2021-10-10T16:36:39.654722",
          "exception": false,
          "start_time": "2021-10-10T16:36:39.612150",
          "status": "completed"
        },
        "tags": [],
        "id": "50da6f0b"
      },
      "source": [
        "Next, we can look at implementing ProtoNet.\n",
        "We will define it as PyTorch Lightning module to use all functionalities of PyTorch Lightning.\n",
        "The first step during training is to encode all images in a batch with our network.\n",
        "Next, we calculate the class prototypes from the support set (function `calculate_prototypes`), and classify the query set examples according to the prototypes (function `classify_feats`).\n",
        "Keep in mind that we use the data sampling described before, such that the support and query set are stacked together in the batch.\n",
        "Thus, we use our previously defined function `split_batch` to split them apart.\n",
        "The full code can be found below."
      ]
    },
    {
      "cell_type": "code",
      "execution_count": 18,
      "id": "08c3adca",
      "metadata": {
        "execution": {
          "iopub.execute_input": "2021-10-10T16:36:39.751136Z",
          "iopub.status.busy": "2021-10-10T16:36:39.750647Z",
          "iopub.status.idle": "2021-10-10T16:36:39.752752Z",
          "shell.execute_reply": "2021-10-10T16:36:39.752285Z"
        },
        "lines_to_next_cell": 2,
        "papermill": {
          "duration": 0.055843,
          "end_time": "2021-10-10T16:36:39.752853",
          "exception": false,
          "start_time": "2021-10-10T16:36:39.697010",
          "status": "completed"
        },
        "tags": [],
        "id": "08c3adca"
      },
      "outputs": [],
      "source": [
        "class ProtoNet(pl.LightningModule):\n",
        "    def __init__(self, proto_dim, lr):\n",
        "        \"\"\"Inputs.\n",
        "\n",
        "        proto_dim - Dimensionality of prototype feature space\n",
        "        lr - Learning rate of Adam optimizer\n",
        "        \"\"\"\n",
        "        super().__init__()\n",
        "        self.save_hyperparameters()\n",
        "        self.model = get_convnet(output_size=self.hparams.proto_dim)\n",
        "\n",
        "    def configure_optimizers(self):\n",
        "        optimizer = optim.AdamW(self.parameters(), lr=self.hparams.lr)\n",
        "        scheduler = optim.lr_scheduler.MultiStepLR(optimizer, milestones=[140, 180], gamma=0.1)\n",
        "        return [optimizer], [scheduler]\n",
        "\n",
        "    @staticmethod\n",
        "    def calculate_prototypes(features, targets):\n",
        "        # Given a stack of features vectors and labels, return class prototypes\n",
        "        # features - shape [N, proto_dim], targets - shape [N]\n",
        "        classes, _ = torch.unique(targets).sort()  # Determine which classes we have\n",
        "        prototypes = []\n",
        "        for c in classes:\n",
        "            p = features[torch.where(targets == c)[0]].mean(dim=0)  # Average class feature vectors\n",
        "            prototypes.append(p)\n",
        "        prototypes = torch.stack(prototypes, dim=0)\n",
        "        # Return the 'classes' tensor to know which prototype belongs to which class\n",
        "        return prototypes, classes\n",
        "\n",
        "    def classify_feats(self, prototypes, classes, feats, targets):\n",
        "        # Classify new examples with prototypes and return classification error\n",
        "        dist = torch.pow(prototypes[None, :] - feats[:, None], 2).sum(dim=2)  # Squared euclidean distance\n",
        "        preds = F.log_softmax(-dist, dim=1)\n",
        "        labels = (classes[None, :] == targets[:, None]).long().argmax(dim=-1)\n",
        "        acc = (preds.argmax(dim=1) == labels).float().mean()\n",
        "        return preds, labels, acc\n",
        "\n",
        "    def calculate_loss(self, batch, mode):\n",
        "        # Determine training loss for a given support and query set\n",
        "        imgs, targets = batch\n",
        "        features = self.model(imgs)  # Encode all images of support and query set\n",
        "        support_feats, query_feats, support_targets, query_targets = split_batch(features, targets)\n",
        "        prototypes, classes = ProtoNet.calculate_prototypes(support_feats, support_targets)\n",
        "        preds, labels, acc = self.classify_feats(prototypes, classes, query_feats, query_targets)\n",
        "        loss = F.cross_entropy(preds, labels)\n",
        "\n",
        "        self.log(\"%s_loss\" % mode, loss)\n",
        "        self.log(\"%s_acc\" % mode, acc)\n",
        "        return loss\n",
        "\n",
        "    def training_step(self, batch, batch_idx):\n",
        "        return self.calculate_loss(batch, mode=\"train\")\n",
        "\n",
        "    def validation_step(self, batch, batch_idx):\n",
        "        self.calculate_loss(batch, mode=\"val\")"
      ]
    },
    {
      "cell_type": "markdown",
      "id": "1d28cde2",
      "metadata": {
        "papermill": {
          "duration": 0.042403,
          "end_time": "2021-10-10T16:36:39.837555",
          "exception": false,
          "start_time": "2021-10-10T16:36:39.795152",
          "status": "completed"
        },
        "tags": [],
        "id": "1d28cde2"
      },
      "source": [
        "For validation, we use the same principle as training and sample support and query sets from the hold-out 10 classes.\n",
        "However, this gives us noisy scores depending on which query sets are chosen to which support sets.\n",
        "This is why we will use a different strategy during testing.\n",
        "For validation, our training strategy is sufficient since it is much\n",
        "faster than testing, and gives a good estimate of the training\n",
        "generalization as long as we keep the support-query sets constant across\n",
        "validation iterations."
      ]
    },
    {
      "cell_type": "markdown",
      "id": "02222c05",
      "metadata": {
        "lines_to_next_cell": 2,
        "papermill": {
          "duration": 0.042841,
          "end_time": "2021-10-10T16:36:39.923166",
          "exception": false,
          "start_time": "2021-10-10T16:36:39.880325",
          "status": "completed"
        },
        "tags": [],
        "id": "02222c05"
      },
      "source": [
        "## Training\n",
        "\n",
        "After implementing the model, we can already start training it.\n",
        "We use our common PyTorch Lightning training function, and train the model for 200 epochs.\n",
        "The training function takes `model_class` as input argument, i.e. the\n",
        "PyTorch Lightning module class that should be trained, since we will\n",
        "reuse this function for other algorithms as well."
      ]
    },
    {
      "cell_type": "code",
      "execution_count": 19,
      "id": "76c40dce",
      "metadata": {
        "execution": {
          "iopub.execute_input": "2021-10-10T16:36:40.014200Z",
          "iopub.status.busy": "2021-10-10T16:36:40.013719Z",
          "iopub.status.idle": "2021-10-10T16:36:40.015817Z",
          "shell.execute_reply": "2021-10-10T16:36:40.015348Z"
        },
        "papermill": {
          "duration": 0.050208,
          "end_time": "2021-10-10T16:36:40.015917",
          "exception": false,
          "start_time": "2021-10-10T16:36:39.965709",
          "status": "completed"
        },
        "tags": [],
        "id": "76c40dce"
      },
      "outputs": [],
      "source": [
        "def train_model(model_class, train_loader, val_loader, **kwargs):\n",
        "    trainer = pl.Trainer(\n",
        "        default_root_dir=os.path.join(CHECKPOINT_PATH, model_class.__name__),\n",
        "        gpus=1 if str(device) == \"cuda:0\" else 0,\n",
        "        max_epochs=200,\n",
        "        callbacks=[\n",
        "            ModelCheckpoint(save_weights_only=True, mode=\"max\", monitor=\"val_acc\"),\n",
        "            LearningRateMonitor(\"epoch\"),\n",
        "        ],\n",
        "        progress_bar_refresh_rate=0,\n",
        "    )\n",
        "    trainer.logger._default_hp_metric = None\n",
        "\n",
        "    # Check whether pretrained model exists. If yes, load it and skip training\n",
        "    pretrained_filename = os.path.join(CHECKPOINT_PATH, model_class.__name__ + \".ckpt\")\n",
        "    if os.path.isfile(pretrained_filename):\n",
        "        print(\"Found pretrained model at %s, loading...\" % pretrained_filename)\n",
        "        # Automatically loads the model with the saved hyperparameters\n",
        "        model = model_class.load_from_checkpoint(pretrained_filename)\n",
        "    else:\n",
        "        pl.seed_everything(42)  # To be reproducable\n",
        "        model = model_class(**kwargs)\n",
        "        trainer.fit(model, train_loader, val_loader)\n",
        "        model = model_class.load_from_checkpoint(\n",
        "            trainer.checkpoint_callback.best_model_path\n",
        "        )  # Load best checkpoint after training\n",
        "\n",
        "    return model"
      ]
    },
    {
      "cell_type": "markdown",
      "id": "6bd74652",
      "metadata": {
        "papermill": {
          "duration": 0.043123,
          "end_time": "2021-10-10T16:36:40.102077",
          "exception": false,
          "start_time": "2021-10-10T16:36:40.058954",
          "status": "completed"
        },
        "tags": [],
        "id": "6bd74652"
      },
      "source": [
        "Below is the training call for our ProtoNet.\n",
        "We use a 64-dimensional feature space.\n",
        "Larger feature spaces showed to give noisier results since the squared euclidean distance becomes proportionally larger in expectation, and smaller feature spaces might not allow for enough flexibility.\n",
        "We recommend to load the pre-trained model here at first, but feel free\n",
        "to play around with the hyperparameters yourself."
      ]
    },
    {
      "cell_type": "code",
      "execution_count": 20,
      "id": "91cae9d3",
      "metadata": {
        "execution": {
          "iopub.execute_input": "2021-10-10T16:36:40.192927Z",
          "iopub.status.busy": "2021-10-10T16:36:40.192456Z",
          "iopub.status.idle": "2021-10-10T16:36:40.257180Z",
          "shell.execute_reply": "2021-10-10T16:36:40.256698Z"
        },
        "papermill": {
          "duration": 0.1128,
          "end_time": "2021-10-10T16:36:40.257291",
          "exception": false,
          "start_time": "2021-10-10T16:36:40.144491",
          "status": "completed"
        },
        "tags": [],
        "id": "91cae9d3",
        "outputId": "afe38320-5d6b-452c-c5d5-10b6ea1e9791",
        "colab": {
          "base_uri": "https://localhost:8080/"
        }
      },
      "outputs": [
        {
          "output_type": "stream",
          "name": "stderr",
          "text": [
            "/usr/local/lib/python3.7/dist-packages/pytorch_lightning/trainer/connectors/callback_connector.py:97: LightningDeprecationWarning: Setting `Trainer(progress_bar_refresh_rate=0)` is deprecated in v1.5 and will be removed in v1.7. Please pass `pytorch_lightning.callbacks.progress.TQDMProgressBar` with `refresh_rate` directly to the Trainer's `callbacks` argument instead. Or, to disable the progress bar pass `enable_progress_bar = False` to the Trainer.\n",
            "  f\"Setting `Trainer(progress_bar_refresh_rate={progress_bar_refresh_rate})` is deprecated in v1.5 and\"\n",
            "INFO:pytorch_lightning.utilities.rank_zero:GPU available: True, used: True\n",
            "INFO:pytorch_lightning.utilities.rank_zero:TPU available: False, using: 0 TPU cores\n",
            "INFO:pytorch_lightning.utilities.rank_zero:IPU available: False, using: 0 IPUs\n",
            "INFO:pytorch_lightning.utilities.rank_zero:HPU available: False, using: 0 HPUs\n"
          ]
        },
        {
          "output_type": "stream",
          "name": "stdout",
          "text": [
            "Found pretrained model at saved_models/MetaLearning/ProtoNet.ckpt, loading...\n"
          ]
        }
      ],
      "source": [
        "protonet_model = train_model(\n",
        "    ProtoNet, proto_dim=64, lr=2e-4, train_loader=train_data_loader, val_loader=val_data_loader\n",
        ")"
      ]
    },
    {
      "cell_type": "markdown",
      "id": "fe724d6e",
      "metadata": {
        "lines_to_next_cell": 2,
        "papermill": {
          "duration": 0.043726,
          "end_time": "2021-10-10T16:36:40.611913",
          "exception": false,
          "start_time": "2021-10-10T16:36:40.568187",
          "status": "completed"
        },
        "tags": [],
        "id": "fe724d6e"
      },
      "source": [
        "## Testing\n",
        "\n",
        "Our goal of meta-learning is to obtain a model that can quickly adapt to a new task, or in this case, new classes to distinguish between.\n",
        "To test this, we will use our trained ProtoNet and adapt it to the 10 test classes.\n",
        "Thereby, we pick $k$ examples per class from which we determine the prototypes, and test the classification accuracy on all other examples.\n",
        "This can be seen as using the $k$ examples per class as support set, and the rest of the dataset as a query set.\n",
        "We iterate through the dataset such that each example has been once included in a support set.\n",
        "The average performance over all support sets tells us how well we can expect ProtoNet to perform when seeing only $k$ examples per class.\n",
        "During training, we used $k=4$.\n",
        "In testing, we will experiment with $k=\\{2,4,8,16,32\\}$ to get a better sense of how $k$ influences the results.\n",
        "We would expect that we achieve higher accuracies the more examples we have in the support set, but we don't know how it scales.\n",
        "Hence, let's first implement a function that executes the testing procedure for a given $k$:"
      ]
    },
    {
      "cell_type": "code",
      "execution_count": 21,
      "id": "9e43469f",
      "metadata": {
        "execution": {
          "iopub.execute_input": "2021-10-10T16:36:40.708839Z",
          "iopub.status.busy": "2021-10-10T16:36:40.706609Z",
          "iopub.status.idle": "2021-10-10T16:36:40.710916Z",
          "shell.execute_reply": "2021-10-10T16:36:40.710471Z"
        },
        "papermill": {
          "duration": 0.055241,
          "end_time": "2021-10-10T16:36:40.711017",
          "exception": false,
          "start_time": "2021-10-10T16:36:40.655776",
          "status": "completed"
        },
        "tags": [],
        "id": "9e43469f"
      },
      "outputs": [],
      "source": [
        "@torch.no_grad()\n",
        "def test_proto_net(model, dataset, data_feats=None, k_shot=4):\n",
        "    \"\"\"Inputs.\n",
        "\n",
        "    model - Pretrained ProtoNet model\n",
        "    dataset - The dataset on which the test should be performed.\n",
        "              Should be instance of ImageDataset\n",
        "    data_feats - The encoded features of all images in the dataset.\n",
        "                 If None, they will be newly calculated, and returned\n",
        "                 for later usage.\n",
        "    k_shot - Number of examples per class in the support set.\n",
        "    \"\"\"\n",
        "    model = model.to(device)\n",
        "    model.eval()\n",
        "    num_classes = dataset.targets.unique().shape[0]\n",
        "    exmps_per_class = dataset.targets.shape[0] // num_classes  # We assume uniform example distribution here\n",
        "\n",
        "    # The encoder network remains unchanged across k-shot settings. Hence, we only need\n",
        "    # to extract the features for all images once.\n",
        "    if data_feats is None:\n",
        "        # Dataset preparation\n",
        "        dataloader = data.DataLoader(dataset, batch_size=128, num_workers=4, shuffle=False, drop_last=False)\n",
        "\n",
        "        img_features = []\n",
        "        img_targets = []\n",
        "        for imgs, targets in tqdm(dataloader, \"Extracting image features\", leave=False):\n",
        "            imgs = imgs.to(device)\n",
        "            feats = model.model(imgs)\n",
        "            img_features.append(feats.detach().cpu())\n",
        "            img_targets.append(targets)\n",
        "        img_features = torch.cat(img_features, dim=0)\n",
        "        img_targets = torch.cat(img_targets, dim=0)\n",
        "        # Sort by classes, so that we obtain tensors of shape [num_classes, exmps_per_class, ...]\n",
        "        # Makes it easier to process later\n",
        "        img_targets, sort_idx = img_targets.sort()\n",
        "        img_targets = img_targets.reshape(num_classes, exmps_per_class).transpose(0, 1)\n",
        "        img_features = img_features[sort_idx].reshape(num_classes, exmps_per_class, -1).transpose(0, 1)\n",
        "    else:\n",
        "        img_features, img_targets = data_feats\n",
        "\n",
        "    # We iterate through the full dataset in two manners. First, to select the k-shot batch.\n",
        "    # Second, the evaluate the model on all other examples\n",
        "    accuracies = []\n",
        "    for k_idx in tqdm(range(0, img_features.shape[0], k_shot), \"Evaluating prototype classification\", leave=False):\n",
        "        # Select support set and calculate prototypes\n",
        "        k_img_feats = img_features[k_idx : k_idx + k_shot].flatten(0, 1)\n",
        "        k_targets = img_targets[k_idx : k_idx + k_shot].flatten(0, 1)\n",
        "        prototypes, proto_classes = model.calculate_prototypes(k_img_feats, k_targets)\n",
        "        # Evaluate accuracy on the rest of the dataset\n",
        "        batch_acc = 0\n",
        "        for e_idx in range(0, img_features.shape[0], k_shot):\n",
        "            if k_idx == e_idx:  # Do not evaluate on the support set examples\n",
        "                continue\n",
        "            e_img_feats = img_features[e_idx : e_idx + k_shot].flatten(0, 1)\n",
        "            e_targets = img_targets[e_idx : e_idx + k_shot].flatten(0, 1)\n",
        "            _, _, acc = model.classify_feats(prototypes, proto_classes, e_img_feats, e_targets)\n",
        "            batch_acc += acc.item()\n",
        "        batch_acc /= img_features.shape[0] // k_shot - 1\n",
        "        accuracies.append(batch_acc)\n",
        "\n",
        "    return (mean(accuracies), stdev(accuracies)), (img_features, img_targets)"
      ]
    },
    {
      "cell_type": "markdown",
      "id": "e8adff5f",
      "metadata": {
        "papermill": {
          "duration": 0.043398,
          "end_time": "2021-10-10T16:36:40.798077",
          "exception": false,
          "start_time": "2021-10-10T16:36:40.754679",
          "status": "completed"
        },
        "tags": [],
        "id": "e8adff5f"
      },
      "source": [
        "Testing ProtoNet is relatively quick if we have processed all images once. Hence, we can do in this notebook:"
      ]
    },
    {
      "cell_type": "code",
      "execution_count": 22,
      "id": "6b522e34",
      "metadata": {
        "execution": {
          "iopub.execute_input": "2021-10-10T16:36:40.891051Z",
          "iopub.status.busy": "2021-10-10T16:36:40.890582Z",
          "iopub.status.idle": "2021-10-10T16:37:25.334685Z",
          "shell.execute_reply": "2021-10-10T16:37:25.334200Z"
        },
        "papermill": {
          "duration": 44.492916,
          "end_time": "2021-10-10T16:37:25.334799",
          "exception": false,
          "start_time": "2021-10-10T16:36:40.841883",
          "status": "completed"
        },
        "tags": [],
        "id": "6b522e34",
        "outputId": "dc6e05df-e8a2-4e02-e1b8-36fd378e0189",
        "colab": {
          "base_uri": "https://localhost:8080/",
          "height": 162,
          "referenced_widgets": [
            "a9f410184c6a4832a80eb050bda84e47",
            "7885144fa7584671931c3f54d4bb3f86",
            "0412999784b24d8cb9f13dc2cdb6ae95",
            "0ec20ae7928743afbdd9a8c251630de5",
            "4220563966da46b0826f408b36338c45",
            "abc33b27880f4107932eea07436433f9",
            "d486300805f1490b9cfbbb4362f83634",
            "9891ab1970244afd8650a3fb3d1f66f3",
            "d2b0f5a631894dc09360547b6f8d0064",
            "013d2d12805f4113b45d0c5e59f09e41",
            "55282a5cff7443df881f30bd9bbacc0a",
            "cad45e11b136482bae9e0b89a8001cb2",
            "958cd9ca990b412cb6fa70464dcd6fd6",
            "57879f03b87a4893942c5b3c80f6d97f",
            "521c78b9f78e4b4597333cfbabbf5165",
            "a334127a14ba465080b58774461df271",
            "8dff97b46f7d45f79d5e1ad0d686a5ea",
            "f1cd2409e4024b87a01cc5a078633ad9",
            "2dcc8d504e45494ba69008a7856d1fda",
            "31fd820870a24946965dccdb33741725",
            "77595c9c60b949e58ea4bd82c3dd2301",
            "2ec7bf04de02486ea2d14b1936191414",
            "c34bea9cf2764d5f8025ccd99c139e86",
            "62d8bf2344324c0cafbc5176d30e8779",
            "f86c579a0db94ed191f1059200a6a61a",
            "01b3bb0378fb434ab749b880d6b24dd7",
            "4ea6252473384686839d9dd4810309e1",
            "67b4ea8ccadd44619e1110a05eb97d22",
            "a92802c4482247579122ee1d018e1a81",
            "e80ce8a666e34be1ab70d7cc295d8491",
            "97dbea5423454b29bc51698b7daa43e6",
            "8416e36626904ac78282dc3aadb67a13",
            "3fe6e8c6c1294bdb897a01db351d5f3f",
            "1ff7993a810a4401b51341647067ef7b",
            "cafe09674890433baaa9ff6df9749293",
            "469c6d3fa9b14c8baa56dc224b9ef731",
            "d5bb12fc9dde4115aa38a77cf983c87a",
            "cc0a013e7944427e988db3469edf5a83",
            "03ac935caecf470a99c77c2a590f4ce2",
            "853b5b7deb974d7295d0aad29d231d68",
            "548aee2aae0341fd8028218f23194a6b",
            "7a722af43bf6467ebc2c8f6682f42035",
            "35c5e7e5a9d1485b88709f834a0a4dce",
            "1c3b1bdbe0244398b4b3004c730fe7a6",
            "a7517b1005c54fc79ff5e8bbe9589d69",
            "f8d91eeebbc044a79b4edeb077bf4514",
            "1c20779bd83040209324f7ce941f274b",
            "cf38ff0ca80140058f1dd82ec3e8590a",
            "472eac43c1a849b0ab79ee6db2201cf5",
            "bd3d48e1372149018017b3274d8e8d8d",
            "a20c0990515f4e5ebc8efc46a991c856",
            "7500ad8429b643589f3907669056ae1a",
            "8b279ffbad5643fbb4c0e550618b8846",
            "8cec6cfd2baa4802ac7c244f35ae5ea3",
            "e6a9422d103346b6ac9f02bb626623aa",
            "bedf0d59d5184894bc986a11fd00b762",
            "58c1ccd6b868471a818a40480ca94b19",
            "5b4a4bd6c9734747a3f73215e8667598",
            "40b780b36074495eb244e832897ce769",
            "8272417fc1c3440ead598372183f9214",
            "dd53be02557748d98415ea5086bfd7c8",
            "aa1ecc0a0fc74333b06c5763e624487d",
            "8def301a302c4fd3b2dfc7257c85f9b9",
            "e1973cf0c7914f448b5a41a99cb84994",
            "9324559941ea4840998c2b4cc62a56a7",
            "a30da8882ae945f28ff9fd658e310503"
          ]
        }
      },
      "outputs": [
        {
          "output_type": "display_data",
          "data": {
            "text/plain": [
              "Extracting image features:   0%|          | 0/47 [00:00<?, ?it/s]"
            ],
            "application/vnd.jupyter.widget-view+json": {
              "version_major": 2,
              "version_minor": 0,
              "model_id": "a9f410184c6a4832a80eb050bda84e47"
            }
          },
          "metadata": {}
        },
        {
          "output_type": "stream",
          "name": "stderr",
          "text": [
            "/usr/local/lib/python3.7/dist-packages/torch/nn/functional.py:718: UserWarning: Named tensors and all their associated APIs are an experimental feature and subject to change. Please do not use them for anything important until they are released as stable. (Triggered internally at  /pytorch/c10/core/TensorImpl.h:1156.)\n",
            "  return torch.max_pool2d(input, kernel_size, stride, padding, dilation, ceil_mode)\n"
          ]
        },
        {
          "output_type": "display_data",
          "data": {
            "text/plain": [
              "Evaluating prototype classification:   0%|          | 0/300 [00:00<?, ?it/s]"
            ],
            "application/vnd.jupyter.widget-view+json": {
              "version_major": 2,
              "version_minor": 0,
              "model_id": "cad45e11b136482bae9e0b89a8001cb2"
            }
          },
          "metadata": {}
        },
        {
          "output_type": "stream",
          "name": "stdout",
          "text": [
            "Accuracy for k=2: 44.30% (+-3.63%)\n"
          ]
        },
        {
          "output_type": "display_data",
          "data": {
            "text/plain": [
              "Evaluating prototype classification:   0%|          | 0/150 [00:00<?, ?it/s]"
            ],
            "application/vnd.jupyter.widget-view+json": {
              "version_major": 2,
              "version_minor": 0,
              "model_id": "c34bea9cf2764d5f8025ccd99c139e86"
            }
          },
          "metadata": {}
        },
        {
          "output_type": "stream",
          "name": "stdout",
          "text": [
            "Accuracy for k=4: 52.07% (+-2.27%)\n"
          ]
        },
        {
          "output_type": "display_data",
          "data": {
            "text/plain": [
              "Evaluating prototype classification:   0%|          | 0/75 [00:00<?, ?it/s]"
            ],
            "application/vnd.jupyter.widget-view+json": {
              "version_major": 2,
              "version_minor": 0,
              "model_id": "1ff7993a810a4401b51341647067ef7b"
            }
          },
          "metadata": {}
        },
        {
          "output_type": "stream",
          "name": "stdout",
          "text": [
            "Accuracy for k=8: 57.59% (+-1.30%)\n"
          ]
        },
        {
          "output_type": "display_data",
          "data": {
            "text/plain": [
              "Evaluating prototype classification:   0%|          | 0/38 [00:00<?, ?it/s]"
            ],
            "application/vnd.jupyter.widget-view+json": {
              "version_major": 2,
              "version_minor": 0,
              "model_id": "a7517b1005c54fc79ff5e8bbe9589d69"
            }
          },
          "metadata": {}
        },
        {
          "output_type": "stream",
          "name": "stdout",
          "text": [
            "Accuracy for k=16: 62.56% (+-1.02%)\n"
          ]
        },
        {
          "output_type": "display_data",
          "data": {
            "text/plain": [
              "Evaluating prototype classification:   0%|          | 0/19 [00:00<?, ?it/s]"
            ],
            "application/vnd.jupyter.widget-view+json": {
              "version_major": 2,
              "version_minor": 0,
              "model_id": "bedf0d59d5184894bc986a11fd00b762"
            }
          },
          "metadata": {}
        },
        {
          "output_type": "stream",
          "name": "stdout",
          "text": [
            "Accuracy for k=32: 66.49% (+-0.87%)\n"
          ]
        }
      ],
      "source": [
        "protonet_accuracies = dict()\n",
        "data_feats = None\n",
        "for k in [2, 4, 8, 16, 32]:\n",
        "    protonet_accuracies[k], data_feats = test_proto_net(protonet_model, test_set, data_feats=data_feats, k_shot=k)\n",
        "    print(\n",
        "        \"Accuracy for k=%i: %4.2f%% (+-%4.2f%%)\"\n",
        "        % (k, 100.0 * protonet_accuracies[k][0], 100 * protonet_accuracies[k][1])\n",
        "    )"
      ]
    },
    {
      "cell_type": "markdown",
      "id": "15ae8c3d",
      "metadata": {
        "lines_to_next_cell": 2,
        "papermill": {
          "duration": 0.048333,
          "end_time": "2021-10-10T16:37:25.430916",
          "exception": false,
          "start_time": "2021-10-10T16:37:25.382583",
          "status": "completed"
        },
        "tags": [],
        "id": "15ae8c3d"
      },
      "source": [
        "Before discussing the results above, let's first plot the accuracies over number of examples in the support set:"
      ]
    },
    {
      "cell_type": "code",
      "execution_count": 23,
      "id": "36dc12c6",
      "metadata": {
        "execution": {
          "iopub.execute_input": "2021-10-10T16:37:25.533731Z",
          "iopub.status.busy": "2021-10-10T16:37:25.533253Z",
          "iopub.status.idle": "2021-10-10T16:37:25.534911Z",
          "shell.execute_reply": "2021-10-10T16:37:25.535289Z"
        },
        "papermill": {
          "duration": 0.057357,
          "end_time": "2021-10-10T16:37:25.535406",
          "exception": false,
          "start_time": "2021-10-10T16:37:25.478049",
          "status": "completed"
        },
        "tags": [],
        "id": "36dc12c6"
      },
      "outputs": [],
      "source": [
        "def plot_few_shot(acc_dict, name, color=None, ax=None):\n",
        "    sns.set()\n",
        "    if ax is None:\n",
        "        fig, ax = plt.subplots(1, 1, figsize=(5, 3))\n",
        "    ks = sorted(list(acc_dict.keys()))\n",
        "    mean_accs = [acc_dict[k][0] for k in ks]\n",
        "    std_accs = [acc_dict[k][1] for k in ks]\n",
        "    ax.plot(ks, mean_accs, marker=\"o\", markeredgecolor=\"k\", markersize=6, label=name, color=color)\n",
        "    ax.fill_between(\n",
        "        ks,\n",
        "        [m - s for m, s in zip(mean_accs, std_accs)],\n",
        "        [m + s for m, s in zip(mean_accs, std_accs)],\n",
        "        alpha=0.2,\n",
        "        color=color,\n",
        "    )\n",
        "    ax.set_xticks(ks)\n",
        "    ax.set_xlim([ks[0] - 1, ks[-1] + 1])\n",
        "    ax.set_xlabel(\"Number of shots per class\", weight=\"bold\")\n",
        "    ax.set_ylabel(\"Accuracy\", weight=\"bold\")\n",
        "    if len(ax.get_title()) == 0:\n",
        "        ax.set_title(\"Few-Shot Performance \" + name, weight=\"bold\")\n",
        "    else:\n",
        "        ax.set_title(ax.get_title() + \" and \" + name, weight=\"bold\")\n",
        "    ax.legend()\n",
        "    return ax"
      ]
    },
    {
      "cell_type": "code",
      "execution_count": 24,
      "id": "5b80ec9b",
      "metadata": {
        "execution": {
          "iopub.execute_input": "2021-10-10T16:37:25.668929Z",
          "iopub.status.busy": "2021-10-10T16:37:25.662393Z",
          "iopub.status.idle": "2021-10-10T16:37:25.951305Z",
          "shell.execute_reply": "2021-10-10T16:37:25.950859Z"
        },
        "papermill": {
          "duration": 0.362353,
          "end_time": "2021-10-10T16:37:25.951419",
          "exception": false,
          "start_time": "2021-10-10T16:37:25.589066",
          "status": "completed"
        },
        "tags": [],
        "id": "5b80ec9b",
        "outputId": "a2ca0b86-04f0-4fc7-e690-b07ae7b30789",
        "colab": {
          "base_uri": "https://localhost:8080/",
          "height": 325
        }
      },
      "outputs": [
        {
          "output_type": "display_data",
          "data": {
            "text/plain": [
              "<Figure size 360x216 with 1 Axes>"
            ],
            "image/svg+xml": "<?xml version=\"1.0\" encoding=\"utf-8\" standalone=\"no\"?>\n<!DOCTYPE svg PUBLIC \"-//W3C//DTD SVG 1.1//EN\"\n  \"http://www.w3.org/Graphics/SVG/1.1/DTD/svg11.dtd\">\n<!-- Created with matplotlib (https://matplotlib.org/) -->\n<svg height=\"228.357813pt\" version=\"1.1\" viewBox=\"0 0 343.005937 228.357813\" width=\"343.005937pt\" xmlns=\"http://www.w3.org/2000/svg\" xmlns:xlink=\"http://www.w3.org/1999/xlink\">\n <defs>\n  <style type=\"text/css\">\n*{stroke-linecap:butt;stroke-linejoin:round;}\n  </style>\n </defs>\n <g id=\"figure_1\">\n  <g id=\"patch_1\">\n   <path d=\"M 0 228.357813 \nL 343.005937 228.357813 \nL 343.005937 0 \nL 0 0 \nz\n\" style=\"fill:#ffffff;\"/>\n  </g>\n  <g id=\"axes_1\">\n   <g id=\"patch_2\">\n    <path d=\"M 56.805937 185.398125 \nL 335.805938 185.398125 \nL 335.805938 22.318125 \nL 56.805937 22.318125 \nz\n\" style=\"fill:#eaeaf2;\"/>\n   </g>\n   <g id=\"matplotlib.axis_1\">\n    <g id=\"xtick_1\">\n     <g id=\"line2d_1\">\n      <path clip-path=\"url(#p34f9e684ef)\" d=\"M 65.524687 185.398125 \nL 65.524687 22.318125 \n\" style=\"fill:none;stroke:#ffffff;stroke-linecap:round;\"/>\n     </g>\n     <g id=\"text_1\">\n      <!-- 2 -->\n      <defs>\n       <path d=\"M 19.1875 8.296875 \nL 53.609375 8.296875 \nL 53.609375 0 \nL 7.328125 0 \nL 7.328125 8.296875 \nQ 12.9375 14.109375 22.625 23.890625 \nQ 32.328125 33.6875 34.8125 36.53125 \nQ 39.546875 41.84375 41.421875 45.53125 \nQ 43.3125 49.21875 43.3125 52.78125 \nQ 43.3125 58.59375 39.234375 62.25 \nQ 35.15625 65.921875 28.609375 65.921875 \nQ 23.96875 65.921875 18.8125 64.3125 \nQ 13.671875 62.703125 7.8125 59.421875 \nL 7.8125 69.390625 \nQ 13.765625 71.78125 18.9375 73 \nQ 24.125 74.21875 28.421875 74.21875 \nQ 39.75 74.21875 46.484375 68.546875 \nQ 53.21875 62.890625 53.21875 53.421875 \nQ 53.21875 48.921875 51.53125 44.890625 \nQ 49.859375 40.875 45.40625 35.40625 \nQ 44.1875 33.984375 37.640625 27.21875 \nQ 31.109375 20.453125 19.1875 8.296875 \nz\n\" id=\"DejaVuSans-50\"/>\n      </defs>\n      <g style=\"fill:#262626;\" transform=\"translate(62.025312 203.256406)scale(0.11 -0.11)\">\n       <use xlink:href=\"#DejaVuSans-50\"/>\n      </g>\n     </g>\n    </g>\n    <g id=\"xtick_2\">\n     <g id=\"line2d_2\">\n      <path clip-path=\"url(#p34f9e684ef)\" d=\"M 82.962187 185.398125 \nL 82.962187 22.318125 \n\" style=\"fill:none;stroke:#ffffff;stroke-linecap:round;\"/>\n     </g>\n     <g id=\"text_2\">\n      <!-- 4 -->\n      <defs>\n       <path d=\"M 37.796875 64.3125 \nL 12.890625 25.390625 \nL 37.796875 25.390625 \nz\nM 35.203125 72.90625 \nL 47.609375 72.90625 \nL 47.609375 25.390625 \nL 58.015625 25.390625 \nL 58.015625 17.1875 \nL 47.609375 17.1875 \nL 47.609375 0 \nL 37.796875 0 \nL 37.796875 17.1875 \nL 4.890625 17.1875 \nL 4.890625 26.703125 \nz\n\" id=\"DejaVuSans-52\"/>\n      </defs>\n      <g style=\"fill:#262626;\" transform=\"translate(79.462812 203.256406)scale(0.11 -0.11)\">\n       <use xlink:href=\"#DejaVuSans-52\"/>\n      </g>\n     </g>\n    </g>\n    <g id=\"xtick_3\">\n     <g id=\"line2d_3\">\n      <path clip-path=\"url(#p34f9e684ef)\" d=\"M 117.837187 185.398125 \nL 117.837187 22.318125 \n\" style=\"fill:none;stroke:#ffffff;stroke-linecap:round;\"/>\n     </g>\n     <g id=\"text_3\">\n      <!-- 8 -->\n      <defs>\n       <path d=\"M 31.78125 34.625 \nQ 24.75 34.625 20.71875 30.859375 \nQ 16.703125 27.09375 16.703125 20.515625 \nQ 16.703125 13.921875 20.71875 10.15625 \nQ 24.75 6.390625 31.78125 6.390625 \nQ 38.8125 6.390625 42.859375 10.171875 \nQ 46.921875 13.96875 46.921875 20.515625 \nQ 46.921875 27.09375 42.890625 30.859375 \nQ 38.875 34.625 31.78125 34.625 \nz\nM 21.921875 38.8125 \nQ 15.578125 40.375 12.03125 44.71875 \nQ 8.5 49.078125 8.5 55.328125 \nQ 8.5 64.0625 14.71875 69.140625 \nQ 20.953125 74.21875 31.78125 74.21875 \nQ 42.671875 74.21875 48.875 69.140625 \nQ 55.078125 64.0625 55.078125 55.328125 \nQ 55.078125 49.078125 51.53125 44.71875 \nQ 48 40.375 41.703125 38.8125 \nQ 48.828125 37.15625 52.796875 32.3125 \nQ 56.78125 27.484375 56.78125 20.515625 \nQ 56.78125 9.90625 50.3125 4.234375 \nQ 43.84375 -1.421875 31.78125 -1.421875 \nQ 19.734375 -1.421875 13.25 4.234375 \nQ 6.78125 9.90625 6.78125 20.515625 \nQ 6.78125 27.484375 10.78125 32.3125 \nQ 14.796875 37.15625 21.921875 38.8125 \nz\nM 18.3125 54.390625 \nQ 18.3125 48.734375 21.84375 45.5625 \nQ 25.390625 42.390625 31.78125 42.390625 \nQ 38.140625 42.390625 41.71875 45.5625 \nQ 45.3125 48.734375 45.3125 54.390625 \nQ 45.3125 60.0625 41.71875 63.234375 \nQ 38.140625 66.40625 31.78125 66.40625 \nQ 25.390625 66.40625 21.84375 63.234375 \nQ 18.3125 60.0625 18.3125 54.390625 \nz\n\" id=\"DejaVuSans-56\"/>\n      </defs>\n      <g style=\"fill:#262626;\" transform=\"translate(114.337812 203.256406)scale(0.11 -0.11)\">\n       <use xlink:href=\"#DejaVuSans-56\"/>\n      </g>\n     </g>\n    </g>\n    <g id=\"xtick_4\">\n     <g id=\"line2d_4\">\n      <path clip-path=\"url(#p34f9e684ef)\" d=\"M 187.587187 185.398125 \nL 187.587187 22.318125 \n\" style=\"fill:none;stroke:#ffffff;stroke-linecap:round;\"/>\n     </g>\n     <g id=\"text_4\">\n      <!-- 16 -->\n      <defs>\n       <path d=\"M 12.40625 8.296875 \nL 28.515625 8.296875 \nL 28.515625 63.921875 \nL 10.984375 60.40625 \nL 10.984375 69.390625 \nL 28.421875 72.90625 \nL 38.28125 72.90625 \nL 38.28125 8.296875 \nL 54.390625 8.296875 \nL 54.390625 0 \nL 12.40625 0 \nz\n\" id=\"DejaVuSans-49\"/>\n       <path d=\"M 33.015625 40.375 \nQ 26.375 40.375 22.484375 35.828125 \nQ 18.609375 31.296875 18.609375 23.390625 \nQ 18.609375 15.53125 22.484375 10.953125 \nQ 26.375 6.390625 33.015625 6.390625 \nQ 39.65625 6.390625 43.53125 10.953125 \nQ 47.40625 15.53125 47.40625 23.390625 \nQ 47.40625 31.296875 43.53125 35.828125 \nQ 39.65625 40.375 33.015625 40.375 \nz\nM 52.59375 71.296875 \nL 52.59375 62.3125 \nQ 48.875 64.0625 45.09375 64.984375 \nQ 41.3125 65.921875 37.59375 65.921875 \nQ 27.828125 65.921875 22.671875 59.328125 \nQ 17.53125 52.734375 16.796875 39.40625 \nQ 19.671875 43.65625 24.015625 45.921875 \nQ 28.375 48.1875 33.59375 48.1875 \nQ 44.578125 48.1875 50.953125 41.515625 \nQ 57.328125 34.859375 57.328125 23.390625 \nQ 57.328125 12.15625 50.6875 5.359375 \nQ 44.046875 -1.421875 33.015625 -1.421875 \nQ 20.359375 -1.421875 13.671875 8.265625 \nQ 6.984375 17.96875 6.984375 36.375 \nQ 6.984375 53.65625 15.1875 63.9375 \nQ 23.390625 74.21875 37.203125 74.21875 \nQ 40.921875 74.21875 44.703125 73.484375 \nQ 48.484375 72.75 52.59375 71.296875 \nz\n\" id=\"DejaVuSans-54\"/>\n      </defs>\n      <g style=\"fill:#262626;\" transform=\"translate(180.588437 203.256406)scale(0.11 -0.11)\">\n       <use xlink:href=\"#DejaVuSans-49\"/>\n       <use x=\"63.623047\" xlink:href=\"#DejaVuSans-54\"/>\n      </g>\n     </g>\n    </g>\n    <g id=\"xtick_5\">\n     <g id=\"line2d_5\">\n      <path clip-path=\"url(#p34f9e684ef)\" d=\"M 327.087188 185.398125 \nL 327.087188 22.318125 \n\" style=\"fill:none;stroke:#ffffff;stroke-linecap:round;\"/>\n     </g>\n     <g id=\"text_5\">\n      <!-- 32 -->\n      <defs>\n       <path d=\"M 40.578125 39.3125 \nQ 47.65625 37.796875 51.625 33 \nQ 55.609375 28.21875 55.609375 21.1875 \nQ 55.609375 10.40625 48.1875 4.484375 \nQ 40.765625 -1.421875 27.09375 -1.421875 \nQ 22.515625 -1.421875 17.65625 -0.515625 \nQ 12.796875 0.390625 7.625 2.203125 \nL 7.625 11.71875 \nQ 11.71875 9.328125 16.59375 8.109375 \nQ 21.484375 6.890625 26.8125 6.890625 \nQ 36.078125 6.890625 40.9375 10.546875 \nQ 45.796875 14.203125 45.796875 21.1875 \nQ 45.796875 27.640625 41.28125 31.265625 \nQ 36.765625 34.90625 28.71875 34.90625 \nL 20.21875 34.90625 \nL 20.21875 43.015625 \nL 29.109375 43.015625 \nQ 36.375 43.015625 40.234375 45.921875 \nQ 44.09375 48.828125 44.09375 54.296875 \nQ 44.09375 59.90625 40.109375 62.90625 \nQ 36.140625 65.921875 28.71875 65.921875 \nQ 24.65625 65.921875 20.015625 65.03125 \nQ 15.375 64.15625 9.8125 62.3125 \nL 9.8125 71.09375 \nQ 15.4375 72.65625 20.34375 73.4375 \nQ 25.25 74.21875 29.59375 74.21875 \nQ 40.828125 74.21875 47.359375 69.109375 \nQ 53.90625 64.015625 53.90625 55.328125 \nQ 53.90625 49.265625 50.4375 45.09375 \nQ 46.96875 40.921875 40.578125 39.3125 \nz\n\" id=\"DejaVuSans-51\"/>\n      </defs>\n      <g style=\"fill:#262626;\" transform=\"translate(320.088438 203.256406)scale(0.11 -0.11)\">\n       <use xlink:href=\"#DejaVuSans-51\"/>\n       <use x=\"63.623047\" xlink:href=\"#DejaVuSans-50\"/>\n      </g>\n     </g>\n    </g>\n    <g id=\"text_6\">\n     <!-- Number of shots per class -->\n     <defs>\n      <path d=\"M 9.1875 72.90625 \nL 30.171875 72.90625 \nL 56.6875 22.90625 \nL 56.6875 72.90625 \nL 74.515625 72.90625 \nL 74.515625 0 \nL 53.515625 0 \nL 27 50 \nL 27 0 \nL 9.1875 0 \nz\n\" id=\"DejaVuSans-Bold-78\"/>\n      <path d=\"M 7.8125 21.296875 \nL 7.8125 54.6875 \nL 25.390625 54.6875 \nL 25.390625 49.21875 \nQ 25.390625 44.78125 25.34375 38.0625 \nQ 25.296875 31.34375 25.296875 29.109375 \nQ 25.296875 22.515625 25.640625 19.609375 \nQ 25.984375 16.703125 26.8125 15.375 \nQ 27.875 13.671875 29.609375 12.734375 \nQ 31.34375 11.8125 33.59375 11.8125 \nQ 39.0625 11.8125 42.1875 16.015625 \nQ 45.3125 20.21875 45.3125 27.6875 \nL 45.3125 54.6875 \nL 62.796875 54.6875 \nL 62.796875 0 \nL 45.3125 0 \nL 45.3125 7.90625 \nQ 41.359375 3.125 36.9375 0.84375 \nQ 32.515625 -1.421875 27.203125 -1.421875 \nQ 17.71875 -1.421875 12.765625 4.390625 \nQ 7.8125 10.203125 7.8125 21.296875 \nz\n\" id=\"DejaVuSans-Bold-117\"/>\n      <path d=\"M 59.078125 45.609375 \nQ 62.40625 50.6875 66.96875 53.34375 \nQ 71.53125 56 77 56 \nQ 86.421875 56 91.359375 50.1875 \nQ 96.296875 44.390625 96.296875 33.296875 \nL 96.296875 0 \nL 78.71875 0 \nL 78.71875 28.515625 \nQ 78.765625 29.15625 78.78125 29.828125 \nQ 78.8125 30.515625 78.8125 31.78125 \nQ 78.8125 37.59375 77.09375 40.203125 \nQ 75.390625 42.828125 71.578125 42.828125 \nQ 66.609375 42.828125 63.890625 38.71875 \nQ 61.1875 34.625 61.078125 26.859375 \nL 61.078125 0 \nL 43.5 0 \nL 43.5 28.515625 \nQ 43.5 37.59375 41.9375 40.203125 \nQ 40.375 42.828125 36.375 42.828125 \nQ 31.34375 42.828125 28.609375 38.703125 \nQ 25.875 34.578125 25.875 26.90625 \nL 25.875 0 \nL 8.296875 0 \nL 8.296875 54.6875 \nL 25.875 54.6875 \nL 25.875 46.6875 \nQ 29.109375 51.3125 33.28125 53.65625 \nQ 37.453125 56 42.484375 56 \nQ 48.140625 56 52.484375 53.265625 \nQ 56.84375 50.53125 59.078125 45.609375 \nz\n\" id=\"DejaVuSans-Bold-109\"/>\n      <path d=\"M 37.5 11.28125 \nQ 43.109375 11.28125 46.0625 15.375 \nQ 49.03125 19.484375 49.03125 27.296875 \nQ 49.03125 35.109375 46.0625 39.203125 \nQ 43.109375 43.3125 37.5 43.3125 \nQ 31.890625 43.3125 28.875 39.1875 \nQ 25.875 35.0625 25.875 27.296875 \nQ 25.875 19.53125 28.875 15.40625 \nQ 31.890625 11.28125 37.5 11.28125 \nz\nM 25.875 46.6875 \nQ 29.5 51.46875 33.890625 53.734375 \nQ 38.28125 56 44 56 \nQ 54.109375 56 60.59375 47.96875 \nQ 67.09375 39.9375 67.09375 27.296875 \nQ 67.09375 14.65625 60.59375 6.609375 \nQ 54.109375 -1.421875 44 -1.421875 \nQ 38.28125 -1.421875 33.890625 0.84375 \nQ 29.5 3.125 25.875 7.90625 \nL 25.875 0 \nL 8.40625 0 \nL 8.40625 75.984375 \nL 25.875 75.984375 \nz\n\" id=\"DejaVuSans-Bold-98\"/>\n      <path d=\"M 62.984375 27.484375 \nL 62.984375 22.515625 \nL 22.125 22.515625 \nQ 22.75 16.359375 26.5625 13.28125 \nQ 30.375 10.203125 37.203125 10.203125 \nQ 42.71875 10.203125 48.5 11.84375 \nQ 54.296875 13.484375 60.40625 16.796875 \nL 60.40625 3.328125 \nQ 54.203125 0.984375 48 -0.21875 \nQ 41.796875 -1.421875 35.59375 -1.421875 \nQ 20.75 -1.421875 12.515625 6.125 \nQ 4.296875 13.671875 4.296875 27.296875 \nQ 4.296875 40.671875 12.375 48.328125 \nQ 20.453125 56 34.625 56 \nQ 47.515625 56 55.25 48.234375 \nQ 62.984375 40.484375 62.984375 27.484375 \nz\nM 45.015625 33.296875 \nQ 45.015625 38.28125 42.109375 41.328125 \nQ 39.203125 44.390625 34.515625 44.390625 \nQ 29.4375 44.390625 26.265625 41.53125 \nQ 23.09375 38.671875 22.3125 33.296875 \nz\n\" id=\"DejaVuSans-Bold-101\"/>\n      <path d=\"M 49.03125 39.796875 \nQ 46.734375 40.875 44.453125 41.375 \nQ 42.1875 41.890625 39.890625 41.890625 \nQ 33.15625 41.890625 29.515625 37.5625 \nQ 25.875 33.25 25.875 25.203125 \nL 25.875 0 \nL 8.40625 0 \nL 8.40625 54.6875 \nL 25.875 54.6875 \nL 25.875 45.703125 \nQ 29.25 51.078125 33.609375 53.53125 \nQ 37.984375 56 44.09375 56 \nQ 44.96875 56 45.984375 55.921875 \nQ 47.015625 55.859375 48.96875 55.609375 \nz\n\" id=\"DejaVuSans-Bold-114\"/>\n      <path id=\"DejaVuSans-Bold-32\"/>\n      <path d=\"M 34.421875 43.5 \nQ 28.609375 43.5 25.5625 39.328125 \nQ 22.515625 35.15625 22.515625 27.296875 \nQ 22.515625 19.4375 25.5625 15.25 \nQ 28.609375 11.078125 34.421875 11.078125 \nQ 40.140625 11.078125 43.15625 15.25 \nQ 46.1875 19.4375 46.1875 27.296875 \nQ 46.1875 35.15625 43.15625 39.328125 \nQ 40.140625 43.5 34.421875 43.5 \nz\nM 34.421875 56 \nQ 48.53125 56 56.46875 48.375 \nQ 64.40625 40.765625 64.40625 27.296875 \nQ 64.40625 13.8125 56.46875 6.1875 \nQ 48.53125 -1.421875 34.421875 -1.421875 \nQ 20.265625 -1.421875 12.28125 6.1875 \nQ 4.296875 13.8125 4.296875 27.296875 \nQ 4.296875 40.765625 12.28125 48.375 \nQ 20.265625 56 34.421875 56 \nz\n\" id=\"DejaVuSans-Bold-111\"/>\n      <path d=\"M 44.390625 75.984375 \nL 44.390625 64.5 \nL 34.71875 64.5 \nQ 31 64.5 29.53125 63.15625 \nQ 28.078125 61.8125 28.078125 58.5 \nL 28.078125 54.6875 \nL 43.015625 54.6875 \nL 43.015625 42.1875 \nL 28.078125 42.1875 \nL 28.078125 0 \nL 10.59375 0 \nL 10.59375 42.1875 \nL 1.90625 42.1875 \nL 1.90625 54.6875 \nL 10.59375 54.6875 \nL 10.59375 58.5 \nQ 10.59375 67.4375 15.578125 71.703125 \nQ 20.5625 75.984375 31 75.984375 \nz\n\" id=\"DejaVuSans-Bold-102\"/>\n      <path d=\"M 51.125 52.984375 \nL 51.125 39.703125 \nQ 45.515625 42.046875 40.28125 43.21875 \nQ 35.0625 44.390625 30.421875 44.390625 \nQ 25.4375 44.390625 23.015625 43.140625 \nQ 20.609375 41.890625 20.609375 39.3125 \nQ 20.609375 37.203125 22.4375 36.078125 \nQ 24.265625 34.96875 29 34.421875 \nL 32.078125 33.984375 \nQ 45.515625 32.28125 50.140625 28.375 \nQ 54.78125 24.46875 54.78125 16.109375 \nQ 54.78125 7.375 48.328125 2.96875 \nQ 41.890625 -1.421875 29.109375 -1.421875 \nQ 23.6875 -1.421875 17.890625 -0.5625 \nQ 12.109375 0.296875 6 2 \nL 6 15.28125 \nQ 11.234375 12.75 16.71875 11.46875 \nQ 22.21875 10.203125 27.875 10.203125 \nQ 33.015625 10.203125 35.59375 11.609375 \nQ 38.1875 13.03125 38.1875 15.828125 \nQ 38.1875 18.171875 36.40625 19.3125 \nQ 34.625 20.453125 29.296875 21.09375 \nL 26.21875 21.484375 \nQ 14.546875 22.953125 9.859375 26.90625 \nQ 5.171875 30.859375 5.171875 38.921875 \nQ 5.171875 47.609375 11.125 51.796875 \nQ 17.09375 56 29.390625 56 \nQ 34.234375 56 39.546875 55.265625 \nQ 44.875 54.546875 51.125 52.984375 \nz\n\" id=\"DejaVuSans-Bold-115\"/>\n      <path d=\"M 63.375 33.296875 \nL 63.375 0 \nL 45.796875 0 \nL 45.796875 5.421875 \nL 45.796875 25.390625 \nQ 45.796875 32.5625 45.484375 35.25 \nQ 45.171875 37.9375 44.390625 39.203125 \nQ 43.359375 40.921875 41.59375 41.875 \nQ 39.84375 42.828125 37.59375 42.828125 \nQ 32.125 42.828125 29 38.59375 \nQ 25.875 34.375 25.875 26.90625 \nL 25.875 0 \nL 8.40625 0 \nL 8.40625 75.984375 \nL 25.875 75.984375 \nL 25.875 46.6875 \nQ 29.828125 51.46875 34.265625 53.734375 \nQ 38.71875 56 44.09375 56 \nQ 53.5625 56 58.46875 50.1875 \nQ 63.375 44.390625 63.375 33.296875 \nz\n\" id=\"DejaVuSans-Bold-104\"/>\n      <path d=\"M 27.484375 70.21875 \nL 27.484375 54.6875 \nL 45.515625 54.6875 \nL 45.515625 42.1875 \nL 27.484375 42.1875 \nL 27.484375 19 \nQ 27.484375 15.1875 29 13.84375 \nQ 30.515625 12.5 35.015625 12.5 \nL 44 12.5 \nL 44 0 \nL 29 0 \nQ 18.65625 0 14.328125 4.3125 \nQ 10.015625 8.640625 10.015625 19 \nL 10.015625 42.1875 \nL 1.3125 42.1875 \nL 1.3125 54.6875 \nL 10.015625 54.6875 \nL 10.015625 70.21875 \nz\n\" id=\"DejaVuSans-Bold-116\"/>\n      <path d=\"M 25.875 7.90625 \nL 25.875 -20.796875 \nL 8.40625 -20.796875 \nL 8.40625 54.6875 \nL 25.875 54.6875 \nL 25.875 46.6875 \nQ 29.5 51.46875 33.890625 53.734375 \nQ 38.28125 56 44 56 \nQ 54.109375 56 60.59375 47.96875 \nQ 67.09375 39.9375 67.09375 27.296875 \nQ 67.09375 14.65625 60.59375 6.609375 \nQ 54.109375 -1.421875 44 -1.421875 \nQ 38.28125 -1.421875 33.890625 0.84375 \nQ 29.5 3.125 25.875 7.90625 \nz\nM 37.5 43.3125 \nQ 31.890625 43.3125 28.875 39.1875 \nQ 25.875 35.0625 25.875 27.296875 \nQ 25.875 19.53125 28.875 15.40625 \nQ 31.890625 11.28125 37.5 11.28125 \nQ 43.109375 11.28125 46.0625 15.375 \nQ 49.03125 19.484375 49.03125 27.296875 \nQ 49.03125 35.109375 46.0625 39.203125 \nQ 43.109375 43.3125 37.5 43.3125 \nz\n\" id=\"DejaVuSans-Bold-112\"/>\n      <path d=\"M 52.59375 52.984375 \nL 52.59375 38.71875 \nQ 49.03125 41.15625 45.4375 42.328125 \nQ 41.84375 43.5 37.984375 43.5 \nQ 30.671875 43.5 26.59375 39.234375 \nQ 22.515625 34.96875 22.515625 27.296875 \nQ 22.515625 19.625 26.59375 15.34375 \nQ 30.671875 11.078125 37.984375 11.078125 \nQ 42.09375 11.078125 45.78125 12.296875 \nQ 49.46875 13.53125 52.59375 15.921875 \nL 52.59375 1.609375 \nQ 48.484375 0.09375 44.265625 -0.65625 \nQ 40.046875 -1.421875 35.796875 -1.421875 \nQ 21 -1.421875 12.640625 6.171875 \nQ 4.296875 13.765625 4.296875 27.296875 \nQ 4.296875 40.828125 12.640625 48.40625 \nQ 21 56 35.796875 56 \nQ 40.09375 56 44.265625 55.25 \nQ 48.4375 54.5 52.59375 52.984375 \nz\n\" id=\"DejaVuSans-Bold-99\"/>\n      <path d=\"M 8.40625 75.984375 \nL 25.875 75.984375 \nL 25.875 0 \nL 8.40625 0 \nz\n\" id=\"DejaVuSans-Bold-108\"/>\n      <path d=\"M 32.90625 24.609375 \nQ 27.4375 24.609375 24.671875 22.75 \nQ 21.921875 20.90625 21.921875 17.28125 \nQ 21.921875 13.96875 24.140625 12.078125 \nQ 26.375 10.203125 30.328125 10.203125 \nQ 35.25 10.203125 38.625 13.734375 \nQ 42 17.28125 42 22.609375 \nL 42 24.609375 \nz\nM 59.625 31.203125 \nL 59.625 0 \nL 42 0 \nL 42 8.109375 \nQ 38.484375 3.125 34.078125 0.84375 \nQ 29.6875 -1.421875 23.390625 -1.421875 \nQ 14.890625 -1.421875 9.59375 3.53125 \nQ 4.296875 8.5 4.296875 16.40625 \nQ 4.296875 26.03125 10.90625 30.515625 \nQ 17.53125 35.015625 31.6875 35.015625 \nL 42 35.015625 \nL 42 36.375 \nQ 42 40.53125 38.71875 42.453125 \nQ 35.453125 44.390625 28.515625 44.390625 \nQ 22.90625 44.390625 18.0625 43.265625 \nQ 13.234375 42.140625 9.078125 39.890625 \nL 9.078125 53.21875 \nQ 14.703125 54.59375 20.359375 55.296875 \nQ 26.03125 56 31.6875 56 \nQ 46.484375 56 53.046875 50.171875 \nQ 59.625 44.34375 59.625 31.203125 \nz\n\" id=\"DejaVuSans-Bold-97\"/>\n     </defs>\n     <g style=\"fill:#262626;\" transform=\"translate(107.82 218.662188)scale(0.12 -0.12)\">\n      <use xlink:href=\"#DejaVuSans-Bold-78\"/>\n      <use x=\"83.691406\" xlink:href=\"#DejaVuSans-Bold-117\"/>\n      <use x=\"154.882812\" xlink:href=\"#DejaVuSans-Bold-109\"/>\n      <use x=\"259.082031\" xlink:href=\"#DejaVuSans-Bold-98\"/>\n      <use x=\"330.664062\" xlink:href=\"#DejaVuSans-Bold-101\"/>\n      <use x=\"398.486328\" xlink:href=\"#DejaVuSans-Bold-114\"/>\n      <use x=\"447.802734\" xlink:href=\"#DejaVuSans-Bold-32\"/>\n      <use x=\"482.617188\" xlink:href=\"#DejaVuSans-Bold-111\"/>\n      <use x=\"551.318359\" xlink:href=\"#DejaVuSans-Bold-102\"/>\n      <use x=\"594.824219\" xlink:href=\"#DejaVuSans-Bold-32\"/>\n      <use x=\"629.638672\" xlink:href=\"#DejaVuSans-Bold-115\"/>\n      <use x=\"689.160156\" xlink:href=\"#DejaVuSans-Bold-104\"/>\n      <use x=\"760.351562\" xlink:href=\"#DejaVuSans-Bold-111\"/>\n      <use x=\"829.052734\" xlink:href=\"#DejaVuSans-Bold-116\"/>\n      <use x=\"876.855469\" xlink:href=\"#DejaVuSans-Bold-115\"/>\n      <use x=\"936.376953\" xlink:href=\"#DejaVuSans-Bold-32\"/>\n      <use x=\"971.191406\" xlink:href=\"#DejaVuSans-Bold-112\"/>\n      <use x=\"1042.773438\" xlink:href=\"#DejaVuSans-Bold-101\"/>\n      <use x=\"1110.595703\" xlink:href=\"#DejaVuSans-Bold-114\"/>\n      <use x=\"1159.912109\" xlink:href=\"#DejaVuSans-Bold-32\"/>\n      <use x=\"1194.726562\" xlink:href=\"#DejaVuSans-Bold-99\"/>\n      <use x=\"1254.003906\" xlink:href=\"#DejaVuSans-Bold-108\"/>\n      <use x=\"1288.28125\" xlink:href=\"#DejaVuSans-Bold-97\"/>\n      <use x=\"1355.761719\" xlink:href=\"#DejaVuSans-Bold-115\"/>\n      <use x=\"1415.283203\" xlink:href=\"#DejaVuSans-Bold-115\"/>\n     </g>\n    </g>\n   </g>\n   <g id=\"matplotlib.axis_2\">\n    <g id=\"ytick_1\">\n     <g id=\"line2d_6\">\n      <path clip-path=\"url(#p34f9e684ef)\" d=\"M 56.805937 181.685023 \nL 335.805938 181.685023 \n\" style=\"fill:none;stroke:#ffffff;stroke-linecap:round;\"/>\n     </g>\n     <g id=\"text_7\">\n      <!-- 0.40 -->\n      <defs>\n       <path d=\"M 31.78125 66.40625 \nQ 24.171875 66.40625 20.328125 58.90625 \nQ 16.5 51.421875 16.5 36.375 \nQ 16.5 21.390625 20.328125 13.890625 \nQ 24.171875 6.390625 31.78125 6.390625 \nQ 39.453125 6.390625 43.28125 13.890625 \nQ 47.125 21.390625 47.125 36.375 \nQ 47.125 51.421875 43.28125 58.90625 \nQ 39.453125 66.40625 31.78125 66.40625 \nz\nM 31.78125 74.21875 \nQ 44.046875 74.21875 50.515625 64.515625 \nQ 56.984375 54.828125 56.984375 36.375 \nQ 56.984375 17.96875 50.515625 8.265625 \nQ 44.046875 -1.421875 31.78125 -1.421875 \nQ 19.53125 -1.421875 13.0625 8.265625 \nQ 6.59375 17.96875 6.59375 36.375 \nQ 6.59375 54.828125 13.0625 64.515625 \nQ 19.53125 74.21875 31.78125 74.21875 \nz\n\" id=\"DejaVuSans-48\"/>\n       <path d=\"M 10.6875 12.40625 \nL 21 12.40625 \nL 21 0 \nL 10.6875 0 \nz\n\" id=\"DejaVuSans-46\"/>\n      </defs>\n      <g style=\"fill:#262626;\" transform=\"translate(22.81375 185.864164)scale(0.11 -0.11)\">\n       <use xlink:href=\"#DejaVuSans-48\"/>\n       <use x=\"63.623047\" xlink:href=\"#DejaVuSans-46\"/>\n       <use x=\"95.410156\" xlink:href=\"#DejaVuSans-52\"/>\n       <use x=\"159.033203\" xlink:href=\"#DejaVuSans-48\"/>\n      </g>\n     </g>\n    </g>\n    <g id=\"ytick_2\">\n     <g id=\"line2d_7\">\n      <path clip-path=\"url(#p34f9e684ef)\" d=\"M 56.805937 153.919401 \nL 335.805938 153.919401 \n\" style=\"fill:none;stroke:#ffffff;stroke-linecap:round;\"/>\n     </g>\n     <g id=\"text_8\">\n      <!-- 0.45 -->\n      <defs>\n       <path d=\"M 10.796875 72.90625 \nL 49.515625 72.90625 \nL 49.515625 64.59375 \nL 19.828125 64.59375 \nL 19.828125 46.734375 \nQ 21.96875 47.46875 24.109375 47.828125 \nQ 26.265625 48.1875 28.421875 48.1875 \nQ 40.625 48.1875 47.75 41.5 \nQ 54.890625 34.8125 54.890625 23.390625 \nQ 54.890625 11.625 47.5625 5.09375 \nQ 40.234375 -1.421875 26.90625 -1.421875 \nQ 22.3125 -1.421875 17.546875 -0.640625 \nQ 12.796875 0.140625 7.71875 1.703125 \nL 7.71875 11.625 \nQ 12.109375 9.234375 16.796875 8.0625 \nQ 21.484375 6.890625 26.703125 6.890625 \nQ 35.15625 6.890625 40.078125 11.328125 \nQ 45.015625 15.765625 45.015625 23.390625 \nQ 45.015625 31 40.078125 35.4375 \nQ 35.15625 39.890625 26.703125 39.890625 \nQ 22.75 39.890625 18.8125 39.015625 \nQ 14.890625 38.140625 10.796875 36.28125 \nz\n\" id=\"DejaVuSans-53\"/>\n      </defs>\n      <g style=\"fill:#262626;\" transform=\"translate(22.81375 158.098542)scale(0.11 -0.11)\">\n       <use xlink:href=\"#DejaVuSans-48\"/>\n       <use x=\"63.623047\" xlink:href=\"#DejaVuSans-46\"/>\n       <use x=\"95.410156\" xlink:href=\"#DejaVuSans-52\"/>\n       <use x=\"159.033203\" xlink:href=\"#DejaVuSans-53\"/>\n      </g>\n     </g>\n    </g>\n    <g id=\"ytick_3\">\n     <g id=\"line2d_8\">\n      <path clip-path=\"url(#p34f9e684ef)\" d=\"M 56.805937 126.153779 \nL 335.805938 126.153779 \n\" style=\"fill:none;stroke:#ffffff;stroke-linecap:round;\"/>\n     </g>\n     <g id=\"text_9\">\n      <!-- 0.50 -->\n      <g style=\"fill:#262626;\" transform=\"translate(22.81375 130.332919)scale(0.11 -0.11)\">\n       <use xlink:href=\"#DejaVuSans-48\"/>\n       <use x=\"63.623047\" xlink:href=\"#DejaVuSans-46\"/>\n       <use x=\"95.410156\" xlink:href=\"#DejaVuSans-53\"/>\n       <use x=\"159.033203\" xlink:href=\"#DejaVuSans-48\"/>\n      </g>\n     </g>\n    </g>\n    <g id=\"ytick_4\">\n     <g id=\"line2d_9\">\n      <path clip-path=\"url(#p34f9e684ef)\" d=\"M 56.805937 98.388156 \nL 335.805938 98.388156 \n\" style=\"fill:none;stroke:#ffffff;stroke-linecap:round;\"/>\n     </g>\n     <g id=\"text_10\">\n      <!-- 0.55 -->\n      <g style=\"fill:#262626;\" transform=\"translate(22.81375 102.567297)scale(0.11 -0.11)\">\n       <use xlink:href=\"#DejaVuSans-48\"/>\n       <use x=\"63.623047\" xlink:href=\"#DejaVuSans-46\"/>\n       <use x=\"95.410156\" xlink:href=\"#DejaVuSans-53\"/>\n       <use x=\"159.033203\" xlink:href=\"#DejaVuSans-53\"/>\n      </g>\n     </g>\n    </g>\n    <g id=\"ytick_5\">\n     <g id=\"line2d_10\">\n      <path clip-path=\"url(#p34f9e684ef)\" d=\"M 56.805937 70.622534 \nL 335.805938 70.622534 \n\" style=\"fill:none;stroke:#ffffff;stroke-linecap:round;\"/>\n     </g>\n     <g id=\"text_11\">\n      <!-- 0.60 -->\n      <g style=\"fill:#262626;\" transform=\"translate(22.81375 74.801675)scale(0.11 -0.11)\">\n       <use xlink:href=\"#DejaVuSans-48\"/>\n       <use x=\"63.623047\" xlink:href=\"#DejaVuSans-46\"/>\n       <use x=\"95.410156\" xlink:href=\"#DejaVuSans-54\"/>\n       <use x=\"159.033203\" xlink:href=\"#DejaVuSans-48\"/>\n      </g>\n     </g>\n    </g>\n    <g id=\"ytick_6\">\n     <g id=\"line2d_11\">\n      <path clip-path=\"url(#p34f9e684ef)\" d=\"M 56.805937 42.856912 \nL 335.805938 42.856912 \n\" style=\"fill:none;stroke:#ffffff;stroke-linecap:round;\"/>\n     </g>\n     <g id=\"text_12\">\n      <!-- 0.65 -->\n      <g style=\"fill:#262626;\" transform=\"translate(22.81375 47.036052)scale(0.11 -0.11)\">\n       <use xlink:href=\"#DejaVuSans-48\"/>\n       <use x=\"63.623047\" xlink:href=\"#DejaVuSans-46\"/>\n       <use x=\"95.410156\" xlink:href=\"#DejaVuSans-54\"/>\n       <use x=\"159.033203\" xlink:href=\"#DejaVuSans-53\"/>\n      </g>\n     </g>\n    </g>\n    <g id=\"text_13\">\n     <!-- Accuracy -->\n     <defs>\n      <path d=\"M 53.421875 13.28125 \nL 24.03125 13.28125 \nL 19.390625 0 \nL 0.484375 0 \nL 27.484375 72.90625 \nL 49.90625 72.90625 \nL 76.90625 0 \nL 58.015625 0 \nz\nM 28.71875 26.8125 \nL 48.6875 26.8125 \nL 38.71875 55.8125 \nz\n\" id=\"DejaVuSans-Bold-65\"/>\n      <path d=\"M 1.21875 54.6875 \nL 18.703125 54.6875 \nL 33.40625 17.578125 \nL 45.90625 54.6875 \nL 63.375 54.6875 \nL 40.375 -5.171875 \nQ 36.921875 -14.3125 32.296875 -17.9375 \nQ 27.6875 -21.578125 20.125 -21.578125 \nL 10.015625 -21.578125 \nL 10.015625 -10.109375 \nL 15.484375 -10.109375 \nQ 19.921875 -10.109375 21.9375 -8.6875 \nQ 23.96875 -7.28125 25.09375 -3.609375 \nL 25.59375 -2.09375 \nz\n\" id=\"DejaVuSans-Bold-121\"/>\n     </defs>\n     <g style=\"fill:#262626;\" transform=\"translate(16.224375 134.3625)rotate(-90)scale(0.12 -0.12)\">\n      <use xlink:href=\"#DejaVuSans-Bold-65\"/>\n      <use x=\"77.392578\" xlink:href=\"#DejaVuSans-Bold-99\"/>\n      <use x=\"136.669922\" xlink:href=\"#DejaVuSans-Bold-99\"/>\n      <use x=\"195.947266\" xlink:href=\"#DejaVuSans-Bold-117\"/>\n      <use x=\"267.138672\" xlink:href=\"#DejaVuSans-Bold-114\"/>\n      <use x=\"316.455078\" xlink:href=\"#DejaVuSans-Bold-97\"/>\n      <use x=\"383.935547\" xlink:href=\"#DejaVuSans-Bold-99\"/>\n      <use x=\"443.212891\" xlink:href=\"#DejaVuSans-Bold-121\"/>\n     </g>\n    </g>\n   </g>\n   <g id=\"PolyCollection_1\">\n    <defs>\n     <path d=\"M 65.524687 -90.689795 \nL 65.524687 -50.372415 \nL 82.962187 -101.07789 \nL 117.837187 -137.10154 \nL 187.587187 -166.286631 \nL 327.087188 -188.954701 \nL 327.087188 -198.62696 \nL 327.087188 -198.62696 \nL 187.587187 -177.654852 \nL 117.837187 -151.581445 \nL 82.962187 -126.322843 \nL 65.524687 -90.689795 \nz\n\" id=\"m18e4c662e3\" style=\"stroke:#dd8452;stroke-opacity:0.2;\"/>\n    </defs>\n    <g clip-path=\"url(#p34f9e684ef)\">\n     <use style=\"fill:#dd8452;fill-opacity:0.2;stroke:#dd8452;stroke-opacity:0.2;\" x=\"0\" xlink:href=\"#m18e4c662e3\" y=\"228.357813\"/>\n    </g>\n   </g>\n   <g id=\"line2d_12\">\n    <path clip-path=\"url(#p34f9e684ef)\" d=\"M 65.524687 157.826707 \nL 82.962187 114.657446 \nL 117.837187 84.01632 \nL 187.587187 56.387071 \nL 327.087188 34.566982 \n\" style=\"fill:none;stroke:#dd8452;stroke-linecap:round;stroke-width:1.5;\"/>\n    <defs>\n     <path d=\"M 0 3 \nC 0.795609 3 1.55874 2.683901 2.12132 2.12132 \nC 2.683901 1.55874 3 0.795609 3 0 \nC 3 -0.795609 2.683901 -1.55874 2.12132 -2.12132 \nC 1.55874 -2.683901 0.795609 -3 0 -3 \nC -0.795609 -3 -1.55874 -2.683901 -2.12132 -2.12132 \nC -2.683901 -1.55874 -3 -0.795609 -3 0 \nC -3 0.795609 -2.683901 1.55874 -2.12132 2.12132 \nC -1.55874 2.683901 -0.795609 3 0 3 \nz\n\" id=\"m2dbcf28b28\" style=\"stroke:#1a1a1a;\"/>\n    </defs>\n    <g clip-path=\"url(#p34f9e684ef)\">\n     <use style=\"fill:#dd8452;stroke:#1a1a1a;\" x=\"65.524687\" xlink:href=\"#m2dbcf28b28\" y=\"157.826707\"/>\n     <use style=\"fill:#dd8452;stroke:#1a1a1a;\" x=\"82.962187\" xlink:href=\"#m2dbcf28b28\" y=\"114.657446\"/>\n     <use style=\"fill:#dd8452;stroke:#1a1a1a;\" x=\"117.837187\" xlink:href=\"#m2dbcf28b28\" y=\"84.01632\"/>\n     <use style=\"fill:#dd8452;stroke:#1a1a1a;\" x=\"187.587187\" xlink:href=\"#m2dbcf28b28\" y=\"56.387071\"/>\n     <use style=\"fill:#dd8452;stroke:#1a1a1a;\" x=\"327.087188\" xlink:href=\"#m2dbcf28b28\" y=\"34.566982\"/>\n    </g>\n   </g>\n   <g id=\"patch_3\">\n    <path d=\"M 56.805937 185.398125 \nL 56.805937 22.318125 \n\" style=\"fill:none;stroke:#ffffff;stroke-linecap:square;stroke-linejoin:miter;stroke-width:1.25;\"/>\n   </g>\n   <g id=\"patch_4\">\n    <path d=\"M 335.805938 185.398125 \nL 335.805938 22.318125 \n\" style=\"fill:none;stroke:#ffffff;stroke-linecap:square;stroke-linejoin:miter;stroke-width:1.25;\"/>\n   </g>\n   <g id=\"patch_5\">\n    <path d=\"M 56.805937 185.398125 \nL 335.805938 185.398125 \n\" style=\"fill:none;stroke:#ffffff;stroke-linecap:square;stroke-linejoin:miter;stroke-width:1.25;\"/>\n   </g>\n   <g id=\"patch_6\">\n    <path d=\"M 56.805937 22.318125 \nL 335.805938 22.318125 \n\" style=\"fill:none;stroke:#ffffff;stroke-linecap:square;stroke-linejoin:miter;stroke-width:1.25;\"/>\n   </g>\n   <g id=\"text_14\">\n    <!-- Few-Shot Performance ProtoNet -->\n    <defs>\n     <path d=\"M 9.1875 72.90625 \nL 59.90625 72.90625 \nL 59.90625 58.6875 \nL 27.984375 58.6875 \nL 27.984375 45.125 \nL 58.015625 45.125 \nL 58.015625 30.90625 \nL 27.984375 30.90625 \nL 27.984375 0 \nL 9.1875 0 \nz\n\" id=\"DejaVuSans-Bold-70\"/>\n     <path d=\"M 3.515625 54.6875 \nL 20.515625 54.6875 \nL 29.6875 17 \nL 38.921875 54.6875 \nL 53.515625 54.6875 \nL 62.703125 17.390625 \nL 71.921875 54.6875 \nL 88.921875 54.6875 \nL 74.515625 0 \nL 55.421875 0 \nL 46.1875 37.59375 \nL 37.015625 0 \nL 17.921875 0 \nz\n\" id=\"DejaVuSans-Bold-119\"/>\n     <path d=\"M 5.421875 35.890625 \nL 36.078125 35.890625 \nL 36.078125 21.6875 \nL 5.421875 21.6875 \nz\n\" id=\"DejaVuSans-Bold-45\"/>\n     <path d=\"M 59.90625 70.609375 \nL 59.90625 55.171875 \nQ 53.90625 57.859375 48.1875 59.21875 \nQ 42.484375 60.59375 37.40625 60.59375 \nQ 30.671875 60.59375 27.4375 58.734375 \nQ 24.21875 56.890625 24.21875 52.984375 \nQ 24.21875 50.046875 26.390625 48.40625 \nQ 28.5625 46.78125 34.28125 45.609375 \nL 42.28125 44 \nQ 54.4375 41.546875 59.5625 36.5625 \nQ 64.703125 31.59375 64.703125 22.40625 \nQ 64.703125 10.359375 57.546875 4.46875 \nQ 50.390625 -1.421875 35.6875 -1.421875 \nQ 28.765625 -1.421875 21.78125 -0.09375 \nQ 14.796875 1.21875 7.8125 3.8125 \nL 7.8125 19.671875 \nQ 14.796875 15.96875 21.3125 14.078125 \nQ 27.828125 12.203125 33.890625 12.203125 \nQ 40.046875 12.203125 43.3125 14.25 \nQ 46.578125 16.3125 46.578125 20.125 \nQ 46.578125 23.53125 44.359375 25.390625 \nQ 42.140625 27.25 35.5 28.71875 \nL 28.21875 30.328125 \nQ 17.28125 32.671875 12.21875 37.796875 \nQ 7.171875 42.921875 7.171875 51.609375 \nQ 7.171875 62.5 14.203125 68.359375 \nQ 21.234375 74.21875 34.421875 74.21875 \nQ 40.4375 74.21875 46.78125 73.3125 \nQ 53.125 72.40625 59.90625 70.609375 \nz\n\" id=\"DejaVuSans-Bold-83\"/>\n     <path d=\"M 9.1875 72.90625 \nL 40.375 72.90625 \nQ 54.296875 72.90625 61.734375 66.71875 \nQ 69.1875 60.546875 69.1875 49.125 \nQ 69.1875 37.640625 61.734375 31.46875 \nQ 54.296875 25.296875 40.375 25.296875 \nL 27.984375 25.296875 \nL 27.984375 0 \nL 9.1875 0 \nz\nM 27.984375 59.28125 \nL 27.984375 38.921875 \nL 38.375 38.921875 \nQ 43.84375 38.921875 46.828125 41.578125 \nQ 49.8125 44.234375 49.8125 49.125 \nQ 49.8125 54 46.828125 56.640625 \nQ 43.84375 59.28125 38.375 59.28125 \nz\n\" id=\"DejaVuSans-Bold-80\"/>\n     <path d=\"M 63.375 33.296875 \nL 63.375 0 \nL 45.796875 0 \nL 45.796875 5.421875 \nL 45.796875 25.484375 \nQ 45.796875 32.5625 45.484375 35.25 \nQ 45.171875 37.9375 44.390625 39.203125 \nQ 43.359375 40.921875 41.59375 41.875 \nQ 39.84375 42.828125 37.59375 42.828125 \nQ 32.125 42.828125 29 38.59375 \nQ 25.875 34.375 25.875 26.90625 \nL 25.875 0 \nL 8.40625 0 \nL 8.40625 54.6875 \nL 25.875 54.6875 \nL 25.875 46.6875 \nQ 29.828125 51.46875 34.265625 53.734375 \nQ 38.71875 56 44.09375 56 \nQ 53.5625 56 58.46875 50.1875 \nQ 63.375 44.390625 63.375 33.296875 \nz\n\" id=\"DejaVuSans-Bold-110\"/>\n    </defs>\n    <g style=\"fill:#262626;\" transform=\"translate(86.840625 16.318125)scale(0.12 -0.12)\">\n     <use xlink:href=\"#DejaVuSans-Bold-70\"/>\n     <use x=\"64.310547\" xlink:href=\"#DejaVuSans-Bold-101\"/>\n     <use x=\"132.132812\" xlink:href=\"#DejaVuSans-Bold-119\"/>\n     <use x=\"224.515625\" xlink:href=\"#DejaVuSans-Bold-45\"/>\n     <use x=\"266.019531\" xlink:href=\"#DejaVuSans-Bold-83\"/>\n     <use x=\"338.041016\" xlink:href=\"#DejaVuSans-Bold-104\"/>\n     <use x=\"409.232422\" xlink:href=\"#DejaVuSans-Bold-111\"/>\n     <use x=\"477.933594\" xlink:href=\"#DejaVuSans-Bold-116\"/>\n     <use x=\"525.736328\" xlink:href=\"#DejaVuSans-Bold-32\"/>\n     <use x=\"560.550781\" xlink:href=\"#DejaVuSans-Bold-80\"/>\n     <use x=\"633.841797\" xlink:href=\"#DejaVuSans-Bold-101\"/>\n     <use x=\"701.664062\" xlink:href=\"#DejaVuSans-Bold-114\"/>\n     <use x=\"750.980469\" xlink:href=\"#DejaVuSans-Bold-102\"/>\n     <use x=\"794.486328\" xlink:href=\"#DejaVuSans-Bold-111\"/>\n     <use x=\"863.1875\" xlink:href=\"#DejaVuSans-Bold-114\"/>\n     <use x=\"912.503906\" xlink:href=\"#DejaVuSans-Bold-109\"/>\n     <use x=\"1016.703125\" xlink:href=\"#DejaVuSans-Bold-97\"/>\n     <use x=\"1084.183594\" xlink:href=\"#DejaVuSans-Bold-110\"/>\n     <use x=\"1155.375\" xlink:href=\"#DejaVuSans-Bold-99\"/>\n     <use x=\"1214.652344\" xlink:href=\"#DejaVuSans-Bold-101\"/>\n     <use x=\"1282.474609\" xlink:href=\"#DejaVuSans-Bold-32\"/>\n     <use x=\"1317.289062\" xlink:href=\"#DejaVuSans-Bold-80\"/>\n     <use x=\"1390.580078\" xlink:href=\"#DejaVuSans-Bold-114\"/>\n     <use x=\"1439.896484\" xlink:href=\"#DejaVuSans-Bold-111\"/>\n     <use x=\"1508.597656\" xlink:href=\"#DejaVuSans-Bold-116\"/>\n     <use x=\"1556.400391\" xlink:href=\"#DejaVuSans-Bold-111\"/>\n     <use x=\"1625.101562\" xlink:href=\"#DejaVuSans-Bold-78\"/>\n     <use x=\"1708.792969\" xlink:href=\"#DejaVuSans-Bold-101\"/>\n     <use x=\"1776.615234\" xlink:href=\"#DejaVuSans-Bold-116\"/>\n    </g>\n   </g>\n   <g id=\"legend_1\">\n    <g id=\"patch_7\">\n     <path d=\"M 64.505938 47.264063 \nL 147.504375 47.264063 \nQ 149.704375 47.264063 149.704375 45.064063 \nL 149.704375 30.018125 \nQ 149.704375 27.818125 147.504375 27.818125 \nL 64.505938 27.818125 \nQ 62.305938 27.818125 62.305938 30.018125 \nL 62.305938 45.064063 \nQ 62.305938 47.264063 64.505938 47.264063 \nz\n\" style=\"fill:#eaeaf2;opacity:0.8;stroke:#cccccc;stroke-linejoin:miter;\"/>\n    </g>\n    <g id=\"line2d_13\">\n     <path d=\"M 66.705938 36.726406 \nL 88.705938 36.726406 \n\" style=\"fill:none;stroke:#dd8452;stroke-linecap:round;stroke-width:1.5;\"/>\n    </g>\n    <g id=\"line2d_14\">\n     <g>\n      <use style=\"fill:#dd8452;stroke:#1a1a1a;\" x=\"77.705938\" xlink:href=\"#m2dbcf28b28\" y=\"36.726406\"/>\n     </g>\n    </g>\n    <g id=\"text_15\">\n     <!-- ProtoNet -->\n     <defs>\n      <path d=\"M 19.671875 64.796875 \nL 19.671875 37.40625 \nL 32.078125 37.40625 \nQ 38.96875 37.40625 42.71875 40.96875 \nQ 46.484375 44.53125 46.484375 51.125 \nQ 46.484375 57.671875 42.71875 61.234375 \nQ 38.96875 64.796875 32.078125 64.796875 \nz\nM 9.8125 72.90625 \nL 32.078125 72.90625 \nQ 44.34375 72.90625 50.609375 67.359375 \nQ 56.890625 61.8125 56.890625 51.125 \nQ 56.890625 40.328125 50.609375 34.8125 \nQ 44.34375 29.296875 32.078125 29.296875 \nL 19.671875 29.296875 \nL 19.671875 0 \nL 9.8125 0 \nz\n\" id=\"DejaVuSans-80\"/>\n      <path d=\"M 41.109375 46.296875 \nQ 39.59375 47.171875 37.8125 47.578125 \nQ 36.03125 48 33.890625 48 \nQ 26.265625 48 22.1875 43.046875 \nQ 18.109375 38.09375 18.109375 28.8125 \nL 18.109375 0 \nL 9.078125 0 \nL 9.078125 54.6875 \nL 18.109375 54.6875 \nL 18.109375 46.1875 \nQ 20.953125 51.171875 25.484375 53.578125 \nQ 30.03125 56 36.53125 56 \nQ 37.453125 56 38.578125 55.875 \nQ 39.703125 55.765625 41.0625 55.515625 \nz\n\" id=\"DejaVuSans-114\"/>\n      <path d=\"M 30.609375 48.390625 \nQ 23.390625 48.390625 19.1875 42.75 \nQ 14.984375 37.109375 14.984375 27.296875 \nQ 14.984375 17.484375 19.15625 11.84375 \nQ 23.34375 6.203125 30.609375 6.203125 \nQ 37.796875 6.203125 41.984375 11.859375 \nQ 46.1875 17.53125 46.1875 27.296875 \nQ 46.1875 37.015625 41.984375 42.703125 \nQ 37.796875 48.390625 30.609375 48.390625 \nz\nM 30.609375 56 \nQ 42.328125 56 49.015625 48.375 \nQ 55.71875 40.765625 55.71875 27.296875 \nQ 55.71875 13.875 49.015625 6.21875 \nQ 42.328125 -1.421875 30.609375 -1.421875 \nQ 18.84375 -1.421875 12.171875 6.21875 \nQ 5.515625 13.875 5.515625 27.296875 \nQ 5.515625 40.765625 12.171875 48.375 \nQ 18.84375 56 30.609375 56 \nz\n\" id=\"DejaVuSans-111\"/>\n      <path d=\"M 18.3125 70.21875 \nL 18.3125 54.6875 \nL 36.8125 54.6875 \nL 36.8125 47.703125 \nL 18.3125 47.703125 \nL 18.3125 18.015625 \nQ 18.3125 11.328125 20.140625 9.421875 \nQ 21.96875 7.515625 27.59375 7.515625 \nL 36.8125 7.515625 \nL 36.8125 0 \nL 27.59375 0 \nQ 17.1875 0 13.234375 3.875 \nQ 9.28125 7.765625 9.28125 18.015625 \nL 9.28125 47.703125 \nL 2.6875 47.703125 \nL 2.6875 54.6875 \nL 9.28125 54.6875 \nL 9.28125 70.21875 \nz\n\" id=\"DejaVuSans-116\"/>\n      <path d=\"M 9.8125 72.90625 \nL 23.09375 72.90625 \nL 55.421875 11.921875 \nL 55.421875 72.90625 \nL 64.984375 72.90625 \nL 64.984375 0 \nL 51.703125 0 \nL 19.390625 60.984375 \nL 19.390625 0 \nL 9.8125 0 \nz\n\" id=\"DejaVuSans-78\"/>\n      <path d=\"M 56.203125 29.59375 \nL 56.203125 25.203125 \nL 14.890625 25.203125 \nQ 15.484375 15.921875 20.484375 11.0625 \nQ 25.484375 6.203125 34.421875 6.203125 \nQ 39.59375 6.203125 44.453125 7.46875 \nQ 49.3125 8.734375 54.109375 11.28125 \nL 54.109375 2.78125 \nQ 49.265625 0.734375 44.1875 -0.34375 \nQ 39.109375 -1.421875 33.890625 -1.421875 \nQ 20.796875 -1.421875 13.15625 6.1875 \nQ 5.515625 13.8125 5.515625 26.8125 \nQ 5.515625 40.234375 12.765625 48.109375 \nQ 20.015625 56 32.328125 56 \nQ 43.359375 56 49.78125 48.890625 \nQ 56.203125 41.796875 56.203125 29.59375 \nz\nM 47.21875 32.234375 \nQ 47.125 39.59375 43.09375 43.984375 \nQ 39.0625 48.390625 32.421875 48.390625 \nQ 24.90625 48.390625 20.390625 44.140625 \nQ 15.875 39.890625 15.1875 32.171875 \nz\n\" id=\"DejaVuSans-101\"/>\n     </defs>\n     <g style=\"fill:#262626;\" transform=\"translate(97.505938 40.576406)scale(0.11 -0.11)\">\n      <use xlink:href=\"#DejaVuSans-80\"/>\n      <use x=\"58.552734\" xlink:href=\"#DejaVuSans-114\"/>\n      <use x=\"97.416016\" xlink:href=\"#DejaVuSans-111\"/>\n      <use x=\"158.597656\" xlink:href=\"#DejaVuSans-116\"/>\n      <use x=\"197.806641\" xlink:href=\"#DejaVuSans-111\"/>\n      <use x=\"258.988281\" xlink:href=\"#DejaVuSans-78\"/>\n      <use x=\"333.792969\" xlink:href=\"#DejaVuSans-101\"/>\n      <use x=\"395.316406\" xlink:href=\"#DejaVuSans-116\"/>\n     </g>\n    </g>\n   </g>\n  </g>\n </g>\n <defs>\n  <clipPath id=\"p34f9e684ef\">\n   <rect height=\"163.08\" width=\"279\" x=\"56.805937\" y=\"22.318125\"/>\n  </clipPath>\n </defs>\n</svg>\n",
            "application/pdf": "[encoded data removed]"
          },
          "metadata": {}
        }
      ],
      "source": [
        "ax = plot_few_shot(protonet_accuracies, name=\"ProtoNet\", color=\"C1\")\n",
        "plt.show()\n",
        "plt.close()"
      ]
    },
    {
      "cell_type": "markdown",
      "id": "d99265a0",
      "metadata": {
        "papermill": {
          "duration": 0.04916,
          "end_time": "2021-10-10T16:37:26.050508",
          "exception": false,
          "start_time": "2021-10-10T16:37:26.001348",
          "status": "completed"
        },
        "tags": [],
        "id": "d99265a0"
      },
      "source": [
        "As we initially expected, the performance of ProtoNet indeed increases the more samples we have.\n",
        "However, even with just two samples per class, we classify almost half of the images correctly, which is well above random accuracy (10%).\n",
        "The curve shows an exponentially dampend trend, meaning that adding 2 extra examples to $k=2$ has a much higher impact than adding 2 extra samples if we already have $k=16$.\n",
        "Nonetheless, we can say that ProtoNet adapts fairly well to new classes."
      ]
    },
    {
      "cell_type": "markdown",
      "source": [
        "## Reference\n",
        "\n",
        "\n",
        "*   https://colab.research.google.com/github/PytorchLightning/lightning-tutorials/blob/publication/.notebooks/course_UvA-DL/12-meta-learning.ipynb\n",
        "\n",
        "\n"
      ],
      "metadata": {
        "id": "HmXWgrlRGNbN"
      },
      "id": "HmXWgrlRGNbN"
    }
  ],
  "metadata": {
    "jupytext": {
      "cell_metadata_filter": "id,colab,colab_type,-all",
      "formats": "ipynb,py:percent",
      "main_language": "python"
    },
    "language_info": {
      "name": "python"
    },
    "papermill": {
      "default_parameters": {},
      "duration": 106.820185,
      "end_time": "2021-10-10T16:38:11.928740",
      "environment_variables": {},
      "exception": null,
      "input_path": "course_UvA-DL/12-meta-learning/Meta_Learning.ipynb",
      "output_path": ".notebooks/course_UvA-DL/12-meta-learning.ipynb",
      "parameters": {},
      "start_time": "2021-10-10T16:36:25.108555",
      "version": "2.3.3"
    },
    "widgets": {
      "application/vnd.jupyter.widget-state+json": {
        "0ce5ca76ff8d4aa6803bbaea67fe652c": {
          "model_module": "@jupyter-widgets/controls",
          "model_name": "HBoxModel",
          "model_module_version": "1.5.0",
          "state": {
            "_dom_classes": [],
            "_model_module": "@jupyter-widgets/controls",
            "_model_module_version": "1.5.0",
            "_model_name": "HBoxModel",
            "_view_count": null,
            "_view_module": "@jupyter-widgets/controls",
            "_view_module_version": "1.5.0",
            "_view_name": "HBoxView",
            "box_style": "",
            "children": [
              "IPY_MODEL_55b9f1c4310c4c5fbfb42821ed9fd70c",
              "IPY_MODEL_ab0c6a8c97264faeb27c0878856b8a2d",
              "IPY_MODEL_7636277dbdbd46f083fc010b92f1002d"
            ],
            "layout": "IPY_MODEL_7168cd32cdc34b5e9b14d698e5a8fe5b"
          }
        },
        "55b9f1c4310c4c5fbfb42821ed9fd70c": {
          "model_module": "@jupyter-widgets/controls",
          "model_name": "HTMLModel",
          "model_module_version": "1.5.0",
          "state": {
            "_dom_classes": [],
            "_model_module": "@jupyter-widgets/controls",
            "_model_module_version": "1.5.0",
            "_model_name": "HTMLModel",
            "_view_count": null,
            "_view_module": "@jupyter-widgets/controls",
            "_view_module_version": "1.5.0",
            "_view_name": "HTMLView",
            "description": "",
            "description_tooltip": null,
            "layout": "IPY_MODEL_806bdb25949246b0823872376f3d5071",
            "placeholder": "​",
            "style": "IPY_MODEL_836ae6e1dca84a778f5b0cf520b53629",
            "value": ""
          }
        },
        "ab0c6a8c97264faeb27c0878856b8a2d": {
          "model_module": "@jupyter-widgets/controls",
          "model_name": "FloatProgressModel",
          "model_module_version": "1.5.0",
          "state": {
            "_dom_classes": [],
            "_model_module": "@jupyter-widgets/controls",
            "_model_module_version": "1.5.0",
            "_model_name": "FloatProgressModel",
            "_view_count": null,
            "_view_module": "@jupyter-widgets/controls",
            "_view_module_version": "1.5.0",
            "_view_name": "ProgressView",
            "bar_style": "success",
            "description": "",
            "description_tooltip": null,
            "layout": "IPY_MODEL_c99ad060dd6e41748755fec88d837c8b",
            "max": 169001437,
            "min": 0,
            "orientation": "horizontal",
            "style": "IPY_MODEL_bad52e3b311c4f6b8c7257674a749dc2",
            "value": 169001437
          }
        },
        "7636277dbdbd46f083fc010b92f1002d": {
          "model_module": "@jupyter-widgets/controls",
          "model_name": "HTMLModel",
          "model_module_version": "1.5.0",
          "state": {
            "_dom_classes": [],
            "_model_module": "@jupyter-widgets/controls",
            "_model_module_version": "1.5.0",
            "_model_name": "HTMLModel",
            "_view_count": null,
            "_view_module": "@jupyter-widgets/controls",
            "_view_module_version": "1.5.0",
            "_view_name": "HTMLView",
            "description": "",
            "description_tooltip": null,
            "layout": "IPY_MODEL_898ed43b760347fabda8d9e7e09c7a59",
            "placeholder": "​",
            "style": "IPY_MODEL_5aa2f18599b642d18c739427eea5226d",
            "value": " 169001984/? [00:03&lt;00:00, 48643680.62it/s]"
          }
        },
        "7168cd32cdc34b5e9b14d698e5a8fe5b": {
          "model_module": "@jupyter-widgets/base",
          "model_name": "LayoutModel",
          "model_module_version": "1.2.0",
          "state": {
            "_model_module": "@jupyter-widgets/base",
            "_model_module_version": "1.2.0",
            "_model_name": "LayoutModel",
            "_view_count": null,
            "_view_module": "@jupyter-widgets/base",
            "_view_module_version": "1.2.0",
            "_view_name": "LayoutView",
            "align_content": null,
            "align_items": null,
            "align_self": null,
            "border": null,
            "bottom": null,
            "display": null,
            "flex": null,
            "flex_flow": null,
            "grid_area": null,
            "grid_auto_columns": null,
            "grid_auto_flow": null,
            "grid_auto_rows": null,
            "grid_column": null,
            "grid_gap": null,
            "grid_row": null,
            "grid_template_areas": null,
            "grid_template_columns": null,
            "grid_template_rows": null,
            "height": null,
            "justify_content": null,
            "justify_items": null,
            "left": null,
            "margin": null,
            "max_height": null,
            "max_width": null,
            "min_height": null,
            "min_width": null,
            "object_fit": null,
            "object_position": null,
            "order": null,
            "overflow": null,
            "overflow_x": null,
            "overflow_y": null,
            "padding": null,
            "right": null,
            "top": null,
            "visibility": null,
            "width": null
          }
        },
        "806bdb25949246b0823872376f3d5071": {
          "model_module": "@jupyter-widgets/base",
          "model_name": "LayoutModel",
          "model_module_version": "1.2.0",
          "state": {
            "_model_module": "@jupyter-widgets/base",
            "_model_module_version": "1.2.0",
            "_model_name": "LayoutModel",
            "_view_count": null,
            "_view_module": "@jupyter-widgets/base",
            "_view_module_version": "1.2.0",
            "_view_name": "LayoutView",
            "align_content": null,
            "align_items": null,
            "align_self": null,
            "border": null,
            "bottom": null,
            "display": null,
            "flex": null,
            "flex_flow": null,
            "grid_area": null,
            "grid_auto_columns": null,
            "grid_auto_flow": null,
            "grid_auto_rows": null,
            "grid_column": null,
            "grid_gap": null,
            "grid_row": null,
            "grid_template_areas": null,
            "grid_template_columns": null,
            "grid_template_rows": null,
            "height": null,
            "justify_content": null,
            "justify_items": null,
            "left": null,
            "margin": null,
            "max_height": null,
            "max_width": null,
            "min_height": null,
            "min_width": null,
            "object_fit": null,
            "object_position": null,
            "order": null,
            "overflow": null,
            "overflow_x": null,
            "overflow_y": null,
            "padding": null,
            "right": null,
            "top": null,
            "visibility": null,
            "width": null
          }
        },
        "836ae6e1dca84a778f5b0cf520b53629": {
          "model_module": "@jupyter-widgets/controls",
          "model_name": "DescriptionStyleModel",
          "model_module_version": "1.5.0",
          "state": {
            "_model_module": "@jupyter-widgets/controls",
            "_model_module_version": "1.5.0",
            "_model_name": "DescriptionStyleModel",
            "_view_count": null,
            "_view_module": "@jupyter-widgets/base",
            "_view_module_version": "1.2.0",
            "_view_name": "StyleView",
            "description_width": ""
          }
        },
        "c99ad060dd6e41748755fec88d837c8b": {
          "model_module": "@jupyter-widgets/base",
          "model_name": "LayoutModel",
          "model_module_version": "1.2.0",
          "state": {
            "_model_module": "@jupyter-widgets/base",
            "_model_module_version": "1.2.0",
            "_model_name": "LayoutModel",
            "_view_count": null,
            "_view_module": "@jupyter-widgets/base",
            "_view_module_version": "1.2.0",
            "_view_name": "LayoutView",
            "align_content": null,
            "align_items": null,
            "align_self": null,
            "border": null,
            "bottom": null,
            "display": null,
            "flex": null,
            "flex_flow": null,
            "grid_area": null,
            "grid_auto_columns": null,
            "grid_auto_flow": null,
            "grid_auto_rows": null,
            "grid_column": null,
            "grid_gap": null,
            "grid_row": null,
            "grid_template_areas": null,
            "grid_template_columns": null,
            "grid_template_rows": null,
            "height": null,
            "justify_content": null,
            "justify_items": null,
            "left": null,
            "margin": null,
            "max_height": null,
            "max_width": null,
            "min_height": null,
            "min_width": null,
            "object_fit": null,
            "object_position": null,
            "order": null,
            "overflow": null,
            "overflow_x": null,
            "overflow_y": null,
            "padding": null,
            "right": null,
            "top": null,
            "visibility": null,
            "width": null
          }
        },
        "bad52e3b311c4f6b8c7257674a749dc2": {
          "model_module": "@jupyter-widgets/controls",
          "model_name": "ProgressStyleModel",
          "model_module_version": "1.5.0",
          "state": {
            "_model_module": "@jupyter-widgets/controls",
            "_model_module_version": "1.5.0",
            "_model_name": "ProgressStyleModel",
            "_view_count": null,
            "_view_module": "@jupyter-widgets/base",
            "_view_module_version": "1.2.0",
            "_view_name": "StyleView",
            "bar_color": null,
            "description_width": ""
          }
        },
        "898ed43b760347fabda8d9e7e09c7a59": {
          "model_module": "@jupyter-widgets/base",
          "model_name": "LayoutModel",
          "model_module_version": "1.2.0",
          "state": {
            "_model_module": "@jupyter-widgets/base",
            "_model_module_version": "1.2.0",
            "_model_name": "LayoutModel",
            "_view_count": null,
            "_view_module": "@jupyter-widgets/base",
            "_view_module_version": "1.2.0",
            "_view_name": "LayoutView",
            "align_content": null,
            "align_items": null,
            "align_self": null,
            "border": null,
            "bottom": null,
            "display": null,
            "flex": null,
            "flex_flow": null,
            "grid_area": null,
            "grid_auto_columns": null,
            "grid_auto_flow": null,
            "grid_auto_rows": null,
            "grid_column": null,
            "grid_gap": null,
            "grid_row": null,
            "grid_template_areas": null,
            "grid_template_columns": null,
            "grid_template_rows": null,
            "height": null,
            "justify_content": null,
            "justify_items": null,
            "left": null,
            "margin": null,
            "max_height": null,
            "max_width": null,
            "min_height": null,
            "min_width": null,
            "object_fit": null,
            "object_position": null,
            "order": null,
            "overflow": null,
            "overflow_x": null,
            "overflow_y": null,
            "padding": null,
            "right": null,
            "top": null,
            "visibility": null,
            "width": null
          }
        },
        "5aa2f18599b642d18c739427eea5226d": {
          "model_module": "@jupyter-widgets/controls",
          "model_name": "DescriptionStyleModel",
          "model_module_version": "1.5.0",
          "state": {
            "_model_module": "@jupyter-widgets/controls",
            "_model_module_version": "1.5.0",
            "_model_name": "DescriptionStyleModel",
            "_view_count": null,
            "_view_module": "@jupyter-widgets/base",
            "_view_module_version": "1.2.0",
            "_view_name": "StyleView",
            "description_width": ""
          }
        },
        "a9f410184c6a4832a80eb050bda84e47": {
          "model_module": "@jupyter-widgets/controls",
          "model_name": "HBoxModel",
          "model_module_version": "1.5.0",
          "state": {
            "_dom_classes": [],
            "_model_module": "@jupyter-widgets/controls",
            "_model_module_version": "1.5.0",
            "_model_name": "HBoxModel",
            "_view_count": null,
            "_view_module": "@jupyter-widgets/controls",
            "_view_module_version": "1.5.0",
            "_view_name": "HBoxView",
            "box_style": "",
            "children": [
              "IPY_MODEL_7885144fa7584671931c3f54d4bb3f86",
              "IPY_MODEL_0412999784b24d8cb9f13dc2cdb6ae95",
              "IPY_MODEL_0ec20ae7928743afbdd9a8c251630de5"
            ],
            "layout": "IPY_MODEL_4220563966da46b0826f408b36338c45"
          }
        },
        "7885144fa7584671931c3f54d4bb3f86": {
          "model_module": "@jupyter-widgets/controls",
          "model_name": "HTMLModel",
          "model_module_version": "1.5.0",
          "state": {
            "_dom_classes": [],
            "_model_module": "@jupyter-widgets/controls",
            "_model_module_version": "1.5.0",
            "_model_name": "HTMLModel",
            "_view_count": null,
            "_view_module": "@jupyter-widgets/controls",
            "_view_module_version": "1.5.0",
            "_view_name": "HTMLView",
            "description": "",
            "description_tooltip": null,
            "layout": "IPY_MODEL_abc33b27880f4107932eea07436433f9",
            "placeholder": "​",
            "style": "IPY_MODEL_d486300805f1490b9cfbbb4362f83634",
            "value": "Extracting image features:  96%"
          }
        },
        "0412999784b24d8cb9f13dc2cdb6ae95": {
          "model_module": "@jupyter-widgets/controls",
          "model_name": "FloatProgressModel",
          "model_module_version": "1.5.0",
          "state": {
            "_dom_classes": [],
            "_model_module": "@jupyter-widgets/controls",
            "_model_module_version": "1.5.0",
            "_model_name": "FloatProgressModel",
            "_view_count": null,
            "_view_module": "@jupyter-widgets/controls",
            "_view_module_version": "1.5.0",
            "_view_name": "ProgressView",
            "bar_style": "",
            "description": "",
            "description_tooltip": null,
            "layout": "IPY_MODEL_9891ab1970244afd8650a3fb3d1f66f3",
            "max": 47,
            "min": 0,
            "orientation": "horizontal",
            "style": "IPY_MODEL_d2b0f5a631894dc09360547b6f8d0064",
            "value": 47
          }
        },
        "0ec20ae7928743afbdd9a8c251630de5": {
          "model_module": "@jupyter-widgets/controls",
          "model_name": "HTMLModel",
          "model_module_version": "1.5.0",
          "state": {
            "_dom_classes": [],
            "_model_module": "@jupyter-widgets/controls",
            "_model_module_version": "1.5.0",
            "_model_name": "HTMLModel",
            "_view_count": null,
            "_view_module": "@jupyter-widgets/controls",
            "_view_module_version": "1.5.0",
            "_view_name": "HTMLView",
            "description": "",
            "description_tooltip": null,
            "layout": "IPY_MODEL_013d2d12805f4113b45d0c5e59f09e41",
            "placeholder": "​",
            "style": "IPY_MODEL_55282a5cff7443df881f30bd9bbacc0a",
            "value": " 45/47 [00:02&lt;00:00, 36.32it/s]"
          }
        },
        "4220563966da46b0826f408b36338c45": {
          "model_module": "@jupyter-widgets/base",
          "model_name": "LayoutModel",
          "model_module_version": "1.2.0",
          "state": {
            "_model_module": "@jupyter-widgets/base",
            "_model_module_version": "1.2.0",
            "_model_name": "LayoutModel",
            "_view_count": null,
            "_view_module": "@jupyter-widgets/base",
            "_view_module_version": "1.2.0",
            "_view_name": "LayoutView",
            "align_content": null,
            "align_items": null,
            "align_self": null,
            "border": null,
            "bottom": null,
            "display": null,
            "flex": null,
            "flex_flow": null,
            "grid_area": null,
            "grid_auto_columns": null,
            "grid_auto_flow": null,
            "grid_auto_rows": null,
            "grid_column": null,
            "grid_gap": null,
            "grid_row": null,
            "grid_template_areas": null,
            "grid_template_columns": null,
            "grid_template_rows": null,
            "height": null,
            "justify_content": null,
            "justify_items": null,
            "left": null,
            "margin": null,
            "max_height": null,
            "max_width": null,
            "min_height": null,
            "min_width": null,
            "object_fit": null,
            "object_position": null,
            "order": null,
            "overflow": null,
            "overflow_x": null,
            "overflow_y": null,
            "padding": null,
            "right": null,
            "top": null,
            "visibility": "hidden",
            "width": null
          }
        },
        "abc33b27880f4107932eea07436433f9": {
          "model_module": "@jupyter-widgets/base",
          "model_name": "LayoutModel",
          "model_module_version": "1.2.0",
          "state": {
            "_model_module": "@jupyter-widgets/base",
            "_model_module_version": "1.2.0",
            "_model_name": "LayoutModel",
            "_view_count": null,
            "_view_module": "@jupyter-widgets/base",
            "_view_module_version": "1.2.0",
            "_view_name": "LayoutView",
            "align_content": null,
            "align_items": null,
            "align_self": null,
            "border": null,
            "bottom": null,
            "display": null,
            "flex": null,
            "flex_flow": null,
            "grid_area": null,
            "grid_auto_columns": null,
            "grid_auto_flow": null,
            "grid_auto_rows": null,
            "grid_column": null,
            "grid_gap": null,
            "grid_row": null,
            "grid_template_areas": null,
            "grid_template_columns": null,
            "grid_template_rows": null,
            "height": null,
            "justify_content": null,
            "justify_items": null,
            "left": null,
            "margin": null,
            "max_height": null,
            "max_width": null,
            "min_height": null,
            "min_width": null,
            "object_fit": null,
            "object_position": null,
            "order": null,
            "overflow": null,
            "overflow_x": null,
            "overflow_y": null,
            "padding": null,
            "right": null,
            "top": null,
            "visibility": null,
            "width": null
          }
        },
        "d486300805f1490b9cfbbb4362f83634": {
          "model_module": "@jupyter-widgets/controls",
          "model_name": "DescriptionStyleModel",
          "model_module_version": "1.5.0",
          "state": {
            "_model_module": "@jupyter-widgets/controls",
            "_model_module_version": "1.5.0",
            "_model_name": "DescriptionStyleModel",
            "_view_count": null,
            "_view_module": "@jupyter-widgets/base",
            "_view_module_version": "1.2.0",
            "_view_name": "StyleView",
            "description_width": ""
          }
        },
        "9891ab1970244afd8650a3fb3d1f66f3": {
          "model_module": "@jupyter-widgets/base",
          "model_name": "LayoutModel",
          "model_module_version": "1.2.0",
          "state": {
            "_model_module": "@jupyter-widgets/base",
            "_model_module_version": "1.2.0",
            "_model_name": "LayoutModel",
            "_view_count": null,
            "_view_module": "@jupyter-widgets/base",
            "_view_module_version": "1.2.0",
            "_view_name": "LayoutView",
            "align_content": null,
            "align_items": null,
            "align_self": null,
            "border": null,
            "bottom": null,
            "display": null,
            "flex": null,
            "flex_flow": null,
            "grid_area": null,
            "grid_auto_columns": null,
            "grid_auto_flow": null,
            "grid_auto_rows": null,
            "grid_column": null,
            "grid_gap": null,
            "grid_row": null,
            "grid_template_areas": null,
            "grid_template_columns": null,
            "grid_template_rows": null,
            "height": null,
            "justify_content": null,
            "justify_items": null,
            "left": null,
            "margin": null,
            "max_height": null,
            "max_width": null,
            "min_height": null,
            "min_width": null,
            "object_fit": null,
            "object_position": null,
            "order": null,
            "overflow": null,
            "overflow_x": null,
            "overflow_y": null,
            "padding": null,
            "right": null,
            "top": null,
            "visibility": null,
            "width": null
          }
        },
        "d2b0f5a631894dc09360547b6f8d0064": {
          "model_module": "@jupyter-widgets/controls",
          "model_name": "ProgressStyleModel",
          "model_module_version": "1.5.0",
          "state": {
            "_model_module": "@jupyter-widgets/controls",
            "_model_module_version": "1.5.0",
            "_model_name": "ProgressStyleModel",
            "_view_count": null,
            "_view_module": "@jupyter-widgets/base",
            "_view_module_version": "1.2.0",
            "_view_name": "StyleView",
            "bar_color": null,
            "description_width": ""
          }
        },
        "013d2d12805f4113b45d0c5e59f09e41": {
          "model_module": "@jupyter-widgets/base",
          "model_name": "LayoutModel",
          "model_module_version": "1.2.0",
          "state": {
            "_model_module": "@jupyter-widgets/base",
            "_model_module_version": "1.2.0",
            "_model_name": "LayoutModel",
            "_view_count": null,
            "_view_module": "@jupyter-widgets/base",
            "_view_module_version": "1.2.0",
            "_view_name": "LayoutView",
            "align_content": null,
            "align_items": null,
            "align_self": null,
            "border": null,
            "bottom": null,
            "display": null,
            "flex": null,
            "flex_flow": null,
            "grid_area": null,
            "grid_auto_columns": null,
            "grid_auto_flow": null,
            "grid_auto_rows": null,
            "grid_column": null,
            "grid_gap": null,
            "grid_row": null,
            "grid_template_areas": null,
            "grid_template_columns": null,
            "grid_template_rows": null,
            "height": null,
            "justify_content": null,
            "justify_items": null,
            "left": null,
            "margin": null,
            "max_height": null,
            "max_width": null,
            "min_height": null,
            "min_width": null,
            "object_fit": null,
            "object_position": null,
            "order": null,
            "overflow": null,
            "overflow_x": null,
            "overflow_y": null,
            "padding": null,
            "right": null,
            "top": null,
            "visibility": null,
            "width": null
          }
        },
        "55282a5cff7443df881f30bd9bbacc0a": {
          "model_module": "@jupyter-widgets/controls",
          "model_name": "DescriptionStyleModel",
          "model_module_version": "1.5.0",
          "state": {
            "_model_module": "@jupyter-widgets/controls",
            "_model_module_version": "1.5.0",
            "_model_name": "DescriptionStyleModel",
            "_view_count": null,
            "_view_module": "@jupyter-widgets/base",
            "_view_module_version": "1.2.0",
            "_view_name": "StyleView",
            "description_width": ""
          }
        },
        "cad45e11b136482bae9e0b89a8001cb2": {
          "model_module": "@jupyter-widgets/controls",
          "model_name": "HBoxModel",
          "model_module_version": "1.5.0",
          "state": {
            "_dom_classes": [],
            "_model_module": "@jupyter-widgets/controls",
            "_model_module_version": "1.5.0",
            "_model_name": "HBoxModel",
            "_view_count": null,
            "_view_module": "@jupyter-widgets/controls",
            "_view_module_version": "1.5.0",
            "_view_name": "HBoxView",
            "box_style": "",
            "children": [
              "IPY_MODEL_958cd9ca990b412cb6fa70464dcd6fd6",
              "IPY_MODEL_57879f03b87a4893942c5b3c80f6d97f",
              "IPY_MODEL_521c78b9f78e4b4597333cfbabbf5165"
            ],
            "layout": "IPY_MODEL_a334127a14ba465080b58774461df271"
          }
        },
        "958cd9ca990b412cb6fa70464dcd6fd6": {
          "model_module": "@jupyter-widgets/controls",
          "model_name": "HTMLModel",
          "model_module_version": "1.5.0",
          "state": {
            "_dom_classes": [],
            "_model_module": "@jupyter-widgets/controls",
            "_model_module_version": "1.5.0",
            "_model_name": "HTMLModel",
            "_view_count": null,
            "_view_module": "@jupyter-widgets/controls",
            "_view_module_version": "1.5.0",
            "_view_name": "HTMLView",
            "description": "",
            "description_tooltip": null,
            "layout": "IPY_MODEL_8dff97b46f7d45f79d5e1ad0d686a5ea",
            "placeholder": "​",
            "style": "IPY_MODEL_f1cd2409e4024b87a01cc5a078633ad9",
            "value": "Evaluating prototype classification: 100%"
          }
        },
        "57879f03b87a4893942c5b3c80f6d97f": {
          "model_module": "@jupyter-widgets/controls",
          "model_name": "FloatProgressModel",
          "model_module_version": "1.5.0",
          "state": {
            "_dom_classes": [],
            "_model_module": "@jupyter-widgets/controls",
            "_model_module_version": "1.5.0",
            "_model_name": "FloatProgressModel",
            "_view_count": null,
            "_view_module": "@jupyter-widgets/controls",
            "_view_module_version": "1.5.0",
            "_view_name": "ProgressView",
            "bar_style": "",
            "description": "",
            "description_tooltip": null,
            "layout": "IPY_MODEL_2dcc8d504e45494ba69008a7856d1fda",
            "max": 300,
            "min": 0,
            "orientation": "horizontal",
            "style": "IPY_MODEL_31fd820870a24946965dccdb33741725",
            "value": 300
          }
        },
        "521c78b9f78e4b4597333cfbabbf5165": {
          "model_module": "@jupyter-widgets/controls",
          "model_name": "HTMLModel",
          "model_module_version": "1.5.0",
          "state": {
            "_dom_classes": [],
            "_model_module": "@jupyter-widgets/controls",
            "_model_module_version": "1.5.0",
            "_model_name": "HTMLModel",
            "_view_count": null,
            "_view_module": "@jupyter-widgets/controls",
            "_view_module_version": "1.5.0",
            "_view_name": "HTMLView",
            "description": "",
            "description_tooltip": null,
            "layout": "IPY_MODEL_77595c9c60b949e58ea4bd82c3dd2301",
            "placeholder": "​",
            "style": "IPY_MODEL_2ec7bf04de02486ea2d14b1936191414",
            "value": " 300/300 [00:10&lt;00:00, 27.63it/s]"
          }
        },
        "a334127a14ba465080b58774461df271": {
          "model_module": "@jupyter-widgets/base",
          "model_name": "LayoutModel",
          "model_module_version": "1.2.0",
          "state": {
            "_model_module": "@jupyter-widgets/base",
            "_model_module_version": "1.2.0",
            "_model_name": "LayoutModel",
            "_view_count": null,
            "_view_module": "@jupyter-widgets/base",
            "_view_module_version": "1.2.0",
            "_view_name": "LayoutView",
            "align_content": null,
            "align_items": null,
            "align_self": null,
            "border": null,
            "bottom": null,
            "display": null,
            "flex": null,
            "flex_flow": null,
            "grid_area": null,
            "grid_auto_columns": null,
            "grid_auto_flow": null,
            "grid_auto_rows": null,
            "grid_column": null,
            "grid_gap": null,
            "grid_row": null,
            "grid_template_areas": null,
            "grid_template_columns": null,
            "grid_template_rows": null,
            "height": null,
            "justify_content": null,
            "justify_items": null,
            "left": null,
            "margin": null,
            "max_height": null,
            "max_width": null,
            "min_height": null,
            "min_width": null,
            "object_fit": null,
            "object_position": null,
            "order": null,
            "overflow": null,
            "overflow_x": null,
            "overflow_y": null,
            "padding": null,
            "right": null,
            "top": null,
            "visibility": "hidden",
            "width": null
          }
        },
        "8dff97b46f7d45f79d5e1ad0d686a5ea": {
          "model_module": "@jupyter-widgets/base",
          "model_name": "LayoutModel",
          "model_module_version": "1.2.0",
          "state": {
            "_model_module": "@jupyter-widgets/base",
            "_model_module_version": "1.2.0",
            "_model_name": "LayoutModel",
            "_view_count": null,
            "_view_module": "@jupyter-widgets/base",
            "_view_module_version": "1.2.0",
            "_view_name": "LayoutView",
            "align_content": null,
            "align_items": null,
            "align_self": null,
            "border": null,
            "bottom": null,
            "display": null,
            "flex": null,
            "flex_flow": null,
            "grid_area": null,
            "grid_auto_columns": null,
            "grid_auto_flow": null,
            "grid_auto_rows": null,
            "grid_column": null,
            "grid_gap": null,
            "grid_row": null,
            "grid_template_areas": null,
            "grid_template_columns": null,
            "grid_template_rows": null,
            "height": null,
            "justify_content": null,
            "justify_items": null,
            "left": null,
            "margin": null,
            "max_height": null,
            "max_width": null,
            "min_height": null,
            "min_width": null,
            "object_fit": null,
            "object_position": null,
            "order": null,
            "overflow": null,
            "overflow_x": null,
            "overflow_y": null,
            "padding": null,
            "right": null,
            "top": null,
            "visibility": null,
            "width": null
          }
        },
        "f1cd2409e4024b87a01cc5a078633ad9": {
          "model_module": "@jupyter-widgets/controls",
          "model_name": "DescriptionStyleModel",
          "model_module_version": "1.5.0",
          "state": {
            "_model_module": "@jupyter-widgets/controls",
            "_model_module_version": "1.5.0",
            "_model_name": "DescriptionStyleModel",
            "_view_count": null,
            "_view_module": "@jupyter-widgets/base",
            "_view_module_version": "1.2.0",
            "_view_name": "StyleView",
            "description_width": ""
          }
        },
        "2dcc8d504e45494ba69008a7856d1fda": {
          "model_module": "@jupyter-widgets/base",
          "model_name": "LayoutModel",
          "model_module_version": "1.2.0",
          "state": {
            "_model_module": "@jupyter-widgets/base",
            "_model_module_version": "1.2.0",
            "_model_name": "LayoutModel",
            "_view_count": null,
            "_view_module": "@jupyter-widgets/base",
            "_view_module_version": "1.2.0",
            "_view_name": "LayoutView",
            "align_content": null,
            "align_items": null,
            "align_self": null,
            "border": null,
            "bottom": null,
            "display": null,
            "flex": null,
            "flex_flow": null,
            "grid_area": null,
            "grid_auto_columns": null,
            "grid_auto_flow": null,
            "grid_auto_rows": null,
            "grid_column": null,
            "grid_gap": null,
            "grid_row": null,
            "grid_template_areas": null,
            "grid_template_columns": null,
            "grid_template_rows": null,
            "height": null,
            "justify_content": null,
            "justify_items": null,
            "left": null,
            "margin": null,
            "max_height": null,
            "max_width": null,
            "min_height": null,
            "min_width": null,
            "object_fit": null,
            "object_position": null,
            "order": null,
            "overflow": null,
            "overflow_x": null,
            "overflow_y": null,
            "padding": null,
            "right": null,
            "top": null,
            "visibility": null,
            "width": null
          }
        },
        "31fd820870a24946965dccdb33741725": {
          "model_module": "@jupyter-widgets/controls",
          "model_name": "ProgressStyleModel",
          "model_module_version": "1.5.0",
          "state": {
            "_model_module": "@jupyter-widgets/controls",
            "_model_module_version": "1.5.0",
            "_model_name": "ProgressStyleModel",
            "_view_count": null,
            "_view_module": "@jupyter-widgets/base",
            "_view_module_version": "1.2.0",
            "_view_name": "StyleView",
            "bar_color": null,
            "description_width": ""
          }
        },
        "77595c9c60b949e58ea4bd82c3dd2301": {
          "model_module": "@jupyter-widgets/base",
          "model_name": "LayoutModel",
          "model_module_version": "1.2.0",
          "state": {
            "_model_module": "@jupyter-widgets/base",
            "_model_module_version": "1.2.0",
            "_model_name": "LayoutModel",
            "_view_count": null,
            "_view_module": "@jupyter-widgets/base",
            "_view_module_version": "1.2.0",
            "_view_name": "LayoutView",
            "align_content": null,
            "align_items": null,
            "align_self": null,
            "border": null,
            "bottom": null,
            "display": null,
            "flex": null,
            "flex_flow": null,
            "grid_area": null,
            "grid_auto_columns": null,
            "grid_auto_flow": null,
            "grid_auto_rows": null,
            "grid_column": null,
            "grid_gap": null,
            "grid_row": null,
            "grid_template_areas": null,
            "grid_template_columns": null,
            "grid_template_rows": null,
            "height": null,
            "justify_content": null,
            "justify_items": null,
            "left": null,
            "margin": null,
            "max_height": null,
            "max_width": null,
            "min_height": null,
            "min_width": null,
            "object_fit": null,
            "object_position": null,
            "order": null,
            "overflow": null,
            "overflow_x": null,
            "overflow_y": null,
            "padding": null,
            "right": null,
            "top": null,
            "visibility": null,
            "width": null
          }
        },
        "2ec7bf04de02486ea2d14b1936191414": {
          "model_module": "@jupyter-widgets/controls",
          "model_name": "DescriptionStyleModel",
          "model_module_version": "1.5.0",
          "state": {
            "_model_module": "@jupyter-widgets/controls",
            "_model_module_version": "1.5.0",
            "_model_name": "DescriptionStyleModel",
            "_view_count": null,
            "_view_module": "@jupyter-widgets/base",
            "_view_module_version": "1.2.0",
            "_view_name": "StyleView",
            "description_width": ""
          }
        },
        "c34bea9cf2764d5f8025ccd99c139e86": {
          "model_module": "@jupyter-widgets/controls",
          "model_name": "HBoxModel",
          "model_module_version": "1.5.0",
          "state": {
            "_dom_classes": [],
            "_model_module": "@jupyter-widgets/controls",
            "_model_module_version": "1.5.0",
            "_model_name": "HBoxModel",
            "_view_count": null,
            "_view_module": "@jupyter-widgets/controls",
            "_view_module_version": "1.5.0",
            "_view_name": "HBoxView",
            "box_style": "",
            "children": [
              "IPY_MODEL_62d8bf2344324c0cafbc5176d30e8779",
              "IPY_MODEL_f86c579a0db94ed191f1059200a6a61a",
              "IPY_MODEL_01b3bb0378fb434ab749b880d6b24dd7"
            ],
            "layout": "IPY_MODEL_4ea6252473384686839d9dd4810309e1"
          }
        },
        "62d8bf2344324c0cafbc5176d30e8779": {
          "model_module": "@jupyter-widgets/controls",
          "model_name": "HTMLModel",
          "model_module_version": "1.5.0",
          "state": {
            "_dom_classes": [],
            "_model_module": "@jupyter-widgets/controls",
            "_model_module_version": "1.5.0",
            "_model_name": "HTMLModel",
            "_view_count": null,
            "_view_module": "@jupyter-widgets/controls",
            "_view_module_version": "1.5.0",
            "_view_name": "HTMLView",
            "description": "",
            "description_tooltip": null,
            "layout": "IPY_MODEL_67b4ea8ccadd44619e1110a05eb97d22",
            "placeholder": "​",
            "style": "IPY_MODEL_a92802c4482247579122ee1d018e1a81",
            "value": "Evaluating prototype classification:  99%"
          }
        },
        "f86c579a0db94ed191f1059200a6a61a": {
          "model_module": "@jupyter-widgets/controls",
          "model_name": "FloatProgressModel",
          "model_module_version": "1.5.0",
          "state": {
            "_dom_classes": [],
            "_model_module": "@jupyter-widgets/controls",
            "_model_module_version": "1.5.0",
            "_model_name": "FloatProgressModel",
            "_view_count": null,
            "_view_module": "@jupyter-widgets/controls",
            "_view_module_version": "1.5.0",
            "_view_name": "ProgressView",
            "bar_style": "",
            "description": "",
            "description_tooltip": null,
            "layout": "IPY_MODEL_e80ce8a666e34be1ab70d7cc295d8491",
            "max": 150,
            "min": 0,
            "orientation": "horizontal",
            "style": "IPY_MODEL_97dbea5423454b29bc51698b7daa43e6",
            "value": 150
          }
        },
        "01b3bb0378fb434ab749b880d6b24dd7": {
          "model_module": "@jupyter-widgets/controls",
          "model_name": "HTMLModel",
          "model_module_version": "1.5.0",
          "state": {
            "_dom_classes": [],
            "_model_module": "@jupyter-widgets/controls",
            "_model_module_version": "1.5.0",
            "_model_name": "HTMLModel",
            "_view_count": null,
            "_view_module": "@jupyter-widgets/controls",
            "_view_module_version": "1.5.0",
            "_view_name": "HTMLView",
            "description": "",
            "description_tooltip": null,
            "layout": "IPY_MODEL_8416e36626904ac78282dc3aadb67a13",
            "placeholder": "​",
            "style": "IPY_MODEL_3fe6e8c6c1294bdb897a01db351d5f3f",
            "value": " 148/150 [00:03&lt;00:00, 44.98it/s]"
          }
        },
        "4ea6252473384686839d9dd4810309e1": {
          "model_module": "@jupyter-widgets/base",
          "model_name": "LayoutModel",
          "model_module_version": "1.2.0",
          "state": {
            "_model_module": "@jupyter-widgets/base",
            "_model_module_version": "1.2.0",
            "_model_name": "LayoutModel",
            "_view_count": null,
            "_view_module": "@jupyter-widgets/base",
            "_view_module_version": "1.2.0",
            "_view_name": "LayoutView",
            "align_content": null,
            "align_items": null,
            "align_self": null,
            "border": null,
            "bottom": null,
            "display": null,
            "flex": null,
            "flex_flow": null,
            "grid_area": null,
            "grid_auto_columns": null,
            "grid_auto_flow": null,
            "grid_auto_rows": null,
            "grid_column": null,
            "grid_gap": null,
            "grid_row": null,
            "grid_template_areas": null,
            "grid_template_columns": null,
            "grid_template_rows": null,
            "height": null,
            "justify_content": null,
            "justify_items": null,
            "left": null,
            "margin": null,
            "max_height": null,
            "max_width": null,
            "min_height": null,
            "min_width": null,
            "object_fit": null,
            "object_position": null,
            "order": null,
            "overflow": null,
            "overflow_x": null,
            "overflow_y": null,
            "padding": null,
            "right": null,
            "top": null,
            "visibility": "hidden",
            "width": null
          }
        },
        "67b4ea8ccadd44619e1110a05eb97d22": {
          "model_module": "@jupyter-widgets/base",
          "model_name": "LayoutModel",
          "model_module_version": "1.2.0",
          "state": {
            "_model_module": "@jupyter-widgets/base",
            "_model_module_version": "1.2.0",
            "_model_name": "LayoutModel",
            "_view_count": null,
            "_view_module": "@jupyter-widgets/base",
            "_view_module_version": "1.2.0",
            "_view_name": "LayoutView",
            "align_content": null,
            "align_items": null,
            "align_self": null,
            "border": null,
            "bottom": null,
            "display": null,
            "flex": null,
            "flex_flow": null,
            "grid_area": null,
            "grid_auto_columns": null,
            "grid_auto_flow": null,
            "grid_auto_rows": null,
            "grid_column": null,
            "grid_gap": null,
            "grid_row": null,
            "grid_template_areas": null,
            "grid_template_columns": null,
            "grid_template_rows": null,
            "height": null,
            "justify_content": null,
            "justify_items": null,
            "left": null,
            "margin": null,
            "max_height": null,
            "max_width": null,
            "min_height": null,
            "min_width": null,
            "object_fit": null,
            "object_position": null,
            "order": null,
            "overflow": null,
            "overflow_x": null,
            "overflow_y": null,
            "padding": null,
            "right": null,
            "top": null,
            "visibility": null,
            "width": null
          }
        },
        "a92802c4482247579122ee1d018e1a81": {
          "model_module": "@jupyter-widgets/controls",
          "model_name": "DescriptionStyleModel",
          "model_module_version": "1.5.0",
          "state": {
            "_model_module": "@jupyter-widgets/controls",
            "_model_module_version": "1.5.0",
            "_model_name": "DescriptionStyleModel",
            "_view_count": null,
            "_view_module": "@jupyter-widgets/base",
            "_view_module_version": "1.2.0",
            "_view_name": "StyleView",
            "description_width": ""
          }
        },
        "e80ce8a666e34be1ab70d7cc295d8491": {
          "model_module": "@jupyter-widgets/base",
          "model_name": "LayoutModel",
          "model_module_version": "1.2.0",
          "state": {
            "_model_module": "@jupyter-widgets/base",
            "_model_module_version": "1.2.0",
            "_model_name": "LayoutModel",
            "_view_count": null,
            "_view_module": "@jupyter-widgets/base",
            "_view_module_version": "1.2.0",
            "_view_name": "LayoutView",
            "align_content": null,
            "align_items": null,
            "align_self": null,
            "border": null,
            "bottom": null,
            "display": null,
            "flex": null,
            "flex_flow": null,
            "grid_area": null,
            "grid_auto_columns": null,
            "grid_auto_flow": null,
            "grid_auto_rows": null,
            "grid_column": null,
            "grid_gap": null,
            "grid_row": null,
            "grid_template_areas": null,
            "grid_template_columns": null,
            "grid_template_rows": null,
            "height": null,
            "justify_content": null,
            "justify_items": null,
            "left": null,
            "margin": null,
            "max_height": null,
            "max_width": null,
            "min_height": null,
            "min_width": null,
            "object_fit": null,
            "object_position": null,
            "order": null,
            "overflow": null,
            "overflow_x": null,
            "overflow_y": null,
            "padding": null,
            "right": null,
            "top": null,
            "visibility": null,
            "width": null
          }
        },
        "97dbea5423454b29bc51698b7daa43e6": {
          "model_module": "@jupyter-widgets/controls",
          "model_name": "ProgressStyleModel",
          "model_module_version": "1.5.0",
          "state": {
            "_model_module": "@jupyter-widgets/controls",
            "_model_module_version": "1.5.0",
            "_model_name": "ProgressStyleModel",
            "_view_count": null,
            "_view_module": "@jupyter-widgets/base",
            "_view_module_version": "1.2.0",
            "_view_name": "StyleView",
            "bar_color": null,
            "description_width": ""
          }
        },
        "8416e36626904ac78282dc3aadb67a13": {
          "model_module": "@jupyter-widgets/base",
          "model_name": "LayoutModel",
          "model_module_version": "1.2.0",
          "state": {
            "_model_module": "@jupyter-widgets/base",
            "_model_module_version": "1.2.0",
            "_model_name": "LayoutModel",
            "_view_count": null,
            "_view_module": "@jupyter-widgets/base",
            "_view_module_version": "1.2.0",
            "_view_name": "LayoutView",
            "align_content": null,
            "align_items": null,
            "align_self": null,
            "border": null,
            "bottom": null,
            "display": null,
            "flex": null,
            "flex_flow": null,
            "grid_area": null,
            "grid_auto_columns": null,
            "grid_auto_flow": null,
            "grid_auto_rows": null,
            "grid_column": null,
            "grid_gap": null,
            "grid_row": null,
            "grid_template_areas": null,
            "grid_template_columns": null,
            "grid_template_rows": null,
            "height": null,
            "justify_content": null,
            "justify_items": null,
            "left": null,
            "margin": null,
            "max_height": null,
            "max_width": null,
            "min_height": null,
            "min_width": null,
            "object_fit": null,
            "object_position": null,
            "order": null,
            "overflow": null,
            "overflow_x": null,
            "overflow_y": null,
            "padding": null,
            "right": null,
            "top": null,
            "visibility": null,
            "width": null
          }
        },
        "3fe6e8c6c1294bdb897a01db351d5f3f": {
          "model_module": "@jupyter-widgets/controls",
          "model_name": "DescriptionStyleModel",
          "model_module_version": "1.5.0",
          "state": {
            "_model_module": "@jupyter-widgets/controls",
            "_model_module_version": "1.5.0",
            "_model_name": "DescriptionStyleModel",
            "_view_count": null,
            "_view_module": "@jupyter-widgets/base",
            "_view_module_version": "1.2.0",
            "_view_name": "StyleView",
            "description_width": ""
          }
        },
        "1ff7993a810a4401b51341647067ef7b": {
          "model_module": "@jupyter-widgets/controls",
          "model_name": "HBoxModel",
          "model_module_version": "1.5.0",
          "state": {
            "_dom_classes": [],
            "_model_module": "@jupyter-widgets/controls",
            "_model_module_version": "1.5.0",
            "_model_name": "HBoxModel",
            "_view_count": null,
            "_view_module": "@jupyter-widgets/controls",
            "_view_module_version": "1.5.0",
            "_view_name": "HBoxView",
            "box_style": "",
            "children": [
              "IPY_MODEL_cafe09674890433baaa9ff6df9749293",
              "IPY_MODEL_469c6d3fa9b14c8baa56dc224b9ef731",
              "IPY_MODEL_d5bb12fc9dde4115aa38a77cf983c87a"
            ],
            "layout": "IPY_MODEL_cc0a013e7944427e988db3469edf5a83"
          }
        },
        "cafe09674890433baaa9ff6df9749293": {
          "model_module": "@jupyter-widgets/controls",
          "model_name": "HTMLModel",
          "model_module_version": "1.5.0",
          "state": {
            "_dom_classes": [],
            "_model_module": "@jupyter-widgets/controls",
            "_model_module_version": "1.5.0",
            "_model_name": "HTMLModel",
            "_view_count": null,
            "_view_module": "@jupyter-widgets/controls",
            "_view_module_version": "1.5.0",
            "_view_name": "HTMLView",
            "description": "",
            "description_tooltip": null,
            "layout": "IPY_MODEL_03ac935caecf470a99c77c2a590f4ce2",
            "placeholder": "​",
            "style": "IPY_MODEL_853b5b7deb974d7295d0aad29d231d68",
            "value": "Evaluating prototype classification:  96%"
          }
        },
        "469c6d3fa9b14c8baa56dc224b9ef731": {
          "model_module": "@jupyter-widgets/controls",
          "model_name": "FloatProgressModel",
          "model_module_version": "1.5.0",
          "state": {
            "_dom_classes": [],
            "_model_module": "@jupyter-widgets/controls",
            "_model_module_version": "1.5.0",
            "_model_name": "FloatProgressModel",
            "_view_count": null,
            "_view_module": "@jupyter-widgets/controls",
            "_view_module_version": "1.5.0",
            "_view_name": "ProgressView",
            "bar_style": "",
            "description": "",
            "description_tooltip": null,
            "layout": "IPY_MODEL_548aee2aae0341fd8028218f23194a6b",
            "max": 75,
            "min": 0,
            "orientation": "horizontal",
            "style": "IPY_MODEL_7a722af43bf6467ebc2c8f6682f42035",
            "value": 75
          }
        },
        "d5bb12fc9dde4115aa38a77cf983c87a": {
          "model_module": "@jupyter-widgets/controls",
          "model_name": "HTMLModel",
          "model_module_version": "1.5.0",
          "state": {
            "_dom_classes": [],
            "_model_module": "@jupyter-widgets/controls",
            "_model_module_version": "1.5.0",
            "_model_name": "HTMLModel",
            "_view_count": null,
            "_view_module": "@jupyter-widgets/controls",
            "_view_module_version": "1.5.0",
            "_view_name": "HTMLView",
            "description": "",
            "description_tooltip": null,
            "layout": "IPY_MODEL_35c5e7e5a9d1485b88709f834a0a4dce",
            "placeholder": "​",
            "style": "IPY_MODEL_1c3b1bdbe0244398b4b3004c730fe7a6",
            "value": " 72/75 [00:01&lt;00:00, 62.84it/s]"
          }
        },
        "cc0a013e7944427e988db3469edf5a83": {
          "model_module": "@jupyter-widgets/base",
          "model_name": "LayoutModel",
          "model_module_version": "1.2.0",
          "state": {
            "_model_module": "@jupyter-widgets/base",
            "_model_module_version": "1.2.0",
            "_model_name": "LayoutModel",
            "_view_count": null,
            "_view_module": "@jupyter-widgets/base",
            "_view_module_version": "1.2.0",
            "_view_name": "LayoutView",
            "align_content": null,
            "align_items": null,
            "align_self": null,
            "border": null,
            "bottom": null,
            "display": null,
            "flex": null,
            "flex_flow": null,
            "grid_area": null,
            "grid_auto_columns": null,
            "grid_auto_flow": null,
            "grid_auto_rows": null,
            "grid_column": null,
            "grid_gap": null,
            "grid_row": null,
            "grid_template_areas": null,
            "grid_template_columns": null,
            "grid_template_rows": null,
            "height": null,
            "justify_content": null,
            "justify_items": null,
            "left": null,
            "margin": null,
            "max_height": null,
            "max_width": null,
            "min_height": null,
            "min_width": null,
            "object_fit": null,
            "object_position": null,
            "order": null,
            "overflow": null,
            "overflow_x": null,
            "overflow_y": null,
            "padding": null,
            "right": null,
            "top": null,
            "visibility": "hidden",
            "width": null
          }
        },
        "03ac935caecf470a99c77c2a590f4ce2": {
          "model_module": "@jupyter-widgets/base",
          "model_name": "LayoutModel",
          "model_module_version": "1.2.0",
          "state": {
            "_model_module": "@jupyter-widgets/base",
            "_model_module_version": "1.2.0",
            "_model_name": "LayoutModel",
            "_view_count": null,
            "_view_module": "@jupyter-widgets/base",
            "_view_module_version": "1.2.0",
            "_view_name": "LayoutView",
            "align_content": null,
            "align_items": null,
            "align_self": null,
            "border": null,
            "bottom": null,
            "display": null,
            "flex": null,
            "flex_flow": null,
            "grid_area": null,
            "grid_auto_columns": null,
            "grid_auto_flow": null,
            "grid_auto_rows": null,
            "grid_column": null,
            "grid_gap": null,
            "grid_row": null,
            "grid_template_areas": null,
            "grid_template_columns": null,
            "grid_template_rows": null,
            "height": null,
            "justify_content": null,
            "justify_items": null,
            "left": null,
            "margin": null,
            "max_height": null,
            "max_width": null,
            "min_height": null,
            "min_width": null,
            "object_fit": null,
            "object_position": null,
            "order": null,
            "overflow": null,
            "overflow_x": null,
            "overflow_y": null,
            "padding": null,
            "right": null,
            "top": null,
            "visibility": null,
            "width": null
          }
        },
        "853b5b7deb974d7295d0aad29d231d68": {
          "model_module": "@jupyter-widgets/controls",
          "model_name": "DescriptionStyleModel",
          "model_module_version": "1.5.0",
          "state": {
            "_model_module": "@jupyter-widgets/controls",
            "_model_module_version": "1.5.0",
            "_model_name": "DescriptionStyleModel",
            "_view_count": null,
            "_view_module": "@jupyter-widgets/base",
            "_view_module_version": "1.2.0",
            "_view_name": "StyleView",
            "description_width": ""
          }
        },
        "548aee2aae0341fd8028218f23194a6b": {
          "model_module": "@jupyter-widgets/base",
          "model_name": "LayoutModel",
          "model_module_version": "1.2.0",
          "state": {
            "_model_module": "@jupyter-widgets/base",
            "_model_module_version": "1.2.0",
            "_model_name": "LayoutModel",
            "_view_count": null,
            "_view_module": "@jupyter-widgets/base",
            "_view_module_version": "1.2.0",
            "_view_name": "LayoutView",
            "align_content": null,
            "align_items": null,
            "align_self": null,
            "border": null,
            "bottom": null,
            "display": null,
            "flex": null,
            "flex_flow": null,
            "grid_area": null,
            "grid_auto_columns": null,
            "grid_auto_flow": null,
            "grid_auto_rows": null,
            "grid_column": null,
            "grid_gap": null,
            "grid_row": null,
            "grid_template_areas": null,
            "grid_template_columns": null,
            "grid_template_rows": null,
            "height": null,
            "justify_content": null,
            "justify_items": null,
            "left": null,
            "margin": null,
            "max_height": null,
            "max_width": null,
            "min_height": null,
            "min_width": null,
            "object_fit": null,
            "object_position": null,
            "order": null,
            "overflow": null,
            "overflow_x": null,
            "overflow_y": null,
            "padding": null,
            "right": null,
            "top": null,
            "visibility": null,
            "width": null
          }
        },
        "7a722af43bf6467ebc2c8f6682f42035": {
          "model_module": "@jupyter-widgets/controls",
          "model_name": "ProgressStyleModel",
          "model_module_version": "1.5.0",
          "state": {
            "_model_module": "@jupyter-widgets/controls",
            "_model_module_version": "1.5.0",
            "_model_name": "ProgressStyleModel",
            "_view_count": null,
            "_view_module": "@jupyter-widgets/base",
            "_view_module_version": "1.2.0",
            "_view_name": "StyleView",
            "bar_color": null,
            "description_width": ""
          }
        },
        "35c5e7e5a9d1485b88709f834a0a4dce": {
          "model_module": "@jupyter-widgets/base",
          "model_name": "LayoutModel",
          "model_module_version": "1.2.0",
          "state": {
            "_model_module": "@jupyter-widgets/base",
            "_model_module_version": "1.2.0",
            "_model_name": "LayoutModel",
            "_view_count": null,
            "_view_module": "@jupyter-widgets/base",
            "_view_module_version": "1.2.0",
            "_view_name": "LayoutView",
            "align_content": null,
            "align_items": null,
            "align_self": null,
            "border": null,
            "bottom": null,
            "display": null,
            "flex": null,
            "flex_flow": null,
            "grid_area": null,
            "grid_auto_columns": null,
            "grid_auto_flow": null,
            "grid_auto_rows": null,
            "grid_column": null,
            "grid_gap": null,
            "grid_row": null,
            "grid_template_areas": null,
            "grid_template_columns": null,
            "grid_template_rows": null,
            "height": null,
            "justify_content": null,
            "justify_items": null,
            "left": null,
            "margin": null,
            "max_height": null,
            "max_width": null,
            "min_height": null,
            "min_width": null,
            "object_fit": null,
            "object_position": null,
            "order": null,
            "overflow": null,
            "overflow_x": null,
            "overflow_y": null,
            "padding": null,
            "right": null,
            "top": null,
            "visibility": null,
            "width": null
          }
        },
        "1c3b1bdbe0244398b4b3004c730fe7a6": {
          "model_module": "@jupyter-widgets/controls",
          "model_name": "DescriptionStyleModel",
          "model_module_version": "1.5.0",
          "state": {
            "_model_module": "@jupyter-widgets/controls",
            "_model_module_version": "1.5.0",
            "_model_name": "DescriptionStyleModel",
            "_view_count": null,
            "_view_module": "@jupyter-widgets/base",
            "_view_module_version": "1.2.0",
            "_view_name": "StyleView",
            "description_width": ""
          }
        },
        "a7517b1005c54fc79ff5e8bbe9589d69": {
          "model_module": "@jupyter-widgets/controls",
          "model_name": "HBoxModel",
          "model_module_version": "1.5.0",
          "state": {
            "_dom_classes": [],
            "_model_module": "@jupyter-widgets/controls",
            "_model_module_version": "1.5.0",
            "_model_name": "HBoxModel",
            "_view_count": null,
            "_view_module": "@jupyter-widgets/controls",
            "_view_module_version": "1.5.0",
            "_view_name": "HBoxView",
            "box_style": "",
            "children": [
              "IPY_MODEL_f8d91eeebbc044a79b4edeb077bf4514",
              "IPY_MODEL_1c20779bd83040209324f7ce941f274b",
              "IPY_MODEL_cf38ff0ca80140058f1dd82ec3e8590a"
            ],
            "layout": "IPY_MODEL_472eac43c1a849b0ab79ee6db2201cf5"
          }
        },
        "f8d91eeebbc044a79b4edeb077bf4514": {
          "model_module": "@jupyter-widgets/controls",
          "model_name": "HTMLModel",
          "model_module_version": "1.5.0",
          "state": {
            "_dom_classes": [],
            "_model_module": "@jupyter-widgets/controls",
            "_model_module_version": "1.5.0",
            "_model_name": "HTMLModel",
            "_view_count": null,
            "_view_module": "@jupyter-widgets/controls",
            "_view_module_version": "1.5.0",
            "_view_name": "HTMLView",
            "description": "",
            "description_tooltip": null,
            "layout": "IPY_MODEL_bd3d48e1372149018017b3274d8e8d8d",
            "placeholder": "​",
            "style": "IPY_MODEL_a20c0990515f4e5ebc8efc46a991c856",
            "value": "Evaluating prototype classification:  89%"
          }
        },
        "1c20779bd83040209324f7ce941f274b": {
          "model_module": "@jupyter-widgets/controls",
          "model_name": "FloatProgressModel",
          "model_module_version": "1.5.0",
          "state": {
            "_dom_classes": [],
            "_model_module": "@jupyter-widgets/controls",
            "_model_module_version": "1.5.0",
            "_model_name": "FloatProgressModel",
            "_view_count": null,
            "_view_module": "@jupyter-widgets/controls",
            "_view_module_version": "1.5.0",
            "_view_name": "ProgressView",
            "bar_style": "",
            "description": "",
            "description_tooltip": null,
            "layout": "IPY_MODEL_7500ad8429b643589f3907669056ae1a",
            "max": 38,
            "min": 0,
            "orientation": "horizontal",
            "style": "IPY_MODEL_8b279ffbad5643fbb4c0e550618b8846",
            "value": 38
          }
        },
        "cf38ff0ca80140058f1dd82ec3e8590a": {
          "model_module": "@jupyter-widgets/controls",
          "model_name": "HTMLModel",
          "model_module_version": "1.5.0",
          "state": {
            "_dom_classes": [],
            "_model_module": "@jupyter-widgets/controls",
            "_model_module_version": "1.5.0",
            "_model_name": "HTMLModel",
            "_view_count": null,
            "_view_module": "@jupyter-widgets/controls",
            "_view_module_version": "1.5.0",
            "_view_name": "HTMLView",
            "description": "",
            "description_tooltip": null,
            "layout": "IPY_MODEL_8cec6cfd2baa4802ac7c244f35ae5ea3",
            "placeholder": "​",
            "style": "IPY_MODEL_e6a9422d103346b6ac9f02bb626623aa",
            "value": " 34/38 [00:00&lt;00:00, 53.97it/s]"
          }
        },
        "472eac43c1a849b0ab79ee6db2201cf5": {
          "model_module": "@jupyter-widgets/base",
          "model_name": "LayoutModel",
          "model_module_version": "1.2.0",
          "state": {
            "_model_module": "@jupyter-widgets/base",
            "_model_module_version": "1.2.0",
            "_model_name": "LayoutModel",
            "_view_count": null,
            "_view_module": "@jupyter-widgets/base",
            "_view_module_version": "1.2.0",
            "_view_name": "LayoutView",
            "align_content": null,
            "align_items": null,
            "align_self": null,
            "border": null,
            "bottom": null,
            "display": null,
            "flex": null,
            "flex_flow": null,
            "grid_area": null,
            "grid_auto_columns": null,
            "grid_auto_flow": null,
            "grid_auto_rows": null,
            "grid_column": null,
            "grid_gap": null,
            "grid_row": null,
            "grid_template_areas": null,
            "grid_template_columns": null,
            "grid_template_rows": null,
            "height": null,
            "justify_content": null,
            "justify_items": null,
            "left": null,
            "margin": null,
            "max_height": null,
            "max_width": null,
            "min_height": null,
            "min_width": null,
            "object_fit": null,
            "object_position": null,
            "order": null,
            "overflow": null,
            "overflow_x": null,
            "overflow_y": null,
            "padding": null,
            "right": null,
            "top": null,
            "visibility": "hidden",
            "width": null
          }
        },
        "bd3d48e1372149018017b3274d8e8d8d": {
          "model_module": "@jupyter-widgets/base",
          "model_name": "LayoutModel",
          "model_module_version": "1.2.0",
          "state": {
            "_model_module": "@jupyter-widgets/base",
            "_model_module_version": "1.2.0",
            "_model_name": "LayoutModel",
            "_view_count": null,
            "_view_module": "@jupyter-widgets/base",
            "_view_module_version": "1.2.0",
            "_view_name": "LayoutView",
            "align_content": null,
            "align_items": null,
            "align_self": null,
            "border": null,
            "bottom": null,
            "display": null,
            "flex": null,
            "flex_flow": null,
            "grid_area": null,
            "grid_auto_columns": null,
            "grid_auto_flow": null,
            "grid_auto_rows": null,
            "grid_column": null,
            "grid_gap": null,
            "grid_row": null,
            "grid_template_areas": null,
            "grid_template_columns": null,
            "grid_template_rows": null,
            "height": null,
            "justify_content": null,
            "justify_items": null,
            "left": null,
            "margin": null,
            "max_height": null,
            "max_width": null,
            "min_height": null,
            "min_width": null,
            "object_fit": null,
            "object_position": null,
            "order": null,
            "overflow": null,
            "overflow_x": null,
            "overflow_y": null,
            "padding": null,
            "right": null,
            "top": null,
            "visibility": null,
            "width": null
          }
        },
        "a20c0990515f4e5ebc8efc46a991c856": {
          "model_module": "@jupyter-widgets/controls",
          "model_name": "DescriptionStyleModel",
          "model_module_version": "1.5.0",
          "state": {
            "_model_module": "@jupyter-widgets/controls",
            "_model_module_version": "1.5.0",
            "_model_name": "DescriptionStyleModel",
            "_view_count": null,
            "_view_module": "@jupyter-widgets/base",
            "_view_module_version": "1.2.0",
            "_view_name": "StyleView",
            "description_width": ""
          }
        },
        "7500ad8429b643589f3907669056ae1a": {
          "model_module": "@jupyter-widgets/base",
          "model_name": "LayoutModel",
          "model_module_version": "1.2.0",
          "state": {
            "_model_module": "@jupyter-widgets/base",
            "_model_module_version": "1.2.0",
            "_model_name": "LayoutModel",
            "_view_count": null,
            "_view_module": "@jupyter-widgets/base",
            "_view_module_version": "1.2.0",
            "_view_name": "LayoutView",
            "align_content": null,
            "align_items": null,
            "align_self": null,
            "border": null,
            "bottom": null,
            "display": null,
            "flex": null,
            "flex_flow": null,
            "grid_area": null,
            "grid_auto_columns": null,
            "grid_auto_flow": null,
            "grid_auto_rows": null,
            "grid_column": null,
            "grid_gap": null,
            "grid_row": null,
            "grid_template_areas": null,
            "grid_template_columns": null,
            "grid_template_rows": null,
            "height": null,
            "justify_content": null,
            "justify_items": null,
            "left": null,
            "margin": null,
            "max_height": null,
            "max_width": null,
            "min_height": null,
            "min_width": null,
            "object_fit": null,
            "object_position": null,
            "order": null,
            "overflow": null,
            "overflow_x": null,
            "overflow_y": null,
            "padding": null,
            "right": null,
            "top": null,
            "visibility": null,
            "width": null
          }
        },
        "8b279ffbad5643fbb4c0e550618b8846": {
          "model_module": "@jupyter-widgets/controls",
          "model_name": "ProgressStyleModel",
          "model_module_version": "1.5.0",
          "state": {
            "_model_module": "@jupyter-widgets/controls",
            "_model_module_version": "1.5.0",
            "_model_name": "ProgressStyleModel",
            "_view_count": null,
            "_view_module": "@jupyter-widgets/base",
            "_view_module_version": "1.2.0",
            "_view_name": "StyleView",
            "bar_color": null,
            "description_width": ""
          }
        },
        "8cec6cfd2baa4802ac7c244f35ae5ea3": {
          "model_module": "@jupyter-widgets/base",
          "model_name": "LayoutModel",
          "model_module_version": "1.2.0",
          "state": {
            "_model_module": "@jupyter-widgets/base",
            "_model_module_version": "1.2.0",
            "_model_name": "LayoutModel",
            "_view_count": null,
            "_view_module": "@jupyter-widgets/base",
            "_view_module_version": "1.2.0",
            "_view_name": "LayoutView",
            "align_content": null,
            "align_items": null,
            "align_self": null,
            "border": null,
            "bottom": null,
            "display": null,
            "flex": null,
            "flex_flow": null,
            "grid_area": null,
            "grid_auto_columns": null,
            "grid_auto_flow": null,
            "grid_auto_rows": null,
            "grid_column": null,
            "grid_gap": null,
            "grid_row": null,
            "grid_template_areas": null,
            "grid_template_columns": null,
            "grid_template_rows": null,
            "height": null,
            "justify_content": null,
            "justify_items": null,
            "left": null,
            "margin": null,
            "max_height": null,
            "max_width": null,
            "min_height": null,
            "min_width": null,
            "object_fit": null,
            "object_position": null,
            "order": null,
            "overflow": null,
            "overflow_x": null,
            "overflow_y": null,
            "padding": null,
            "right": null,
            "top": null,
            "visibility": null,
            "width": null
          }
        },
        "e6a9422d103346b6ac9f02bb626623aa": {
          "model_module": "@jupyter-widgets/controls",
          "model_name": "DescriptionStyleModel",
          "model_module_version": "1.5.0",
          "state": {
            "_model_module": "@jupyter-widgets/controls",
            "_model_module_version": "1.5.0",
            "_model_name": "DescriptionStyleModel",
            "_view_count": null,
            "_view_module": "@jupyter-widgets/base",
            "_view_module_version": "1.2.0",
            "_view_name": "StyleView",
            "description_width": ""
          }
        },
        "bedf0d59d5184894bc986a11fd00b762": {
          "model_module": "@jupyter-widgets/controls",
          "model_name": "HBoxModel",
          "model_module_version": "1.5.0",
          "state": {
            "_dom_classes": [],
            "_model_module": "@jupyter-widgets/controls",
            "_model_module_version": "1.5.0",
            "_model_name": "HBoxModel",
            "_view_count": null,
            "_view_module": "@jupyter-widgets/controls",
            "_view_module_version": "1.5.0",
            "_view_name": "HBoxView",
            "box_style": "",
            "children": [
              "IPY_MODEL_58c1ccd6b868471a818a40480ca94b19",
              "IPY_MODEL_5b4a4bd6c9734747a3f73215e8667598",
              "IPY_MODEL_40b780b36074495eb244e832897ce769"
            ],
            "layout": "IPY_MODEL_8272417fc1c3440ead598372183f9214"
          }
        },
        "58c1ccd6b868471a818a40480ca94b19": {
          "model_module": "@jupyter-widgets/controls",
          "model_name": "HTMLModel",
          "model_module_version": "1.5.0",
          "state": {
            "_dom_classes": [],
            "_model_module": "@jupyter-widgets/controls",
            "_model_module_version": "1.5.0",
            "_model_name": "HTMLModel",
            "_view_count": null,
            "_view_module": "@jupyter-widgets/controls",
            "_view_module_version": "1.5.0",
            "_view_name": "HTMLView",
            "description": "",
            "description_tooltip": null,
            "layout": "IPY_MODEL_dd53be02557748d98415ea5086bfd7c8",
            "placeholder": "​",
            "style": "IPY_MODEL_aa1ecc0a0fc74333b06c5763e624487d",
            "value": "Evaluating prototype classification: 100%"
          }
        },
        "5b4a4bd6c9734747a3f73215e8667598": {
          "model_module": "@jupyter-widgets/controls",
          "model_name": "FloatProgressModel",
          "model_module_version": "1.5.0",
          "state": {
            "_dom_classes": [],
            "_model_module": "@jupyter-widgets/controls",
            "_model_module_version": "1.5.0",
            "_model_name": "FloatProgressModel",
            "_view_count": null,
            "_view_module": "@jupyter-widgets/controls",
            "_view_module_version": "1.5.0",
            "_view_name": "ProgressView",
            "bar_style": "",
            "description": "",
            "description_tooltip": null,
            "layout": "IPY_MODEL_8def301a302c4fd3b2dfc7257c85f9b9",
            "max": 19,
            "min": 0,
            "orientation": "horizontal",
            "style": "IPY_MODEL_e1973cf0c7914f448b5a41a99cb84994",
            "value": 19
          }
        },
        "40b780b36074495eb244e832897ce769": {
          "model_module": "@jupyter-widgets/controls",
          "model_name": "HTMLModel",
          "model_module_version": "1.5.0",
          "state": {
            "_dom_classes": [],
            "_model_module": "@jupyter-widgets/controls",
            "_model_module_version": "1.5.0",
            "_model_name": "HTMLModel",
            "_view_count": null,
            "_view_module": "@jupyter-widgets/controls",
            "_view_module_version": "1.5.0",
            "_view_name": "HTMLView",
            "description": "",
            "description_tooltip": null,
            "layout": "IPY_MODEL_9324559941ea4840998c2b4cc62a56a7",
            "placeholder": "​",
            "style": "IPY_MODEL_a30da8882ae945f28ff9fd658e310503",
            "value": " 19/19 [00:00&lt;00:00, 61.60it/s]"
          }
        },
        "8272417fc1c3440ead598372183f9214": {
          "model_module": "@jupyter-widgets/base",
          "model_name": "LayoutModel",
          "model_module_version": "1.2.0",
          "state": {
            "_model_module": "@jupyter-widgets/base",
            "_model_module_version": "1.2.0",
            "_model_name": "LayoutModel",
            "_view_count": null,
            "_view_module": "@jupyter-widgets/base",
            "_view_module_version": "1.2.0",
            "_view_name": "LayoutView",
            "align_content": null,
            "align_items": null,
            "align_self": null,
            "border": null,
            "bottom": null,
            "display": null,
            "flex": null,
            "flex_flow": null,
            "grid_area": null,
            "grid_auto_columns": null,
            "grid_auto_flow": null,
            "grid_auto_rows": null,
            "grid_column": null,
            "grid_gap": null,
            "grid_row": null,
            "grid_template_areas": null,
            "grid_template_columns": null,
            "grid_template_rows": null,
            "height": null,
            "justify_content": null,
            "justify_items": null,
            "left": null,
            "margin": null,
            "max_height": null,
            "max_width": null,
            "min_height": null,
            "min_width": null,
            "object_fit": null,
            "object_position": null,
            "order": null,
            "overflow": null,
            "overflow_x": null,
            "overflow_y": null,
            "padding": null,
            "right": null,
            "top": null,
            "visibility": "hidden",
            "width": null
          }
        },
        "dd53be02557748d98415ea5086bfd7c8": {
          "model_module": "@jupyter-widgets/base",
          "model_name": "LayoutModel",
          "model_module_version": "1.2.0",
          "state": {
            "_model_module": "@jupyter-widgets/base",
            "_model_module_version": "1.2.0",
            "_model_name": "LayoutModel",
            "_view_count": null,
            "_view_module": "@jupyter-widgets/base",
            "_view_module_version": "1.2.0",
            "_view_name": "LayoutView",
            "align_content": null,
            "align_items": null,
            "align_self": null,
            "border": null,
            "bottom": null,
            "display": null,
            "flex": null,
            "flex_flow": null,
            "grid_area": null,
            "grid_auto_columns": null,
            "grid_auto_flow": null,
            "grid_auto_rows": null,
            "grid_column": null,
            "grid_gap": null,
            "grid_row": null,
            "grid_template_areas": null,
            "grid_template_columns": null,
            "grid_template_rows": null,
            "height": null,
            "justify_content": null,
            "justify_items": null,
            "left": null,
            "margin": null,
            "max_height": null,
            "max_width": null,
            "min_height": null,
            "min_width": null,
            "object_fit": null,
            "object_position": null,
            "order": null,
            "overflow": null,
            "overflow_x": null,
            "overflow_y": null,
            "padding": null,
            "right": null,
            "top": null,
            "visibility": null,
            "width": null
          }
        },
        "aa1ecc0a0fc74333b06c5763e624487d": {
          "model_module": "@jupyter-widgets/controls",
          "model_name": "DescriptionStyleModel",
          "model_module_version": "1.5.0",
          "state": {
            "_model_module": "@jupyter-widgets/controls",
            "_model_module_version": "1.5.0",
            "_model_name": "DescriptionStyleModel",
            "_view_count": null,
            "_view_module": "@jupyter-widgets/base",
            "_view_module_version": "1.2.0",
            "_view_name": "StyleView",
            "description_width": ""
          }
        },
        "8def301a302c4fd3b2dfc7257c85f9b9": {
          "model_module": "@jupyter-widgets/base",
          "model_name": "LayoutModel",
          "model_module_version": "1.2.0",
          "state": {
            "_model_module": "@jupyter-widgets/base",
            "_model_module_version": "1.2.0",
            "_model_name": "LayoutModel",
            "_view_count": null,
            "_view_module": "@jupyter-widgets/base",
            "_view_module_version": "1.2.0",
            "_view_name": "LayoutView",
            "align_content": null,
            "align_items": null,
            "align_self": null,
            "border": null,
            "bottom": null,
            "display": null,
            "flex": null,
            "flex_flow": null,
            "grid_area": null,
            "grid_auto_columns": null,
            "grid_auto_flow": null,
            "grid_auto_rows": null,
            "grid_column": null,
            "grid_gap": null,
            "grid_row": null,
            "grid_template_areas": null,
            "grid_template_columns": null,
            "grid_template_rows": null,
            "height": null,
            "justify_content": null,
            "justify_items": null,
            "left": null,
            "margin": null,
            "max_height": null,
            "max_width": null,
            "min_height": null,
            "min_width": null,
            "object_fit": null,
            "object_position": null,
            "order": null,
            "overflow": null,
            "overflow_x": null,
            "overflow_y": null,
            "padding": null,
            "right": null,
            "top": null,
            "visibility": null,
            "width": null
          }
        },
        "e1973cf0c7914f448b5a41a99cb84994": {
          "model_module": "@jupyter-widgets/controls",
          "model_name": "ProgressStyleModel",
          "model_module_version": "1.5.0",
          "state": {
            "_model_module": "@jupyter-widgets/controls",
            "_model_module_version": "1.5.0",
            "_model_name": "ProgressStyleModel",
            "_view_count": null,
            "_view_module": "@jupyter-widgets/base",
            "_view_module_version": "1.2.0",
            "_view_name": "StyleView",
            "bar_color": null,
            "description_width": ""
          }
        },
        "9324559941ea4840998c2b4cc62a56a7": {
          "model_module": "@jupyter-widgets/base",
          "model_name": "LayoutModel",
          "model_module_version": "1.2.0",
          "state": {
            "_model_module": "@jupyter-widgets/base",
            "_model_module_version": "1.2.0",
            "_model_name": "LayoutModel",
            "_view_count": null,
            "_view_module": "@jupyter-widgets/base",
            "_view_module_version": "1.2.0",
            "_view_name": "LayoutView",
            "align_content": null,
            "align_items": null,
            "align_self": null,
            "border": null,
            "bottom": null,
            "display": null,
            "flex": null,
            "flex_flow": null,
            "grid_area": null,
            "grid_auto_columns": null,
            "grid_auto_flow": null,
            "grid_auto_rows": null,
            "grid_column": null,
            "grid_gap": null,
            "grid_row": null,
            "grid_template_areas": null,
            "grid_template_columns": null,
            "grid_template_rows": null,
            "height": null,
            "justify_content": null,
            "justify_items": null,
            "left": null,
            "margin": null,
            "max_height": null,
            "max_width": null,
            "min_height": null,
            "min_width": null,
            "object_fit": null,
            "object_position": null,
            "order": null,
            "overflow": null,
            "overflow_x": null,
            "overflow_y": null,
            "padding": null,
            "right": null,
            "top": null,
            "visibility": null,
            "width": null
          }
        },
        "a30da8882ae945f28ff9fd658e310503": {
          "model_module": "@jupyter-widgets/controls",
          "model_name": "DescriptionStyleModel",
          "model_module_version": "1.5.0",
          "state": {
            "_model_module": "@jupyter-widgets/controls",
            "_model_module_version": "1.5.0",
            "_model_name": "DescriptionStyleModel",
            "_view_count": null,
            "_view_module": "@jupyter-widgets/base",
            "_view_module_version": "1.2.0",
            "_view_name": "StyleView",
            "description_width": ""
          }
        }
      }
    },
    "colab": {
      "provenance": [],
      "collapsed_sections": [],
      "toc_visible": true,
      "include_colab_link": true
    },
    "accelerator": "GPU",
    "kernelspec": {
      "name": "python3",
      "display_name": "Python 3"
    }
  },
  "nbformat": 4,
  "nbformat_minor": 5
}