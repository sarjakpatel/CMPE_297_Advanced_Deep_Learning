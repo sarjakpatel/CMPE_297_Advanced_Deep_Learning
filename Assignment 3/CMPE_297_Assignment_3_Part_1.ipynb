{
  "nbformat": 4,
  "nbformat_minor": 0,
  "metadata": {
    "colab": {
      "provenance": [],
      "include_colab_link": true
    },
    "kernelspec": {
      "name": "python3",
      "display_name": "Python 3"
    },
    "language_info": {
      "name": "python"
    },
    "accelerator": "GPU"
  },
  "cells": [
    {
      "cell_type": "markdown",
      "metadata": {
        "id": "view-in-github",
        "colab_type": "text"
      },
      "source": [
        "<a href=\"https://colab.research.google.com/github/sarjakpatel/CMPE_297_Advanced_Deep_Learning/blob/main/Assignment%203/CMPE_297_Assignment_3_Part_1.ipynb\" target=\"_parent\"><img src=\"https://colab.research.google.com/assets/colab-badge.svg\" alt=\"Open In Colab\"/></a>"
      ]
    },
    {
      "cell_type": "markdown",
      "source": [
        "# CMPE 297 Assignment 3 Part 1: Text Classification using Switch Transformer method."
      ],
      "metadata": {
        "id": "3WpHYmsX-DQR"
      }
    },
    {
      "cell_type": "markdown",
      "source": [
        "## Importing Libraries\n"
      ],
      "metadata": {
        "id": "K6VbmmVP-mlr"
      }
    },
    {
      "cell_type": "code",
      "execution_count": 12,
      "metadata": {
        "id": "gK8Yg7bx-Bc7"
      },
      "outputs": [],
      "source": [
        "import tensorflow as tf\n",
        "from tensorflow import keras\n",
        "from tensorflow.keras import layers"
      ]
    },
    {
      "cell_type": "markdown",
      "source": [
        "## Data Preparation\n",
        "\n",
        "Here, we will use IMDB dataset stored in keras datasets\n"
      ],
      "metadata": {
        "id": "fNXv8YNT-2vP"
      }
    },
    {
      "cell_type": "code",
      "source": [
        "vocab_size =25000  # Only consider the top 25k words\n",
        "num_tokens_per_example = 300  # Only consider the first 300 words of each movie review\n",
        "(x_train, y_train), (x_val, y_val) = keras.datasets.imdb.load_data(num_words=vocab_size)\n",
        "print(len(x_train), \"Training sequences\")\n",
        "print(len(x_val), \"Validation sequences\")\n",
        "x_train = keras.preprocessing.sequence.pad_sequences(\n",
        "    x_train, maxlen=num_tokens_per_example\n",
        ")\n",
        "x_val = keras.preprocessing.sequence.pad_sequences(x_val, maxlen=num_tokens_per_example)"
      ],
      "metadata": {
        "colab": {
          "base_uri": "https://localhost:8080/"
        },
        "id": "1sMiiYE4-wlq",
        "outputId": "e629404f-5317-48f5-ebce-9702a73d0a27"
      },
      "execution_count": 13,
      "outputs": [
        {
          "output_type": "stream",
          "name": "stdout",
          "text": [
            "25000 Training sequences\n",
            "25000 Validation sequences\n"
          ]
        }
      ]
    },
    {
      "cell_type": "code",
      "source": [
        "embed_dim = 32  # Embedding size for each token.\n",
        "num_heads = 2  # Number of attention heads\n",
        "ff_dim = 32  # Hidden layer size in feedforward network.\n",
        "num_experts = 10  # Number of experts used in the Switch Transformer.\n",
        "batch_size = 50  # Batch size.\n",
        "learning_rate = 0.002  # Learning rate.\n",
        "dropout_rate = 0.25  # Dropout rate.\n",
        "num_epochs = 1  # Number of epochs.\n",
        "num_tokens_per_batch = (\n",
        "    batch_size * num_tokens_per_example\n",
        ")  # Total number of tokens per batch.\n",
        "print(f\"Number of tokens per batch: {num_tokens_per_batch}\")"
      ],
      "metadata": {
        "colab": {
          "base_uri": "https://localhost:8080/"
        },
        "id": "NWdtlILy_EdD",
        "outputId": "c236fcbb-19ca-4417-ac5a-34f33b03c391"
      },
      "execution_count": 14,
      "outputs": [
        {
          "output_type": "stream",
          "name": "stdout",
          "text": [
            "Number of tokens per batch: 15000\n"
          ]
        }
      ]
    },
    {
      "cell_type": "code",
      "source": [
        "class TokenAndPositionEmbedding(layers.Layer):\n",
        "    \n",
        "    def __init__(self, maxlen, vocab_size, embed_dim):\n",
        "        super(TokenAndPositionEmbedding, self).__init__()\n",
        "        self.token_emb = layers.Embedding(input_dim=vocab_size, output_dim=embed_dim)\n",
        "        self.pos_emb = layers.Embedding(input_dim=maxlen, output_dim=embed_dim)\n",
        "\n",
        "    def call(self, x):\n",
        "        maxlen = tf.shape(x)[-1]\n",
        "        positions = tf.range(start=0, limit=maxlen, delta=1)\n",
        "        positions = self.pos_emb(positions)\n",
        "        x = self.token_emb(x)\n",
        "        return x + positions"
      ],
      "metadata": {
        "id": "okG4szH5_l9O"
      },
      "execution_count": 15,
      "outputs": []
    },
    {
      "cell_type": "markdown",
      "source": [
        "## Building the Neural Network\n",
        "\n",
        "This serves as the Switch Transformer's Expert Mixture.\n"
      ],
      "metadata": {
        "id": "5rTBihHdGBb-"
      }
    },
    {
      "cell_type": "markdown",
      "source": [
        "Note: Auxiliary load-balanced loss implementation:\n",
        "\n",
        "A balanced load across specialists is recommended by this auxiliary loss.\n"
      ],
      "metadata": {
        "id": "cFJZCyiJGBnq"
      }
    },
    {
      "cell_type": "code",
      "source": [
        "def create_feedforward_network(ff_dim, name=None):\n",
        "    return keras.Sequential(\n",
        "        [layers.Dense(ff_dim, activation=\"relu\"), layers.Dense(ff_dim)], name=name\n",
        "    )\n",
        "\n",
        "\n",
        "def load_balanced_loss(router_probs, expert_mask):\n",
        "    # router_probs [tokens_per_batch, num_experts] is the probability assigned for\n",
        "    # each expert per token. expert_mask [tokens_per_batch, num_experts] contains\n",
        "    # the expert with the highest router probability in one−hot format.\n",
        "\n",
        "    num_experts = tf.shape(expert_mask)[-1]\n",
        "    # Get the fraction of tokens routed to each expert.\n",
        "    # density is a vector of length num experts that sums to 1.\n",
        "    density = tf.reduce_mean(expert_mask, axis=0)\n",
        "    # Get fraction of probability mass assigned to each expert from the router\n",
        "    # across all tokens. density_proxy is a vector of length num experts that sums to 1.\n",
        "    density_proxy = tf.reduce_mean(router_probs, axis=0)\n",
        "    # Want both vectors to have uniform allocation (1/num experts) across all\n",
        "    # num_expert elements. The two vectors will be pushed towards uniform allocation\n",
        "    # when the dot product is minimized.\n",
        "    loss = tf.reduce_mean(density_proxy * density) * tf.cast(\n",
        "        (num_experts ** 2), tf.dtypes.float32\n",
        "    )\n",
        "    return loss"
      ],
      "metadata": {
        "id": "PJKeb9RS_xu3"
      },
      "execution_count": 16,
      "outputs": []
    },
    {
      "cell_type": "markdown",
      "source": [
        "## Router as a layer implementation"
      ],
      "metadata": {
        "id": "IFuabAoCGoiy"
      }
    },
    {
      "cell_type": "code",
      "source": [
        "class Router(layers.Layer):\n",
        "    def __init__(self, num_experts, expert_capacity):\n",
        "        self.num_experts = num_experts\n",
        "        self.route = layers.Dense(units=num_experts)\n",
        "        self.expert_capacity = expert_capacity\n",
        "        super(Router, self).__init__()\n",
        "\n",
        "    def call(self, inputs, training=False):\n",
        "        # inputs shape: [tokens_per_batch, embed_dim]\n",
        "        # router_logits shape: [tokens_per_batch, num_experts]\n",
        "        router_logits = self.route(inputs)\n",
        "\n",
        "        if training:\n",
        "            # Add noise for exploration across experts.\n",
        "            router_logits += tf.random.uniform(\n",
        "                shape=router_logits.shape, minval=0.9, maxval=1.1\n",
        "            )\n",
        "        # Probabilities for each token of what expert it should be sent to.\n",
        "        router_probs = keras.activations.softmax(router_logits, axis=-1)\n",
        "        # Get the top−1 expert for each token. expert_gate is the top−1 probability\n",
        "        # from the router for each token. expert_index is what expert each token\n",
        "        # is going to be routed to.\n",
        "        expert_gate, expert_index = tf.math.top_k(router_probs, k=1)\n",
        "        # expert_mask shape: [tokens_per_batch, num_experts]\n",
        "        expert_mask = tf.one_hot(expert_index, depth=self.num_experts)\n",
        "        # Compute load balancing loss.\n",
        "        aux_loss = load_balanced_loss(router_probs, expert_mask)\n",
        "        self.add_loss(aux_loss)\n",
        "        # Experts have a fixed capacity, ensure we do not exceed it. Construct\n",
        "        # the batch indices, to each expert, with position in expert make sure that\n",
        "        # not more that expert capacity examples can be routed to each expert.\n",
        "        position_in_expert = tf.cast(\n",
        "            tf.math.cumsum(expert_mask, axis=0) * expert_mask, tf.dtypes.int32\n",
        "        )\n",
        "        # Keep only tokens that fit within expert capacity.\n",
        "        expert_mask *= tf.cast(\n",
        "            tf.math.less(\n",
        "                tf.cast(position_in_expert, tf.dtypes.int32), self.expert_capacity\n",
        "            ),\n",
        "            tf.dtypes.float32,\n",
        "        )\n",
        "        expert_mask_flat = tf.reduce_sum(expert_mask, axis=-1)\n",
        "        # Mask out the experts that have overflowed the expert capacity.\n",
        "        expert_gate *= expert_mask_flat\n",
        "        # Combine expert outputs and scaling with router probability.\n",
        "        # combine_tensor shape: [tokens_per_batch, num_experts, expert_capacity]\n",
        "        combined_tensor = tf.expand_dims(\n",
        "            expert_gate\n",
        "            * expert_mask_flat\n",
        "            * tf.squeeze(tf.one_hot(expert_index, depth=self.num_experts), 1),\n",
        "            -1,\n",
        "        ) * tf.squeeze(tf.one_hot(position_in_expert, depth=self.expert_capacity), 1)\n",
        "        # Create binary dispatch_tensor [tokens_per_batch, num_experts, expert_capacity]\n",
        "        # that is 1 if the token gets routed to the corresponding expert.\n",
        "        dispatch_tensor = tf.cast(combined_tensor, tf.dtypes.float32)\n",
        "\n",
        "        return dispatch_tensor, combined_tensor\n"
      ],
      "metadata": {
        "id": "voogkh84_0L-"
      },
      "execution_count": 17,
      "outputs": []
    },
    {
      "cell_type": "markdown",
      "source": [
        "## Switch layer implementation\n",
        "\n"
      ],
      "metadata": {
        "id": "MgGOrZx_Gutb"
      }
    },
    {
      "cell_type": "code",
      "source": [
        "class Switch(layers.Layer):\n",
        "    def __init__(self, num_experts, embed_dim, num_tokens_per_batch, capacity_factor=1):\n",
        "        self.num_experts = num_experts\n",
        "        self.embed_dim = embed_dim\n",
        "        self.experts = [\n",
        "            create_feedforward_network(embed_dim) for _ in range(num_experts)\n",
        "        ]\n",
        "\n",
        "        self.expert_capacity = num_tokens_per_batch // self.num_experts\n",
        "        self.router = Router(self.num_experts, self.expert_capacity)\n",
        "        super(Switch, self).__init__()\n",
        "\n",
        "    def call(self, inputs):\n",
        "        batch_size = tf.shape(inputs)[0]\n",
        "        num_tokens_per_example = tf.shape(inputs)[1]\n",
        "\n",
        "        # inputs shape: [num_tokens_per_batch, embed_dim]\n",
        "        inputs = tf.reshape(inputs, [num_tokens_per_batch, self.embed_dim])\n",
        "        # dispatch_tensor shape: [expert_capacity, num_experts, tokens_per_batch]\n",
        "        # combine_tensor shape: [tokens_per_batch, num_experts, expert_capacity]\n",
        "        dispatch_tensor, combine_tensor = self.router(inputs)\n",
        "        # expert_inputs shape: [num_experts, expert_capacity, embed_dim]\n",
        "        expert_inputs = tf.einsum(\"ab,acd->cdb\", inputs, dispatch_tensor)\n",
        "        expert_inputs = tf.reshape(\n",
        "            expert_inputs, [self.num_experts, self.expert_capacity, self.embed_dim]\n",
        "        )\n",
        "        # Dispatch to experts\n",
        "        expert_input_list = tf.unstack(expert_inputs, axis=0)\n",
        "        expert_output_list = [\n",
        "            self.experts[idx](expert_input)\n",
        "            for idx, expert_input in enumerate(expert_input_list)\n",
        "        ]\n",
        "        # expert_outputs shape: [expert_capacity, num_experts, embed_dim]\n",
        "        expert_outputs = tf.stack(expert_output_list, axis=1)\n",
        "        # expert_outputs_combined shape: [tokens_per_batch, embed_dim]\n",
        "        expert_outputs_combined = tf.einsum(\n",
        "            \"abc,xba->xc\", expert_outputs, combine_tensor\n",
        "        )\n",
        "        # output shape: [batch_size, num_tokens_per_example, embed_dim]\n",
        "        outputs = tf.reshape(\n",
        "            expert_outputs_combined,\n",
        "            [batch_size, num_tokens_per_example, self.embed_dim],\n",
        "        )\n",
        "        return outputs\n"
      ],
      "metadata": {
        "id": "_7PUVvi4_5WN"
      },
      "execution_count": 18,
      "outputs": []
    },
    {
      "cell_type": "markdown",
      "source": [
        "## Transformer Layer block implementation\n"
      ],
      "metadata": {
        "id": "QOv6CRT4GzK6"
      }
    },
    {
      "cell_type": "code",
      "source": [
        "class TransformerBlock(layers.Layer):\n",
        "    def __init__(self, embed_dim, num_heads, ffn, dropout_rate=0.1):\n",
        "        super(TransformerBlock, self).__init__()\n",
        "        self.att = layers.MultiHeadAttention(num_heads=num_heads, key_dim=embed_dim)\n",
        "        # The ffn can be either a standard feedforward network or a switch\n",
        "        # layer with a Mixture of Experts.\n",
        "        self.ffn = ffn\n",
        "        self.layernorm1 = layers.LayerNormalization(epsilon=1e-6)\n",
        "        self.layernorm2 = layers.LayerNormalization(epsilon=1e-6)\n",
        "        self.dropout1 = layers.Dropout(dropout_rate)\n",
        "        self.dropout2 = layers.Dropout(dropout_rate)\n",
        "\n",
        "    def call(self, inputs, training):\n",
        "        attn_output = self.att(inputs, inputs)\n",
        "        attn_output = self.dropout1(attn_output, training=training)\n",
        "        out1 = self.layernorm1(inputs + attn_output)\n",
        "        ffn_output = self.ffn(out1)\n",
        "        ffn_output = self.dropout2(ffn_output, training=training)\n",
        "        return self.layernorm2(out1 + ffn_output)\n"
      ],
      "metadata": {
        "id": "JXP_YN5W_75w"
      },
      "execution_count": 19,
      "outputs": []
    },
    {
      "cell_type": "markdown",
      "source": [
        "## Building Classifier\n",
        "\n",
        "One vector is produced by the TransformerBlock layer for each time step of our input sequence. Here, we employ a feedforward network on top of the mean over all time steps to classify text."
      ],
      "metadata": {
        "id": "sRbIbvHBG70O"
      }
    },
    {
      "cell_type": "code",
      "source": [
        "def create_classifier():\n",
        "    switch = Switch(num_experts, embed_dim, num_tokens_per_batch)\n",
        "    transformer_block = TransformerBlock(ff_dim, num_heads, switch)\n",
        "\n",
        "    inputs = layers.Input(shape=(num_tokens_per_example,))\n",
        "    embedding_layer = TokenAndPositionEmbedding(\n",
        "        num_tokens_per_example, vocab_size, embed_dim\n",
        "    )\n",
        "    x = embedding_layer(inputs)\n",
        "    x = transformer_block(x)\n",
        "    x = layers.GlobalAveragePooling1D()(x)\n",
        "    x = layers.Dropout(dropout_rate)(x)\n",
        "    x = layers.Dense(ff_dim, activation=\"relu\")(x)\n",
        "    x = layers.Dropout(dropout_rate)(x)\n",
        "    outputs = layers.Dense(2, activation=\"softmax\")(x)\n",
        "\n",
        "    classifier = keras.Model(inputs=inputs, outputs=outputs)\n",
        "    return classifier"
      ],
      "metadata": {
        "id": "mY_iMDsh_-CR"
      },
      "execution_count": 20,
      "outputs": []
    },
    {
      "cell_type": "markdown",
      "source": [
        "## Model Training and evaluation\n"
      ],
      "metadata": {
        "id": "N0hUk_sJHD4a"
      }
    },
    {
      "cell_type": "code",
      "source": [
        "def run_experiment(classifier):\n",
        "    classifier.compile(\n",
        "        optimizer=keras.optimizers.Adam(learning_rate),\n",
        "        loss=\"sparse_categorical_crossentropy\",\n",
        "        metrics=[\"accuracy\"],\n",
        "    )\n",
        "    history = classifier.fit(\n",
        "        x_train,\n",
        "        y_train,\n",
        "        batch_size=batch_size,\n",
        "        epochs=num_epochs,\n",
        "        validation_data=(x_val, y_val),\n",
        "    )\n",
        "    return history"
      ],
      "metadata": {
        "id": "-QEZoAU2AAIw"
      },
      "execution_count": 21,
      "outputs": []
    },
    {
      "cell_type": "code",
      "source": [
        "classifier = create_classifier()\n",
        "run_experiment(classifier)"
      ],
      "metadata": {
        "colab": {
          "base_uri": "https://localhost:8080/"
        },
        "id": "FZGtUSzcADiw",
        "outputId": "cea48953-0203-4680-875c-84836f810e44"
      },
      "execution_count": 22,
      "outputs": [
        {
          "output_type": "stream",
          "name": "stdout",
          "text": [
            "500/500 [==============================] - 98s 192ms/step - loss: 1.4089 - accuracy: 0.7989 - val_loss: 1.2802 - val_accuracy: 0.8843\n"
          ]
        },
        {
          "output_type": "execute_result",
          "data": {
            "text/plain": [
              "<keras.callbacks.History at 0x7fdf994b6250>"
            ]
          },
          "metadata": {},
          "execution_count": 22
        }
      ]
    },
    {
      "cell_type": "markdown",
      "source": [
        "## Conclusion: "
      ],
      "metadata": {
        "id": "DVECLkSxQWH6"
      }
    },
    {
      "cell_type": "markdown",
      "source": [
        "The Switch Transformer architecture allows for significantly more parameters to be used in a model than the traditional Transformer architecture while yet retaining a manageable computational cost.\n"
      ],
      "metadata": {
        "id": "aD62coDqg5Xy"
      }
    },
    {
      "cell_type": "markdown",
      "source": [
        "## References:"
      ],
      "metadata": {
        "id": "oBNn6HsOWxt3"
      }
    },
    {
      "cell_type": "markdown",
      "source": [
        "\n",
        "*   https://keras.io/examples/nlp/text_classification_with_switch_transformer/\n",
        "*   https://colab.research.google.com/github/keras-team/keras-io/blob/master/examples/nlp/ipynb/text_classification_with_switch_transformer.ipynb#scrollTo=QjJ7UR1I_dlV"
      ],
      "metadata": {
        "id": "CYK21vGlhICE"
      }
    }
  ]
}