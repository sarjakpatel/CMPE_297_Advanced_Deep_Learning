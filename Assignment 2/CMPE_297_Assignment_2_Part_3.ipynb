{
  "nbformat": 4,
  "nbformat_minor": 0,
  "metadata": {
    "colab": {
      "provenance": [],
      "toc_visible": true,
      "authorship_tag": "ABX9TyO6A94sCti5kQuJRYYilXPa",
      "include_colab_link": true
    },
    "kernelspec": {
      "name": "python3",
      "display_name": "Python 3"
    },
    "language_info": {
      "name": "python"
    },
    "accelerator": "GPU"
  },
  "cells": [
    {
      "cell_type": "markdown",
      "metadata": {
        "id": "view-in-github",
        "colab_type": "text"
      },
      "source": [
        "<a href=\"https://colab.research.google.com/github/sarjakpatel/CMPE_297_Advanced_Deep_Learning/blob/main/Assignment%202/CMPE_297_Assignment_2_Part_3.ipynb\" target=\"_parent\"><img src=\"https://colab.research.google.com/assets/colab-badge.svg\" alt=\"Open In Colab\"/></a>"
      ]
    },
    {
      "cell_type": "markdown",
      "source": [
        "# CMPE 297 Assignment 2 Part 3: Link Prediction for Graph"
      ],
      "metadata": {
        "id": "4MwyBmAzA_7r"
      }
    },
    {
      "cell_type": "markdown",
      "source": [
        "## Importing Libraries"
      ],
      "metadata": {
        "id": "vqGF90N18zc_"
      }
    },
    {
      "cell_type": "code",
      "source": [
        "!pip install torch_geometric"
      ],
      "metadata": {
        "colab": {
          "base_uri": "https://localhost:8080/"
        },
        "id": "5N29LNidx5YZ",
        "outputId": "b5f216a8-59dd-48ec-92b8-5bac684aead8"
      },
      "execution_count": 15,
      "outputs": [
        {
          "output_type": "stream",
          "name": "stdout",
          "text": [
            "Looking in indexes: https://pypi.org/simple, https://us-python.pkg.dev/colab-wheels/public/simple/\n",
            "Requirement already satisfied: torch_geometric in /usr/local/lib/python3.7/dist-packages (2.1.0.post1)\n",
            "Requirement already satisfied: tqdm in /usr/local/lib/python3.7/dist-packages (from torch_geometric) (4.64.1)\n",
            "Requirement already satisfied: scikit-learn in /usr/local/lib/python3.7/dist-packages (from torch_geometric) (1.0.2)\n",
            "Requirement already satisfied: numpy in /usr/local/lib/python3.7/dist-packages (from torch_geometric) (1.21.6)\n",
            "Requirement already satisfied: scipy in /usr/local/lib/python3.7/dist-packages (from torch_geometric) (1.7.3)\n",
            "Requirement already satisfied: jinja2 in /usr/local/lib/python3.7/dist-packages (from torch_geometric) (2.11.3)\n",
            "Requirement already satisfied: requests in /usr/local/lib/python3.7/dist-packages (from torch_geometric) (2.23.0)\n",
            "Requirement already satisfied: pyparsing in /usr/local/lib/python3.7/dist-packages (from torch_geometric) (3.0.9)\n",
            "Requirement already satisfied: MarkupSafe>=0.23 in /usr/local/lib/python3.7/dist-packages (from jinja2->torch_geometric) (2.0.1)\n",
            "Requirement already satisfied: chardet<4,>=3.0.2 in /usr/local/lib/python3.7/dist-packages (from requests->torch_geometric) (3.0.4)\n",
            "Requirement already satisfied: urllib3!=1.25.0,!=1.25.1,<1.26,>=1.21.1 in /usr/local/lib/python3.7/dist-packages (from requests->torch_geometric) (1.24.3)\n",
            "Requirement already satisfied: certifi>=2017.4.17 in /usr/local/lib/python3.7/dist-packages (from requests->torch_geometric) (2022.9.24)\n",
            "Requirement already satisfied: idna<3,>=2.5 in /usr/local/lib/python3.7/dist-packages (from requests->torch_geometric) (2.10)\n",
            "Requirement already satisfied: threadpoolctl>=2.0.0 in /usr/local/lib/python3.7/dist-packages (from scikit-learn->torch_geometric) (3.1.0)\n",
            "Requirement already satisfied: joblib>=0.11 in /usr/local/lib/python3.7/dist-packages (from scikit-learn->torch_geometric) (1.2.0)\n"
          ]
        }
      ]
    },
    {
      "cell_type": "code",
      "source": [
        "!pip install torch_sparse"
      ],
      "metadata": {
        "colab": {
          "base_uri": "https://localhost:8080/"
        },
        "id": "FNmwi5ldyEso",
        "outputId": "9a0a8996-c441-4ad4-f95c-cf93f70d98e2"
      },
      "execution_count": 16,
      "outputs": [
        {
          "output_type": "stream",
          "name": "stdout",
          "text": [
            "Looking in indexes: https://pypi.org/simple, https://us-python.pkg.dev/colab-wheels/public/simple/\n",
            "Requirement already satisfied: torch_sparse in /usr/local/lib/python3.7/dist-packages (0.6.15)\n",
            "Requirement already satisfied: scipy in /usr/local/lib/python3.7/dist-packages (from torch_sparse) (1.7.3)\n",
            "Requirement already satisfied: numpy<1.23.0,>=1.16.5 in /usr/local/lib/python3.7/dist-packages (from scipy->torch_sparse) (1.21.6)\n"
          ]
        }
      ]
    },
    {
      "cell_type": "code",
      "source": [
        "!pip install torch_scatter"
      ],
      "metadata": {
        "colab": {
          "base_uri": "https://localhost:8080/"
        },
        "id": "EdgaFd3H2tb2",
        "outputId": "686ad25c-c39a-462c-c58d-7da33a1995a1"
      },
      "execution_count": 17,
      "outputs": [
        {
          "output_type": "stream",
          "name": "stdout",
          "text": [
            "Looking in indexes: https://pypi.org/simple, https://us-python.pkg.dev/colab-wheels/public/simple/\n",
            "Requirement already satisfied: torch_scatter in /usr/local/lib/python3.7/dist-packages (2.0.9)\n"
          ]
        }
      ]
    },
    {
      "cell_type": "code",
      "source": [
        "import os.path as osp\n",
        "\n",
        "import torch\n",
        "from sklearn.metrics import roc_auc_score\n",
        "\n",
        "import torch_geometric.transforms as T\n",
        "from torch_geometric.datasets import Planetoid\n",
        "from torch_geometric.nn import GCNConv\n",
        "from torch_geometric.utils import negative_sampling"
      ],
      "metadata": {
        "id": "cgS17-QU4XZ9"
      },
      "execution_count": 18,
      "outputs": []
    },
    {
      "cell_type": "code",
      "source": [
        "device = torch.device('cuda' if torch.cuda.is_available() else 'cpu')"
      ],
      "metadata": {
        "id": "DFjVOmUB4dW3"
      },
      "execution_count": 19,
      "outputs": []
    },
    {
      "cell_type": "markdown",
      "source": [
        "## Initialize dataset and Dataset Transformation"
      ],
      "metadata": {
        "id": "mR9feZUU8_IH"
      }
    },
    {
      "cell_type": "code",
      "source": [
        "transform = T.Compose([\n",
        "    T.NormalizeFeatures(),\n",
        "    T.ToDevice(device),\n",
        "    T.RandomLinkSplit(num_val=0.05, num_test=0.1, is_undirected=True,\n",
        "                      add_negative_train_samples=False),\n",
        "])"
      ],
      "metadata": {
        "id": "TKXw1D9o4e76"
      },
      "execution_count": 20,
      "outputs": []
    },
    {
      "cell_type": "code",
      "source": [
        "dataset = 'Cora'\n",
        "path = osp.join('.', 'data', dataset)\n",
        "dataset = Planetoid(path, name='Cora', transform=transform)"
      ],
      "metadata": {
        "id": "a4LU8OBy4hLa"
      },
      "execution_count": 21,
      "outputs": []
    },
    {
      "cell_type": "markdown",
      "source": [
        "After applying the `RandomLinkSplit` transform, the data is transformed from\n",
        "a data object to a list of tuples (train_data, val_data, test_data), with\n",
        "each element representing the corresponding split."
      ],
      "metadata": {
        "id": "Quxk6YYd_LxU"
      }
    },
    {
      "cell_type": "code",
      "source": [
        "train_data, val_data, test_data = dataset[0]"
      ],
      "metadata": {
        "id": "KnCYSZ1Y49xH"
      },
      "execution_count": 22,
      "outputs": []
    },
    {
      "cell_type": "markdown",
      "source": [
        "## Model for Link Prediction"
      ],
      "metadata": {
        "id": "fjKBy8CL9Jbe"
      }
    },
    {
      "cell_type": "code",
      "source": [
        "class Net(torch.nn.Module):\n",
        "    def __init__(self, in_channels, hidden_channels, out_channels):\n",
        "        super().__init__()\n",
        "        self.conv1 = GCNConv(in_channels, hidden_channels)\n",
        "        self.conv2 = GCNConv(hidden_channels, out_channels)\n",
        "\n",
        "    def encode(self, x, edge_index):\n",
        "        x = self.conv1(x, edge_index).relu()\n",
        "        return self.conv2(x, edge_index)\n",
        "\n",
        "    def decode(self, z, edge_label_index):\n",
        "        return (z[edge_label_index[0]] * z[edge_label_index[1]]).sum(dim=-1)\n",
        "\n",
        "    def decode_all(self, z):\n",
        "        prob_adj = z @ z.t()\n",
        "        return (prob_adj > 0).nonzero(as_tuple=False).t()"
      ],
      "metadata": {
        "id": "YIxW4OgB5A0F"
      },
      "execution_count": 23,
      "outputs": []
    },
    {
      "cell_type": "code",
      "source": [
        "model = Net(dataset.num_features, 128, 64).to(device)\n",
        "optimizer = torch.optim.Adam(params=model.parameters(), lr=0.01)\n",
        "criterion = torch.nn.BCEWithLogitsLoss()"
      ],
      "metadata": {
        "id": "4MzN6D335B0S"
      },
      "execution_count": 24,
      "outputs": []
    },
    {
      "cell_type": "markdown",
      "source": [
        "## Trainning a Model"
      ],
      "metadata": {
        "id": "k_27u6vf9TB-"
      }
    },
    {
      "cell_type": "code",
      "source": [
        "def train():\n",
        "    model.train()\n",
        "    optimizer.zero_grad()\n",
        "    z = model.encode(train_data.x, train_data.edge_index)\n",
        "\n",
        "    # We perform a new round of negative sampling for every training epoch:\n",
        "    neg_edge_index = negative_sampling(\n",
        "        edge_index=train_data.edge_index, num_nodes=train_data.num_nodes,\n",
        "        num_neg_samples=train_data.edge_label_index.size(1), method='sparse')\n",
        "\n",
        "    edge_label_index = torch.cat(\n",
        "        [train_data.edge_label_index, neg_edge_index],\n",
        "        dim=-1,\n",
        "    )\n",
        "    edge_label = torch.cat([\n",
        "        train_data.edge_label,\n",
        "        train_data.edge_label.new_zeros(neg_edge_index.size(1))\n",
        "    ], dim=0)\n",
        "\n",
        "    out = model.decode(z, edge_label_index).view(-1)\n",
        "    loss = criterion(out, edge_label)\n",
        "    loss.backward()\n",
        "    optimizer.step()\n",
        "    return loss"
      ],
      "metadata": {
        "id": "wVHtaLXC5FTt"
      },
      "execution_count": 25,
      "outputs": []
    },
    {
      "cell_type": "markdown",
      "source": [
        "## Testing a Model"
      ],
      "metadata": {
        "id": "XZ_B7koY9gM8"
      }
    },
    {
      "cell_type": "code",
      "source": [
        "@torch.no_grad()\n",
        "def test(data):\n",
        "    model.eval()\n",
        "    z = model.encode(data.x, data.edge_index)\n",
        "    out = model.decode(z, data.edge_label_index).view(-1).sigmoid()\n",
        "    return roc_auc_score(data.edge_label.cpu().numpy(), out.cpu().numpy())\n",
        "\n",
        "\n",
        "best_val_auc = final_test_auc = 0\n",
        "for epoch in range(1, 101):\n",
        "    loss = train()\n",
        "    val_auc = test(val_data)\n",
        "    test_auc = test(test_data)\n",
        "    if val_auc > best_val_auc:\n",
        "        best_val_auc = val_auc\n",
        "        final_test_auc = test_auc\n",
        "    print(f'Epoch: {epoch:03d}, Loss: {loss:.4f}, Val: {val_auc:.4f}, '\n",
        "          f'Test: {test_auc:.4f}')"
      ],
      "metadata": {
        "id": "MiEniC1J5F8m",
        "colab": {
          "base_uri": "https://localhost:8080/"
        },
        "outputId": "650dedbf-e200-4022-8aea-7968947343c1"
      },
      "execution_count": 26,
      "outputs": [
        {
          "output_type": "stream",
          "name": "stdout",
          "text": [
            "Epoch: 001, Loss: 0.6930, Val: 0.7195, Test: 0.7095\n",
            "Epoch: 002, Loss: 0.6829, Val: 0.7151, Test: 0.7064\n",
            "Epoch: 003, Loss: 0.7043, Val: 0.7130, Test: 0.7157\n",
            "Epoch: 004, Loss: 0.6781, Val: 0.7152, Test: 0.7265\n",
            "Epoch: 005, Loss: 0.6848, Val: 0.7207, Test: 0.7322\n",
            "Epoch: 006, Loss: 0.6879, Val: 0.7258, Test: 0.7356\n",
            "Epoch: 007, Loss: 0.6889, Val: 0.7288, Test: 0.7375\n",
            "Epoch: 008, Loss: 0.6884, Val: 0.7307, Test: 0.7409\n",
            "Epoch: 009, Loss: 0.6865, Val: 0.7271, Test: 0.7391\n",
            "Epoch: 010, Loss: 0.6823, Val: 0.7217, Test: 0.7370\n",
            "Epoch: 011, Loss: 0.6749, Val: 0.7187, Test: 0.7343\n",
            "Epoch: 012, Loss: 0.6673, Val: 0.7162, Test: 0.7327\n",
            "Epoch: 013, Loss: 0.6690, Val: 0.7218, Test: 0.7449\n",
            "Epoch: 014, Loss: 0.6631, Val: 0.7403, Test: 0.7759\n",
            "Epoch: 015, Loss: 0.6514, Val: 0.7481, Test: 0.7945\n",
            "Epoch: 016, Loss: 0.6420, Val: 0.7355, Test: 0.7946\n",
            "Epoch: 017, Loss: 0.6272, Val: 0.7210, Test: 0.7834\n",
            "Epoch: 018, Loss: 0.6133, Val: 0.7112, Test: 0.7764\n",
            "Epoch: 019, Loss: 0.5988, Val: 0.7164, Test: 0.7809\n",
            "Epoch: 020, Loss: 0.5855, Val: 0.7265, Test: 0.7817\n",
            "Epoch: 021, Loss: 0.5728, Val: 0.7237, Test: 0.7788\n",
            "Epoch: 022, Loss: 0.5728, Val: 0.7217, Test: 0.7780\n",
            "Epoch: 023, Loss: 0.5737, Val: 0.7253, Test: 0.7789\n",
            "Epoch: 024, Loss: 0.5691, Val: 0.7328, Test: 0.7810\n",
            "Epoch: 025, Loss: 0.5667, Val: 0.7392, Test: 0.7862\n",
            "Epoch: 026, Loss: 0.5629, Val: 0.7442, Test: 0.7945\n",
            "Epoch: 027, Loss: 0.5454, Val: 0.7570, Test: 0.8047\n",
            "Epoch: 028, Loss: 0.5443, Val: 0.7728, Test: 0.8138\n",
            "Epoch: 029, Loss: 0.5419, Val: 0.7875, Test: 0.8204\n",
            "Epoch: 030, Loss: 0.5366, Val: 0.7993, Test: 0.8255\n",
            "Epoch: 031, Loss: 0.5270, Val: 0.8083, Test: 0.8289\n",
            "Epoch: 032, Loss: 0.5190, Val: 0.8169, Test: 0.8312\n",
            "Epoch: 033, Loss: 0.5112, Val: 0.8219, Test: 0.8315\n",
            "Epoch: 034, Loss: 0.5055, Val: 0.8256, Test: 0.8309\n",
            "Epoch: 035, Loss: 0.5130, Val: 0.8321, Test: 0.8347\n",
            "Epoch: 036, Loss: 0.5062, Val: 0.8330, Test: 0.8329\n",
            "Epoch: 037, Loss: 0.5213, Val: 0.8363, Test: 0.8327\n",
            "Epoch: 038, Loss: 0.5091, Val: 0.8369, Test: 0.8315\n",
            "Epoch: 039, Loss: 0.5061, Val: 0.8375, Test: 0.8325\n",
            "Epoch: 040, Loss: 0.5039, Val: 0.8372, Test: 0.8325\n",
            "Epoch: 041, Loss: 0.5086, Val: 0.8389, Test: 0.8343\n",
            "Epoch: 042, Loss: 0.4999, Val: 0.8409, Test: 0.8355\n",
            "Epoch: 043, Loss: 0.5005, Val: 0.8430, Test: 0.8379\n",
            "Epoch: 044, Loss: 0.4959, Val: 0.8463, Test: 0.8426\n",
            "Epoch: 045, Loss: 0.4906, Val: 0.8506, Test: 0.8474\n",
            "Epoch: 046, Loss: 0.4879, Val: 0.8536, Test: 0.8511\n",
            "Epoch: 047, Loss: 0.4885, Val: 0.8558, Test: 0.8526\n",
            "Epoch: 048, Loss: 0.4799, Val: 0.8596, Test: 0.8556\n",
            "Epoch: 049, Loss: 0.4975, Val: 0.8642, Test: 0.8597\n",
            "Epoch: 050, Loss: 0.4842, Val: 0.8701, Test: 0.8642\n",
            "Epoch: 051, Loss: 0.4878, Val: 0.8752, Test: 0.8678\n",
            "Epoch: 052, Loss: 0.4887, Val: 0.8780, Test: 0.8702\n",
            "Epoch: 053, Loss: 0.4818, Val: 0.8824, Test: 0.8748\n",
            "Epoch: 054, Loss: 0.4799, Val: 0.8861, Test: 0.8793\n",
            "Epoch: 055, Loss: 0.4766, Val: 0.8889, Test: 0.8823\n",
            "Epoch: 056, Loss: 0.4708, Val: 0.8908, Test: 0.8849\n",
            "Epoch: 057, Loss: 0.4688, Val: 0.8929, Test: 0.8863\n",
            "Epoch: 058, Loss: 0.4596, Val: 0.8958, Test: 0.8885\n",
            "Epoch: 059, Loss: 0.4657, Val: 0.8984, Test: 0.8904\n",
            "Epoch: 060, Loss: 0.4671, Val: 0.8993, Test: 0.8922\n",
            "Epoch: 061, Loss: 0.4636, Val: 0.9002, Test: 0.8922\n",
            "Epoch: 062, Loss: 0.4628, Val: 0.9003, Test: 0.8931\n",
            "Epoch: 063, Loss: 0.4546, Val: 0.9011, Test: 0.8956\n",
            "Epoch: 064, Loss: 0.4572, Val: 0.9015, Test: 0.8975\n",
            "Epoch: 065, Loss: 0.4527, Val: 0.9023, Test: 0.8982\n",
            "Epoch: 066, Loss: 0.4499, Val: 0.9040, Test: 0.8988\n",
            "Epoch: 067, Loss: 0.4561, Val: 0.9043, Test: 0.8997\n",
            "Epoch: 068, Loss: 0.4613, Val: 0.9045, Test: 0.9003\n",
            "Epoch: 069, Loss: 0.4580, Val: 0.9080, Test: 0.9006\n",
            "Epoch: 070, Loss: 0.4473, Val: 0.9101, Test: 0.9012\n",
            "Epoch: 071, Loss: 0.4416, Val: 0.9110, Test: 0.9024\n",
            "Epoch: 072, Loss: 0.4445, Val: 0.9102, Test: 0.9045\n",
            "Epoch: 073, Loss: 0.4553, Val: 0.9110, Test: 0.9049\n",
            "Epoch: 074, Loss: 0.4439, Val: 0.9139, Test: 0.9042\n",
            "Epoch: 075, Loss: 0.4417, Val: 0.9161, Test: 0.9037\n",
            "Epoch: 076, Loss: 0.4493, Val: 0.9169, Test: 0.9057\n",
            "Epoch: 077, Loss: 0.4461, Val: 0.9149, Test: 0.9068\n",
            "Epoch: 078, Loss: 0.4430, Val: 0.9155, Test: 0.9075\n",
            "Epoch: 079, Loss: 0.4405, Val: 0.9182, Test: 0.9064\n",
            "Epoch: 080, Loss: 0.4474, Val: 0.9176, Test: 0.9059\n",
            "Epoch: 081, Loss: 0.4362, Val: 0.9172, Test: 0.9075\n",
            "Epoch: 082, Loss: 0.4384, Val: 0.9173, Test: 0.9093\n",
            "Epoch: 083, Loss: 0.4464, Val: 0.9170, Test: 0.9087\n",
            "Epoch: 084, Loss: 0.4380, Val: 0.9170, Test: 0.9065\n",
            "Epoch: 085, Loss: 0.4470, Val: 0.9175, Test: 0.9059\n",
            "Epoch: 086, Loss: 0.4435, Val: 0.9186, Test: 0.9062\n",
            "Epoch: 087, Loss: 0.4350, Val: 0.9190, Test: 0.9073\n",
            "Epoch: 088, Loss: 0.4410, Val: 0.9178, Test: 0.9064\n",
            "Epoch: 089, Loss: 0.4390, Val: 0.9181, Test: 0.9069\n",
            "Epoch: 090, Loss: 0.4400, Val: 0.9206, Test: 0.9078\n",
            "Epoch: 091, Loss: 0.4310, Val: 0.9218, Test: 0.9077\n",
            "Epoch: 092, Loss: 0.4346, Val: 0.9222, Test: 0.9067\n",
            "Epoch: 093, Loss: 0.4360, Val: 0.9219, Test: 0.9075\n",
            "Epoch: 094, Loss: 0.4459, Val: 0.9233, Test: 0.9083\n",
            "Epoch: 095, Loss: 0.4296, Val: 0.9246, Test: 0.9090\n",
            "Epoch: 096, Loss: 0.4428, Val: 0.9238, Test: 0.9082\n",
            "Epoch: 097, Loss: 0.4345, Val: 0.9226, Test: 0.9073\n",
            "Epoch: 098, Loss: 0.4365, Val: 0.9243, Test: 0.9093\n",
            "Epoch: 099, Loss: 0.4383, Val: 0.9245, Test: 0.9096\n",
            "Epoch: 100, Loss: 0.4314, Val: 0.9247, Test: 0.9100\n"
          ]
        }
      ]
    },
    {
      "cell_type": "markdown",
      "source": [
        "## Model Evaluation"
      ],
      "metadata": {
        "id": "Q7cm5_d3-1_W"
      }
    },
    {
      "cell_type": "code",
      "execution_count": 27,
      "metadata": {
        "colab": {
          "base_uri": "https://localhost:8080/"
        },
        "id": "BsCOxYhAxydz",
        "outputId": "17bfd28b-85b0-4b41-f003-2d3ee9218c07"
      },
      "outputs": [
        {
          "output_type": "stream",
          "name": "stdout",
          "text": [
            "Final Test: 0.9100\n"
          ]
        }
      ],
      "source": [
        "print(f'Final Test: {final_test_auc:.4f}')\n",
        "\n",
        "z = model.encode(test_data.x, test_data.edge_index)\n",
        "final_edge_index = model.decode_all(z)"
      ]
    },
    {
      "cell_type": "markdown",
      "source": [
        "## References\n",
        "\n",
        "\n",
        "\n",
        "*   http://cs230.stanford.edu/projects_spring_2020/reports/38854344.pdf\n",
        "\n",
        "\n",
        "\n",
        "\n",
        "*   https://colab.research.google.com/drive/1f2KVSVsk5f4dpZlxNE0RBIHowqDs3KSp#scrollTo=dQ98qUOAt5JK\n",
        "\n",
        "\n",
        "\n",
        "*   https://github.com/pyg-team/pytorch_geometric/blob/master/examples/link_pred.py\n"
      ],
      "metadata": {
        "id": "ppooSPyDE9DO"
      }
    }
  ]
}