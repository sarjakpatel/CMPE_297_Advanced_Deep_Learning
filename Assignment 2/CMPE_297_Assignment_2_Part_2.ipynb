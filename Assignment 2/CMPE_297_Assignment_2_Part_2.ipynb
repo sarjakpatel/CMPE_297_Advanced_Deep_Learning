{
  "cells": [
    {
      "cell_type": "markdown",
      "metadata": {
        "id": "view-in-github",
        "colab_type": "text"
      },
      "source": [
        "<a href=\"https://colab.research.google.com/github/sarjakpatel/CMPE_297_Advanced_Deep_Learning/blob/main/Assignment%202/CMPE_297_Assignment_2_Part_2.ipynb\" target=\"_parent\"><img src=\"https://colab.research.google.com/assets/colab-badge.svg\" alt=\"Open In Colab\"/></a>"
      ]
    },
    {
      "cell_type": "markdown",
      "metadata": {
        "id": "ZjvXjwSbVvMl"
      },
      "source": [
        "# CMPE 297 Assignment 2 Part 2: \n",
        "\n"
      ]
    },
    {
      "cell_type": "markdown",
      "source": [
        "## Node classification with Graph Convolutional Network (GCN)"
      ],
      "metadata": {
        "id": "nlmDuaQ1X5Yf"
      }
    },
    {
      "cell_type": "code",
      "execution_count": 1,
      "metadata": {
        "nbsphinx": "hidden",
        "tags": [
          "CloudRunner"
        ],
        "id": "YcdTPpDEVvMw",
        "colab": {
          "base_uri": "https://localhost:8080/"
        },
        "outputId": "dc8801fe-8468-4cd0-8df0-6c01097bb3e7"
      },
      "outputs": [
        {
          "output_type": "stream",
          "name": "stdout",
          "text": [
            "\u001b[K     |████████████████████████████████| 435 kB 5.0 MB/s \n",
            "\u001b[K     |████████████████████████████████| 500 kB 31.4 MB/s \n",
            "\u001b[K     |████████████████████████████████| 120 kB 55.1 MB/s \n",
            "\u001b[K     |████████████████████████████████| 1.6 MB 52.1 MB/s \n",
            "\u001b[K     |████████████████████████████████| 82 kB 494 kB/s \n",
            "\u001b[K     |████████████████████████████████| 41 kB 347 kB/s \n",
            "\u001b[?25h  Building wheel for mplleaflet (setup.py) ... \u001b[?25l\u001b[?25hdone\n"
          ]
        }
      ],
      "source": [
        "# install StellarGraph if running on Google Colab\n",
        "import sys\n",
        "if 'google.colab' in sys.modules:\n",
        "  %pip install -q stellargraph[demos]==1.2.1"
      ]
    },
    {
      "cell_type": "code",
      "execution_count": 2,
      "metadata": {
        "nbsphinx": "hidden",
        "tags": [
          "VersionCheck"
        ],
        "id": "mPdqUX1HVvMx"
      },
      "outputs": [],
      "source": [
        "# verify that we're using the correct version of StellarGraph for this notebook\n",
        "import stellargraph as sg\n",
        "\n",
        "try:\n",
        "    sg.utils.validate_notebook_version(\"1.2.1\")\n",
        "except AttributeError:\n",
        "    raise ValueError(\n",
        "        f\"This notebook requires StellarGraph version 1.2.1, but a different version {sg.__version__} is installed.  Please see <https://github.com/stellargraph/stellargraph/issues/1172>.\"\n",
        "    ) from None"
      ]
    },
    {
      "cell_type": "code",
      "execution_count": 3,
      "metadata": {
        "id": "1fiE4lPJVvMz"
      },
      "outputs": [],
      "source": [
        "import pandas as pd\n",
        "import os\n",
        "\n",
        "import stellargraph as sg\n",
        "from stellargraph.mapper import FullBatchNodeGenerator\n",
        "from stellargraph.layer import GCN\n",
        "\n",
        "from tensorflow.keras import layers, optimizers, losses, metrics, Model\n",
        "from sklearn import preprocessing, model_selection\n",
        "from IPython.display import display, HTML\n",
        "import matplotlib.pyplot as plt\n",
        "%matplotlib inline"
      ]
    },
    {
      "cell_type": "markdown",
      "metadata": {
        "id": "ZT_Qb4xEVvM0"
      },
      "source": [
        "### Data Preprocessing"
      ]
    },
    {
      "cell_type": "markdown",
      "source": [
        "Loading the CORA network"
      ],
      "metadata": {
        "id": "5iiyKBF3Xlu7"
      }
    },
    {
      "cell_type": "code",
      "execution_count": 4,
      "metadata": {
        "tags": [
          "DataLoading"
        ],
        "id": "J_JCoe8GVvM4",
        "outputId": "5fdf3eef-3d67-451f-8acd-8d1f585109da",
        "colab": {
          "base_uri": "https://localhost:8080/",
          "height": 52
        }
      },
      "outputs": [
        {
          "output_type": "display_data",
          "data": {
            "text/plain": [
              "<IPython.core.display.HTML object>"
            ],
            "text/html": [
              "The Cora dataset consists of 2708 scientific publications classified into one of seven classes. The citation network consists of 5429 links. Each publication in the dataset is described by a 0/1-valued word vector indicating the absence/presence of the corresponding word from the dictionary. The dictionary consists of 1433 unique words."
            ]
          },
          "metadata": {}
        }
      ],
      "source": [
        "dataset = sg.datasets.Cora()\n",
        "display(HTML(dataset.description))\n",
        "G, node_subjects = dataset.load()"
      ]
    },
    {
      "cell_type": "markdown",
      "metadata": {
        "id": "ieq-uKuoVvM5"
      },
      "source": [
        "The `info` method can help us verify that our loaded graph matches the description:"
      ]
    },
    {
      "cell_type": "code",
      "execution_count": 5,
      "metadata": {
        "id": "jiIX05CIVvM5",
        "outputId": "f70e61df-17a6-496f-a9ce-9590769926a7",
        "colab": {
          "base_uri": "https://localhost:8080/"
        }
      },
      "outputs": [
        {
          "output_type": "stream",
          "name": "stdout",
          "text": [
            "StellarGraph: Undirected multigraph\n",
            " Nodes: 2708, Edges: 5429\n",
            "\n",
            " Node types:\n",
            "  paper: [2708]\n",
            "    Features: float32 vector, length 1433\n",
            "    Edge types: paper-cites->paper\n",
            "\n",
            " Edge types:\n",
            "    paper-cites->paper: [5429]\n",
            "        Weights: all 1 (default)\n",
            "        Features: none\n"
          ]
        }
      ],
      "source": [
        "print(G.info())"
      ]
    },
    {
      "cell_type": "markdown",
      "metadata": {
        "id": "ikXIqPK-VvM6"
      },
      "source": [
        "We aim to train a graph-ML model that will predict the \"subject\" attribute on the nodes. These subjects are one of 7 categories, with some categories more common than others:"
      ]
    },
    {
      "cell_type": "code",
      "execution_count": 6,
      "metadata": {
        "id": "bTK5FR6SVvM6",
        "outputId": "dd26f0b4-4203-4bab-a71b-4ad1e4589b9d",
        "colab": {
          "base_uri": "https://localhost:8080/",
          "height": 269
        }
      },
      "outputs": [
        {
          "output_type": "execute_result",
          "data": {
            "text/plain": [
              "                        subject\n",
              "Neural_Networks             818\n",
              "Probabilistic_Methods       426\n",
              "Genetic_Algorithms          418\n",
              "Theory                      351\n",
              "Case_Based                  298\n",
              "Reinforcement_Learning      217\n",
              "Rule_Learning               180"
            ],
            "text/html": [
              "\n",
              "  <div id=\"df-bd79920d-8458-4b33-a78d-23d1aaa72b70\">\n",
              "    <div class=\"colab-df-container\">\n",
              "      <div>\n",
              "<style scoped>\n",
              "    .dataframe tbody tr th:only-of-type {\n",
              "        vertical-align: middle;\n",
              "    }\n",
              "\n",
              "    .dataframe tbody tr th {\n",
              "        vertical-align: top;\n",
              "    }\n",
              "\n",
              "    .dataframe thead th {\n",
              "        text-align: right;\n",
              "    }\n",
              "</style>\n",
              "<table border=\"1\" class=\"dataframe\">\n",
              "  <thead>\n",
              "    <tr style=\"text-align: right;\">\n",
              "      <th></th>\n",
              "      <th>subject</th>\n",
              "    </tr>\n",
              "  </thead>\n",
              "  <tbody>\n",
              "    <tr>\n",
              "      <th>Neural_Networks</th>\n",
              "      <td>818</td>\n",
              "    </tr>\n",
              "    <tr>\n",
              "      <th>Probabilistic_Methods</th>\n",
              "      <td>426</td>\n",
              "    </tr>\n",
              "    <tr>\n",
              "      <th>Genetic_Algorithms</th>\n",
              "      <td>418</td>\n",
              "    </tr>\n",
              "    <tr>\n",
              "      <th>Theory</th>\n",
              "      <td>351</td>\n",
              "    </tr>\n",
              "    <tr>\n",
              "      <th>Case_Based</th>\n",
              "      <td>298</td>\n",
              "    </tr>\n",
              "    <tr>\n",
              "      <th>Reinforcement_Learning</th>\n",
              "      <td>217</td>\n",
              "    </tr>\n",
              "    <tr>\n",
              "      <th>Rule_Learning</th>\n",
              "      <td>180</td>\n",
              "    </tr>\n",
              "  </tbody>\n",
              "</table>\n",
              "</div>\n",
              "      <button class=\"colab-df-convert\" onclick=\"convertToInteractive('df-bd79920d-8458-4b33-a78d-23d1aaa72b70')\"\n",
              "              title=\"Convert this dataframe to an interactive table.\"\n",
              "              style=\"display:none;\">\n",
              "        \n",
              "  <svg xmlns=\"http://www.w3.org/2000/svg\" height=\"24px\"viewBox=\"0 0 24 24\"\n",
              "       width=\"24px\">\n",
              "    <path d=\"M0 0h24v24H0V0z\" fill=\"none\"/>\n",
              "    <path d=\"M18.56 5.44l.94 2.06.94-2.06 2.06-.94-2.06-.94-.94-2.06-.94 2.06-2.06.94zm-11 1L8.5 8.5l.94-2.06 2.06-.94-2.06-.94L8.5 2.5l-.94 2.06-2.06.94zm10 10l.94 2.06.94-2.06 2.06-.94-2.06-.94-.94-2.06-.94 2.06-2.06.94z\"/><path d=\"M17.41 7.96l-1.37-1.37c-.4-.4-.92-.59-1.43-.59-.52 0-1.04.2-1.43.59L10.3 9.45l-7.72 7.72c-.78.78-.78 2.05 0 2.83L4 21.41c.39.39.9.59 1.41.59.51 0 1.02-.2 1.41-.59l7.78-7.78 2.81-2.81c.8-.78.8-2.07 0-2.86zM5.41 20L4 18.59l7.72-7.72 1.47 1.35L5.41 20z\"/>\n",
              "  </svg>\n",
              "      </button>\n",
              "      \n",
              "  <style>\n",
              "    .colab-df-container {\n",
              "      display:flex;\n",
              "      flex-wrap:wrap;\n",
              "      gap: 12px;\n",
              "    }\n",
              "\n",
              "    .colab-df-convert {\n",
              "      background-color: #E8F0FE;\n",
              "      border: none;\n",
              "      border-radius: 50%;\n",
              "      cursor: pointer;\n",
              "      display: none;\n",
              "      fill: #1967D2;\n",
              "      height: 32px;\n",
              "      padding: 0 0 0 0;\n",
              "      width: 32px;\n",
              "    }\n",
              "\n",
              "    .colab-df-convert:hover {\n",
              "      background-color: #E2EBFA;\n",
              "      box-shadow: 0px 1px 2px rgba(60, 64, 67, 0.3), 0px 1px 3px 1px rgba(60, 64, 67, 0.15);\n",
              "      fill: #174EA6;\n",
              "    }\n",
              "\n",
              "    [theme=dark] .colab-df-convert {\n",
              "      background-color: #3B4455;\n",
              "      fill: #D2E3FC;\n",
              "    }\n",
              "\n",
              "    [theme=dark] .colab-df-convert:hover {\n",
              "      background-color: #434B5C;\n",
              "      box-shadow: 0px 1px 3px 1px rgba(0, 0, 0, 0.15);\n",
              "      filter: drop-shadow(0px 1px 2px rgba(0, 0, 0, 0.3));\n",
              "      fill: #FFFFFF;\n",
              "    }\n",
              "  </style>\n",
              "\n",
              "      <script>\n",
              "        const buttonEl =\n",
              "          document.querySelector('#df-bd79920d-8458-4b33-a78d-23d1aaa72b70 button.colab-df-convert');\n",
              "        buttonEl.style.display =\n",
              "          google.colab.kernel.accessAllowed ? 'block' : 'none';\n",
              "\n",
              "        async function convertToInteractive(key) {\n",
              "          const element = document.querySelector('#df-bd79920d-8458-4b33-a78d-23d1aaa72b70');\n",
              "          const dataTable =\n",
              "            await google.colab.kernel.invokeFunction('convertToInteractive',\n",
              "                                                     [key], {});\n",
              "          if (!dataTable) return;\n",
              "\n",
              "          const docLinkHtml = 'Like what you see? Visit the ' +\n",
              "            '<a target=\"_blank\" href=https://colab.research.google.com/notebooks/data_table.ipynb>data table notebook</a>'\n",
              "            + ' to learn more about interactive tables.';\n",
              "          element.innerHTML = '';\n",
              "          dataTable['output_type'] = 'display_data';\n",
              "          await google.colab.output.renderOutput(dataTable, element);\n",
              "          const docLink = document.createElement('div');\n",
              "          docLink.innerHTML = docLinkHtml;\n",
              "          element.appendChild(docLink);\n",
              "        }\n",
              "      </script>\n",
              "    </div>\n",
              "  </div>\n",
              "  "
            ]
          },
          "metadata": {},
          "execution_count": 6
        }
      ],
      "source": [
        "node_subjects.value_counts().to_frame()"
      ]
    },
    {
      "cell_type": "markdown",
      "metadata": {
        "id": "oMAS77_7VvM7"
      },
      "source": [
        "### Data Splitting"
      ]
    },
    {
      "cell_type": "markdown",
      "metadata": {
        "id": "smUNOLZGVvM7"
      },
      "source": [
        "For machine learning we want to take a subset of the nodes for training, and use the rest for validation and testing. We'll use scikit-learn's `train_test_split` function.\n",
        "\n",
        "Here we're taking 140 node labels for training, 500 for validation, and the rest for testing."
      ]
    },
    {
      "cell_type": "code",
      "execution_count": 7,
      "metadata": {
        "id": "NTd9-H5oVvM8"
      },
      "outputs": [],
      "source": [
        "train_subjects, test_subjects = model_selection.train_test_split(\n",
        "    node_subjects, train_size=140, test_size=None, stratify=node_subjects\n",
        ")\n",
        "val_subjects, test_subjects = model_selection.train_test_split(\n",
        "    test_subjects, train_size=500, test_size=None, stratify=test_subjects\n",
        ")"
      ]
    },
    {
      "cell_type": "markdown",
      "metadata": {
        "id": "L9hyvtsaVvM9"
      },
      "source": [
        "Note using stratified sampling gives the following counts:"
      ]
    },
    {
      "cell_type": "code",
      "execution_count": 8,
      "metadata": {
        "id": "r1RpZirnVvM9",
        "outputId": "62375d76-dd70-4a25-e7bb-5853f4fccde8",
        "colab": {
          "base_uri": "https://localhost:8080/",
          "height": 269
        }
      },
      "outputs": [
        {
          "output_type": "execute_result",
          "data": {
            "text/plain": [
              "                        subject\n",
              "Neural_Networks              42\n",
              "Probabilistic_Methods        22\n",
              "Genetic_Algorithms           22\n",
              "Theory                       18\n",
              "Case_Based                   16\n",
              "Reinforcement_Learning       11\n",
              "Rule_Learning                 9"
            ],
            "text/html": [
              "\n",
              "  <div id=\"df-3d2ff93f-9dfd-4abe-889a-6dd0e1b5aba8\">\n",
              "    <div class=\"colab-df-container\">\n",
              "      <div>\n",
              "<style scoped>\n",
              "    .dataframe tbody tr th:only-of-type {\n",
              "        vertical-align: middle;\n",
              "    }\n",
              "\n",
              "    .dataframe tbody tr th {\n",
              "        vertical-align: top;\n",
              "    }\n",
              "\n",
              "    .dataframe thead th {\n",
              "        text-align: right;\n",
              "    }\n",
              "</style>\n",
              "<table border=\"1\" class=\"dataframe\">\n",
              "  <thead>\n",
              "    <tr style=\"text-align: right;\">\n",
              "      <th></th>\n",
              "      <th>subject</th>\n",
              "    </tr>\n",
              "  </thead>\n",
              "  <tbody>\n",
              "    <tr>\n",
              "      <th>Neural_Networks</th>\n",
              "      <td>42</td>\n",
              "    </tr>\n",
              "    <tr>\n",
              "      <th>Probabilistic_Methods</th>\n",
              "      <td>22</td>\n",
              "    </tr>\n",
              "    <tr>\n",
              "      <th>Genetic_Algorithms</th>\n",
              "      <td>22</td>\n",
              "    </tr>\n",
              "    <tr>\n",
              "      <th>Theory</th>\n",
              "      <td>18</td>\n",
              "    </tr>\n",
              "    <tr>\n",
              "      <th>Case_Based</th>\n",
              "      <td>16</td>\n",
              "    </tr>\n",
              "    <tr>\n",
              "      <th>Reinforcement_Learning</th>\n",
              "      <td>11</td>\n",
              "    </tr>\n",
              "    <tr>\n",
              "      <th>Rule_Learning</th>\n",
              "      <td>9</td>\n",
              "    </tr>\n",
              "  </tbody>\n",
              "</table>\n",
              "</div>\n",
              "      <button class=\"colab-df-convert\" onclick=\"convertToInteractive('df-3d2ff93f-9dfd-4abe-889a-6dd0e1b5aba8')\"\n",
              "              title=\"Convert this dataframe to an interactive table.\"\n",
              "              style=\"display:none;\">\n",
              "        \n",
              "  <svg xmlns=\"http://www.w3.org/2000/svg\" height=\"24px\"viewBox=\"0 0 24 24\"\n",
              "       width=\"24px\">\n",
              "    <path d=\"M0 0h24v24H0V0z\" fill=\"none\"/>\n",
              "    <path d=\"M18.56 5.44l.94 2.06.94-2.06 2.06-.94-2.06-.94-.94-2.06-.94 2.06-2.06.94zm-11 1L8.5 8.5l.94-2.06 2.06-.94-2.06-.94L8.5 2.5l-.94 2.06-2.06.94zm10 10l.94 2.06.94-2.06 2.06-.94-2.06-.94-.94-2.06-.94 2.06-2.06.94z\"/><path d=\"M17.41 7.96l-1.37-1.37c-.4-.4-.92-.59-1.43-.59-.52 0-1.04.2-1.43.59L10.3 9.45l-7.72 7.72c-.78.78-.78 2.05 0 2.83L4 21.41c.39.39.9.59 1.41.59.51 0 1.02-.2 1.41-.59l7.78-7.78 2.81-2.81c.8-.78.8-2.07 0-2.86zM5.41 20L4 18.59l7.72-7.72 1.47 1.35L5.41 20z\"/>\n",
              "  </svg>\n",
              "      </button>\n",
              "      \n",
              "  <style>\n",
              "    .colab-df-container {\n",
              "      display:flex;\n",
              "      flex-wrap:wrap;\n",
              "      gap: 12px;\n",
              "    }\n",
              "\n",
              "    .colab-df-convert {\n",
              "      background-color: #E8F0FE;\n",
              "      border: none;\n",
              "      border-radius: 50%;\n",
              "      cursor: pointer;\n",
              "      display: none;\n",
              "      fill: #1967D2;\n",
              "      height: 32px;\n",
              "      padding: 0 0 0 0;\n",
              "      width: 32px;\n",
              "    }\n",
              "\n",
              "    .colab-df-convert:hover {\n",
              "      background-color: #E2EBFA;\n",
              "      box-shadow: 0px 1px 2px rgba(60, 64, 67, 0.3), 0px 1px 3px 1px rgba(60, 64, 67, 0.15);\n",
              "      fill: #174EA6;\n",
              "    }\n",
              "\n",
              "    [theme=dark] .colab-df-convert {\n",
              "      background-color: #3B4455;\n",
              "      fill: #D2E3FC;\n",
              "    }\n",
              "\n",
              "    [theme=dark] .colab-df-convert:hover {\n",
              "      background-color: #434B5C;\n",
              "      box-shadow: 0px 1px 3px 1px rgba(0, 0, 0, 0.15);\n",
              "      filter: drop-shadow(0px 1px 2px rgba(0, 0, 0, 0.3));\n",
              "      fill: #FFFFFF;\n",
              "    }\n",
              "  </style>\n",
              "\n",
              "      <script>\n",
              "        const buttonEl =\n",
              "          document.querySelector('#df-3d2ff93f-9dfd-4abe-889a-6dd0e1b5aba8 button.colab-df-convert');\n",
              "        buttonEl.style.display =\n",
              "          google.colab.kernel.accessAllowed ? 'block' : 'none';\n",
              "\n",
              "        async function convertToInteractive(key) {\n",
              "          const element = document.querySelector('#df-3d2ff93f-9dfd-4abe-889a-6dd0e1b5aba8');\n",
              "          const dataTable =\n",
              "            await google.colab.kernel.invokeFunction('convertToInteractive',\n",
              "                                                     [key], {});\n",
              "          if (!dataTable) return;\n",
              "\n",
              "          const docLinkHtml = 'Like what you see? Visit the ' +\n",
              "            '<a target=\"_blank\" href=https://colab.research.google.com/notebooks/data_table.ipynb>data table notebook</a>'\n",
              "            + ' to learn more about interactive tables.';\n",
              "          element.innerHTML = '';\n",
              "          dataTable['output_type'] = 'display_data';\n",
              "          await google.colab.output.renderOutput(dataTable, element);\n",
              "          const docLink = document.createElement('div');\n",
              "          docLink.innerHTML = docLinkHtml;\n",
              "          element.appendChild(docLink);\n",
              "        }\n",
              "      </script>\n",
              "    </div>\n",
              "  </div>\n",
              "  "
            ]
          },
          "metadata": {},
          "execution_count": 8
        }
      ],
      "source": [
        "train_subjects.value_counts().to_frame()"
      ]
    },
    {
      "cell_type": "markdown",
      "metadata": {
        "id": "Iyo0LskIVvM9"
      },
      "source": [
        "The training set has class imbalance that might need to be compensated, e.g., via using a weighted cross-entropy loss in model training, with class weights inversely proportional to class support. However, we will ignore the class imbalance in this example, for simplicity."
      ]
    },
    {
      "cell_type": "markdown",
      "metadata": {
        "id": "M38VVbZYVvM-"
      },
      "source": [
        "### Data Conversion"
      ]
    },
    {
      "cell_type": "markdown",
      "metadata": {
        "id": "v2p1fJJ-VvM-"
      },
      "source": [
        "For our categorical target, we will use one-hot vectors that will be compared against the model's soft-max output. To do this conversion we can use the `LabelBinarizer` transform. Another option would be the `pandas.get_dummies` function, but the scikit-learn transform allows us to do the inverse transform easily later in the notebook, to interpret the predictions."
      ]
    },
    {
      "cell_type": "code",
      "execution_count": 9,
      "metadata": {
        "id": "zI41FssyVvM-"
      },
      "outputs": [],
      "source": [
        "target_encoding = preprocessing.LabelBinarizer()\n",
        "\n",
        "train_targets = target_encoding.fit_transform(train_subjects)\n",
        "val_targets = target_encoding.transform(val_subjects)\n",
        "test_targets = target_encoding.transform(test_subjects)"
      ]
    },
    {
      "cell_type": "markdown",
      "metadata": {
        "id": "vBHnbT5sVvM_"
      },
      "source": [
        "The CORA dataset contains attributes `w_x` that correspond to words found in that publication. If a word occurs more than once in a publication the relevant attribute will be set to one, otherwise it will be zero. These numeric attributes have been automatically included in the `StellarGraph` instance `G`, and so we do not have to do any further conversion."
      ]
    },
    {
      "cell_type": "code",
      "execution_count": 10,
      "metadata": {
        "id": "wqT9PhS2VvNA",
        "outputId": "d0acf8bf-bc4a-4793-8899-2ee5bdf2f927",
        "colab": {
          "base_uri": "https://localhost:8080/"
        }
      },
      "outputs": [
        {
          "output_type": "stream",
          "name": "stdout",
          "text": [
            "Using GCN (local pooling) filters...\n"
          ]
        }
      ],
      "source": [
        "generator = FullBatchNodeGenerator(G, method=\"gcn\")"
      ]
    },
    {
      "cell_type": "code",
      "execution_count": 11,
      "metadata": {
        "id": "4buUIz69VvNA"
      },
      "outputs": [],
      "source": [
        "train_gen = generator.flow(train_subjects.index, train_targets)"
      ]
    },
    {
      "cell_type": "code",
      "execution_count": 12,
      "metadata": {
        "id": "uS1lpDTUVvNB"
      },
      "outputs": [],
      "source": [
        "gcn = GCN(\n",
        "    layer_sizes=[16, 16], activations=[\"relu\", \"relu\"], generator=generator, dropout=0.5\n",
        ")"
      ]
    },
    {
      "cell_type": "markdown",
      "metadata": {
        "id": "H6RjAqZMVvNB"
      },
      "source": [
        "To create a Keras model we now expose the input and output tensors of the GCN model for node prediction, via the `GCN.in_out_tensors` method:"
      ]
    },
    {
      "cell_type": "code",
      "execution_count": 13,
      "metadata": {
        "id": "EI2aukKJVvNC",
        "outputId": "d90170be-2001-4d3f-fbc6-c14a1239e14a",
        "colab": {
          "base_uri": "https://localhost:8080/"
        }
      },
      "outputs": [
        {
          "output_type": "execute_result",
          "data": {
            "text/plain": [
              "<KerasTensor: shape=(1, None, 16) dtype=float32 (created by layer 'gather_indices')>"
            ]
          },
          "metadata": {},
          "execution_count": 13
        }
      ],
      "source": [
        "x_inp, x_out = gcn.in_out_tensors()\n",
        "\n",
        "x_out"
      ]
    },
    {
      "cell_type": "code",
      "execution_count": 14,
      "metadata": {
        "id": "umKcMNXzVvND"
      },
      "outputs": [],
      "source": [
        "predictions = layers.Dense(units=train_targets.shape[1], activation=\"softmax\")(x_out)"
      ]
    },
    {
      "cell_type": "markdown",
      "metadata": {
        "id": "bL3wbx1sVvND"
      },
      "source": [
        "### Model training and evaluation\n",
        "\n",
        "Training the model"
      ]
    },
    {
      "cell_type": "markdown",
      "metadata": {
        "id": "8M_UC8yhVvNF"
      },
      "source": [
        "Now let's create the actual Keras model with the input tensors `x_inp` and output tensors being the predictions `predictions` from the final dense layer. Our task is a categorical prediction task, so a categorical cross-entropy loss function is appropriate. Even though we're doing graph ML with StellarGraph, we're still working with conventional Keras prediction values, so we can use the loss function from Keras directly."
      ]
    },
    {
      "cell_type": "code",
      "execution_count": 15,
      "metadata": {
        "id": "iXGr1XPmVvNF",
        "colab": {
          "base_uri": "https://localhost:8080/"
        },
        "outputId": "35a71ef9-67a3-46f0-d75f-71ce15365678"
      },
      "outputs": [
        {
          "output_type": "stream",
          "name": "stderr",
          "text": [
            "/usr/local/lib/python3.7/dist-packages/keras/optimizers/optimizer_v2/adam.py:110: UserWarning: The `lr` argument is deprecated, use `learning_rate` instead.\n",
            "  super(Adam, self).__init__(name, **kwargs)\n"
          ]
        }
      ],
      "source": [
        "model = Model(inputs=x_inp, outputs=predictions)\n",
        "model.compile(\n",
        "    optimizer=optimizers.Adam(lr=0.01),\n",
        "    loss=losses.categorical_crossentropy,\n",
        "    metrics=[\"acc\"],\n",
        ")"
      ]
    },
    {
      "cell_type": "markdown",
      "metadata": {
        "id": "fEAcWzL8VvNF"
      },
      "source": [
        "As we're training the model, we'll want to also keep track of its generalisation performance on the validation set, which means creating another data generator, using our `FullBatchNodeGenerator` we created above."
      ]
    },
    {
      "cell_type": "code",
      "execution_count": 16,
      "metadata": {
        "id": "429D8-_zVvNF"
      },
      "outputs": [],
      "source": [
        "val_gen = generator.flow(val_subjects.index, val_targets)"
      ]
    },
    {
      "cell_type": "markdown",
      "metadata": {
        "id": "Lo56-rVfVvNG"
      },
      "source": [
        "We can directly use the `EarlyStopping` functionality to stop training if the validation accuracy stops improving."
      ]
    },
    {
      "cell_type": "code",
      "execution_count": 17,
      "metadata": {
        "id": "NrwKBK4IVvNH"
      },
      "outputs": [],
      "source": [
        "from tensorflow.keras.callbacks import EarlyStopping\n",
        "\n",
        "es_callback = EarlyStopping(monitor=\"val_acc\", patience=50, restore_best_weights=True)"
      ]
    },
    {
      "cell_type": "code",
      "execution_count": 18,
      "metadata": {
        "id": "XsCnAKKGVvNH",
        "outputId": "4010e1e6-ecab-420c-b369-81af0c3641f9",
        "colab": {
          "base_uri": "https://localhost:8080/"
        }
      },
      "outputs": [
        {
          "output_type": "stream",
          "name": "stdout",
          "text": [
            "Epoch 1/200\n",
            "1/1 - 5s - loss: 1.9277 - acc: 0.1643 - val_loss: 1.8696 - val_acc: 0.3140 - 5s/epoch - 5s/step\n",
            "Epoch 2/200\n",
            "1/1 - 0s - loss: 1.8472 - acc: 0.2857 - val_loss: 1.7984 - val_acc: 0.3420 - 113ms/epoch - 113ms/step\n",
            "Epoch 3/200\n",
            "1/1 - 0s - loss: 1.7713 - acc: 0.3429 - val_loss: 1.7281 - val_acc: 0.3820 - 108ms/epoch - 108ms/step\n",
            "Epoch 4/200\n",
            "1/1 - 0s - loss: 1.6702 - acc: 0.3714 - val_loss: 1.6568 - val_acc: 0.4000 - 102ms/epoch - 102ms/step\n",
            "Epoch 5/200\n",
            "1/1 - 0s - loss: 1.5791 - acc: 0.4357 - val_loss: 1.5855 - val_acc: 0.3880 - 110ms/epoch - 110ms/step\n",
            "Epoch 6/200\n",
            "1/1 - 0s - loss: 1.4992 - acc: 0.4357 - val_loss: 1.5196 - val_acc: 0.3900 - 162ms/epoch - 162ms/step\n",
            "Epoch 7/200\n",
            "1/1 - 0s - loss: 1.4369 - acc: 0.4143 - val_loss: 1.4578 - val_acc: 0.3840 - 141ms/epoch - 141ms/step\n",
            "Epoch 8/200\n",
            "1/1 - 0s - loss: 1.3567 - acc: 0.4500 - val_loss: 1.3974 - val_acc: 0.3980 - 150ms/epoch - 150ms/step\n",
            "Epoch 9/200\n",
            "1/1 - 0s - loss: 1.2731 - acc: 0.4643 - val_loss: 1.3368 - val_acc: 0.4480 - 97ms/epoch - 97ms/step\n",
            "Epoch 10/200\n",
            "1/1 - 0s - loss: 1.2209 - acc: 0.4929 - val_loss: 1.2771 - val_acc: 0.5540 - 125ms/epoch - 125ms/step\n",
            "Epoch 11/200\n",
            "1/1 - 0s - loss: 1.1389 - acc: 0.5857 - val_loss: 1.2188 - val_acc: 0.6300 - 94ms/epoch - 94ms/step\n",
            "Epoch 12/200\n",
            "1/1 - 0s - loss: 1.0917 - acc: 0.6500 - val_loss: 1.1606 - val_acc: 0.6620 - 113ms/epoch - 113ms/step\n",
            "Epoch 13/200\n",
            "1/1 - 0s - loss: 1.0224 - acc: 0.6714 - val_loss: 1.1011 - val_acc: 0.6820 - 106ms/epoch - 106ms/step\n",
            "Epoch 14/200\n",
            "1/1 - 0s - loss: 0.9153 - acc: 0.7500 - val_loss: 1.0443 - val_acc: 0.6840 - 107ms/epoch - 107ms/step\n",
            "Epoch 15/200\n",
            "1/1 - 0s - loss: 0.8546 - acc: 0.7571 - val_loss: 0.9912 - val_acc: 0.6940 - 85ms/epoch - 85ms/step\n",
            "Epoch 16/200\n",
            "1/1 - 0s - loss: 0.7751 - acc: 0.7500 - val_loss: 0.9430 - val_acc: 0.6980 - 95ms/epoch - 95ms/step\n",
            "Epoch 17/200\n",
            "1/1 - 0s - loss: 0.7211 - acc: 0.7500 - val_loss: 0.8978 - val_acc: 0.7020 - 99ms/epoch - 99ms/step\n",
            "Epoch 18/200\n",
            "1/1 - 0s - loss: 0.6586 - acc: 0.7929 - val_loss: 0.8566 - val_acc: 0.7160 - 115ms/epoch - 115ms/step\n",
            "Epoch 19/200\n",
            "1/1 - 0s - loss: 0.5926 - acc: 0.8071 - val_loss: 0.8211 - val_acc: 0.7220 - 116ms/epoch - 116ms/step\n",
            "Epoch 20/200\n",
            "1/1 - 0s - loss: 0.5550 - acc: 0.8071 - val_loss: 0.7879 - val_acc: 0.7360 - 89ms/epoch - 89ms/step\n",
            "Epoch 21/200\n",
            "1/1 - 0s - loss: 0.5564 - acc: 0.8071 - val_loss: 0.7561 - val_acc: 0.7660 - 100ms/epoch - 100ms/step\n",
            "Epoch 22/200\n",
            "1/1 - 0s - loss: 0.4793 - acc: 0.8714 - val_loss: 0.7280 - val_acc: 0.7760 - 86ms/epoch - 86ms/step\n",
            "Epoch 23/200\n",
            "1/1 - 0s - loss: 0.4840 - acc: 0.8500 - val_loss: 0.6978 - val_acc: 0.7920 - 113ms/epoch - 113ms/step\n",
            "Epoch 24/200\n",
            "1/1 - 0s - loss: 0.4123 - acc: 0.9143 - val_loss: 0.6736 - val_acc: 0.7900 - 112ms/epoch - 112ms/step\n",
            "Epoch 25/200\n",
            "1/1 - 0s - loss: 0.3900 - acc: 0.9143 - val_loss: 0.6544 - val_acc: 0.8020 - 147ms/epoch - 147ms/step\n",
            "Epoch 26/200\n",
            "1/1 - 0s - loss: 0.2915 - acc: 0.9429 - val_loss: 0.6424 - val_acc: 0.7960 - 92ms/epoch - 92ms/step\n",
            "Epoch 27/200\n",
            "1/1 - 0s - loss: 0.3554 - acc: 0.9071 - val_loss: 0.6332 - val_acc: 0.8060 - 111ms/epoch - 111ms/step\n",
            "Epoch 28/200\n",
            "1/1 - 0s - loss: 0.3146 - acc: 0.9071 - val_loss: 0.6285 - val_acc: 0.8120 - 141ms/epoch - 141ms/step\n",
            "Epoch 29/200\n",
            "1/1 - 0s - loss: 0.2776 - acc: 0.9000 - val_loss: 0.6250 - val_acc: 0.8100 - 107ms/epoch - 107ms/step\n",
            "Epoch 30/200\n",
            "1/1 - 0s - loss: 0.1937 - acc: 0.9429 - val_loss: 0.6197 - val_acc: 0.8060 - 201ms/epoch - 201ms/step\n",
            "Epoch 31/200\n",
            "1/1 - 0s - loss: 0.2249 - acc: 0.9500 - val_loss: 0.6157 - val_acc: 0.8100 - 99ms/epoch - 99ms/step\n",
            "Epoch 32/200\n",
            "1/1 - 0s - loss: 0.1637 - acc: 0.9571 - val_loss: 0.6157 - val_acc: 0.8080 - 182ms/epoch - 182ms/step\n",
            "Epoch 33/200\n",
            "1/1 - 0s - loss: 0.1763 - acc: 0.9714 - val_loss: 0.6232 - val_acc: 0.8100 - 218ms/epoch - 218ms/step\n",
            "Epoch 34/200\n",
            "1/1 - 0s - loss: 0.1916 - acc: 0.9571 - val_loss: 0.6319 - val_acc: 0.8120 - 167ms/epoch - 167ms/step\n",
            "Epoch 35/200\n",
            "1/1 - 0s - loss: 0.1397 - acc: 0.9714 - val_loss: 0.6404 - val_acc: 0.8060 - 178ms/epoch - 178ms/step\n",
            "Epoch 36/200\n",
            "1/1 - 0s - loss: 0.1549 - acc: 0.9714 - val_loss: 0.6462 - val_acc: 0.8100 - 119ms/epoch - 119ms/step\n",
            "Epoch 37/200\n",
            "1/1 - 0s - loss: 0.1885 - acc: 0.9286 - val_loss: 0.6459 - val_acc: 0.8120 - 193ms/epoch - 193ms/step\n",
            "Epoch 38/200\n",
            "1/1 - 0s - loss: 0.1617 - acc: 0.9786 - val_loss: 0.6522 - val_acc: 0.8140 - 96ms/epoch - 96ms/step\n",
            "Epoch 39/200\n",
            "1/1 - 0s - loss: 0.1353 - acc: 0.9500 - val_loss: 0.6589 - val_acc: 0.8120 - 128ms/epoch - 128ms/step\n",
            "Epoch 40/200\n",
            "1/1 - 0s - loss: 0.0939 - acc: 0.9857 - val_loss: 0.6684 - val_acc: 0.8100 - 155ms/epoch - 155ms/step\n",
            "Epoch 41/200\n",
            "1/1 - 0s - loss: 0.1128 - acc: 0.9571 - val_loss: 0.6795 - val_acc: 0.8180 - 135ms/epoch - 135ms/step\n",
            "Epoch 42/200\n",
            "1/1 - 0s - loss: 0.1370 - acc: 0.9643 - val_loss: 0.6825 - val_acc: 0.8120 - 107ms/epoch - 107ms/step\n",
            "Epoch 43/200\n",
            "1/1 - 0s - loss: 0.1054 - acc: 0.9786 - val_loss: 0.6862 - val_acc: 0.8100 - 100ms/epoch - 100ms/step\n",
            "Epoch 44/200\n",
            "1/1 - 0s - loss: 0.1205 - acc: 0.9500 - val_loss: 0.6913 - val_acc: 0.8040 - 111ms/epoch - 111ms/step\n",
            "Epoch 45/200\n",
            "1/1 - 0s - loss: 0.0923 - acc: 0.9786 - val_loss: 0.6954 - val_acc: 0.8040 - 154ms/epoch - 154ms/step\n",
            "Epoch 46/200\n",
            "1/1 - 0s - loss: 0.1326 - acc: 0.9500 - val_loss: 0.7009 - val_acc: 0.8120 - 187ms/epoch - 187ms/step\n",
            "Epoch 47/200\n",
            "1/1 - 0s - loss: 0.0632 - acc: 0.9857 - val_loss: 0.7062 - val_acc: 0.8140 - 87ms/epoch - 87ms/step\n",
            "Epoch 48/200\n",
            "1/1 - 0s - loss: 0.0770 - acc: 0.9857 - val_loss: 0.7111 - val_acc: 0.8140 - 102ms/epoch - 102ms/step\n",
            "Epoch 49/200\n",
            "1/1 - 0s - loss: 0.0947 - acc: 0.9786 - val_loss: 0.7173 - val_acc: 0.8140 - 130ms/epoch - 130ms/step\n",
            "Epoch 50/200\n",
            "1/1 - 0s - loss: 0.0489 - acc: 0.9929 - val_loss: 0.7263 - val_acc: 0.8100 - 131ms/epoch - 131ms/step\n",
            "Epoch 51/200\n",
            "1/1 - 0s - loss: 0.0888 - acc: 0.9714 - val_loss: 0.7358 - val_acc: 0.8080 - 155ms/epoch - 155ms/step\n",
            "Epoch 52/200\n",
            "1/1 - 0s - loss: 0.0708 - acc: 0.9714 - val_loss: 0.7437 - val_acc: 0.8040 - 162ms/epoch - 162ms/step\n",
            "Epoch 53/200\n",
            "1/1 - 0s - loss: 0.0425 - acc: 0.9929 - val_loss: 0.7544 - val_acc: 0.8060 - 101ms/epoch - 101ms/step\n",
            "Epoch 54/200\n",
            "1/1 - 0s - loss: 0.0630 - acc: 0.9857 - val_loss: 0.7647 - val_acc: 0.8060 - 90ms/epoch - 90ms/step\n",
            "Epoch 55/200\n",
            "1/1 - 0s - loss: 0.0522 - acc: 0.9929 - val_loss: 0.7728 - val_acc: 0.8060 - 86ms/epoch - 86ms/step\n",
            "Epoch 56/200\n",
            "1/1 - 0s - loss: 0.0692 - acc: 0.9786 - val_loss: 0.7724 - val_acc: 0.8100 - 141ms/epoch - 141ms/step\n",
            "Epoch 57/200\n",
            "1/1 - 0s - loss: 0.0344 - acc: 1.0000 - val_loss: 0.7722 - val_acc: 0.8100 - 102ms/epoch - 102ms/step\n",
            "Epoch 58/200\n",
            "1/1 - 0s - loss: 0.0637 - acc: 0.9786 - val_loss: 0.7740 - val_acc: 0.8140 - 212ms/epoch - 212ms/step\n",
            "Epoch 59/200\n",
            "1/1 - 0s - loss: 0.0542 - acc: 0.9857 - val_loss: 0.7788 - val_acc: 0.8140 - 61ms/epoch - 61ms/step\n",
            "Epoch 60/200\n",
            "1/1 - 0s - loss: 0.0735 - acc: 0.9643 - val_loss: 0.7844 - val_acc: 0.8140 - 55ms/epoch - 55ms/step\n",
            "Epoch 61/200\n",
            "1/1 - 0s - loss: 0.0322 - acc: 0.9929 - val_loss: 0.7899 - val_acc: 0.8180 - 58ms/epoch - 58ms/step\n",
            "Epoch 62/200\n",
            "1/1 - 0s - loss: 0.0663 - acc: 0.9857 - val_loss: 0.7973 - val_acc: 0.8160 - 63ms/epoch - 63ms/step\n",
            "Epoch 63/200\n",
            "1/1 - 0s - loss: 0.0506 - acc: 0.9857 - val_loss: 0.8096 - val_acc: 0.7940 - 61ms/epoch - 61ms/step\n",
            "Epoch 64/200\n",
            "1/1 - 0s - loss: 0.0348 - acc: 0.9857 - val_loss: 0.8293 - val_acc: 0.7940 - 56ms/epoch - 56ms/step\n",
            "Epoch 65/200\n",
            "1/1 - 0s - loss: 0.0452 - acc: 0.9929 - val_loss: 0.8507 - val_acc: 0.7960 - 68ms/epoch - 68ms/step\n",
            "Epoch 66/200\n",
            "1/1 - 0s - loss: 0.0569 - acc: 0.9786 - val_loss: 0.8507 - val_acc: 0.7900 - 55ms/epoch - 55ms/step\n",
            "Epoch 67/200\n",
            "1/1 - 0s - loss: 0.0894 - acc: 0.9571 - val_loss: 0.8443 - val_acc: 0.8000 - 59ms/epoch - 59ms/step\n",
            "Epoch 68/200\n",
            "1/1 - 0s - loss: 0.0340 - acc: 0.9929 - val_loss: 0.8415 - val_acc: 0.8000 - 60ms/epoch - 60ms/step\n",
            "Epoch 69/200\n",
            "1/1 - 0s - loss: 0.0356 - acc: 0.9786 - val_loss: 0.8461 - val_acc: 0.8040 - 59ms/epoch - 59ms/step\n",
            "Epoch 70/200\n",
            "1/1 - 0s - loss: 0.0522 - acc: 0.9857 - val_loss: 0.8575 - val_acc: 0.8040 - 58ms/epoch - 58ms/step\n",
            "Epoch 71/200\n",
            "1/1 - 0s - loss: 0.0695 - acc: 0.9786 - val_loss: 0.8706 - val_acc: 0.8040 - 59ms/epoch - 59ms/step\n",
            "Epoch 72/200\n",
            "1/1 - 0s - loss: 0.0298 - acc: 1.0000 - val_loss: 0.8859 - val_acc: 0.8040 - 54ms/epoch - 54ms/step\n",
            "Epoch 73/200\n",
            "1/1 - 0s - loss: 0.0479 - acc: 0.9857 - val_loss: 0.8968 - val_acc: 0.8040 - 60ms/epoch - 60ms/step\n",
            "Epoch 74/200\n",
            "1/1 - 0s - loss: 0.0334 - acc: 1.0000 - val_loss: 0.9072 - val_acc: 0.8020 - 58ms/epoch - 58ms/step\n",
            "Epoch 75/200\n",
            "1/1 - 0s - loss: 0.0414 - acc: 0.9857 - val_loss: 0.9155 - val_acc: 0.7960 - 65ms/epoch - 65ms/step\n",
            "Epoch 76/200\n",
            "1/1 - 0s - loss: 0.0524 - acc: 0.9929 - val_loss: 0.9199 - val_acc: 0.7920 - 58ms/epoch - 58ms/step\n",
            "Epoch 77/200\n",
            "1/1 - 0s - loss: 0.0387 - acc: 0.9929 - val_loss: 0.9216 - val_acc: 0.7900 - 57ms/epoch - 57ms/step\n",
            "Epoch 78/200\n",
            "1/1 - 0s - loss: 0.0494 - acc: 0.9857 - val_loss: 0.9217 - val_acc: 0.7920 - 64ms/epoch - 64ms/step\n",
            "Epoch 79/200\n",
            "1/1 - 0s - loss: 0.0216 - acc: 0.9929 - val_loss: 0.9254 - val_acc: 0.7880 - 56ms/epoch - 56ms/step\n",
            "Epoch 80/200\n",
            "1/1 - 0s - loss: 0.0551 - acc: 0.9857 - val_loss: 0.9313 - val_acc: 0.7880 - 58ms/epoch - 58ms/step\n",
            "Epoch 81/200\n",
            "1/1 - 0s - loss: 0.0294 - acc: 0.9929 - val_loss: 0.9330 - val_acc: 0.7880 - 61ms/epoch - 61ms/step\n",
            "Epoch 82/200\n",
            "1/1 - 0s - loss: 0.0482 - acc: 0.9786 - val_loss: 0.9259 - val_acc: 0.7900 - 61ms/epoch - 61ms/step\n",
            "Epoch 83/200\n",
            "1/1 - 0s - loss: 0.0324 - acc: 0.9929 - val_loss: 0.9185 - val_acc: 0.7920 - 55ms/epoch - 55ms/step\n",
            "Epoch 84/200\n",
            "1/1 - 0s - loss: 0.0353 - acc: 0.9929 - val_loss: 0.9122 - val_acc: 0.7980 - 61ms/epoch - 61ms/step\n",
            "Epoch 85/200\n",
            "1/1 - 0s - loss: 0.0355 - acc: 0.9929 - val_loss: 0.9065 - val_acc: 0.7980 - 58ms/epoch - 58ms/step\n",
            "Epoch 86/200\n",
            "1/1 - 0s - loss: 0.0348 - acc: 0.9857 - val_loss: 0.9027 - val_acc: 0.7960 - 58ms/epoch - 58ms/step\n",
            "Epoch 87/200\n",
            "1/1 - 0s - loss: 0.0295 - acc: 1.0000 - val_loss: 0.9021 - val_acc: 0.7980 - 56ms/epoch - 56ms/step\n",
            "Epoch 88/200\n",
            "1/1 - 0s - loss: 0.0677 - acc: 0.9643 - val_loss: 0.9013 - val_acc: 0.7960 - 60ms/epoch - 60ms/step\n",
            "Epoch 89/200\n",
            "1/1 - 0s - loss: 0.0419 - acc: 0.9857 - val_loss: 0.9049 - val_acc: 0.7940 - 58ms/epoch - 58ms/step\n",
            "Epoch 90/200\n",
            "1/1 - 0s - loss: 0.0627 - acc: 0.9786 - val_loss: 0.9082 - val_acc: 0.8000 - 60ms/epoch - 60ms/step\n",
            "Epoch 91/200\n",
            "1/1 - 0s - loss: 0.0390 - acc: 0.9929 - val_loss: 0.9137 - val_acc: 0.7980 - 59ms/epoch - 59ms/step\n"
          ]
        }
      ],
      "source": [
        "history = model.fit(\n",
        "    train_gen,\n",
        "    epochs=200,\n",
        "    validation_data=val_gen,\n",
        "    verbose=2,\n",
        "    shuffle=False,  # this should be False, since shuffling data means shuffling the whole graph\n",
        "    callbacks=[es_callback],\n",
        ")"
      ]
    },
    {
      "cell_type": "markdown",
      "metadata": {
        "id": "hIW3fCaDVvNH"
      },
      "source": [
        "### Output - Visualization\n",
        "To view the behaviour loss function and any other metrics. In this case, we can see the loss and accuracy on both the training and validation sets."
      ]
    },
    {
      "cell_type": "code",
      "execution_count": 19,
      "metadata": {
        "id": "tToqY9IgVvNH",
        "outputId": "3f7b957f-6abe-4a24-bce4-445a8155e0b5",
        "colab": {
          "base_uri": "https://localhost:8080/",
          "height": 585
        }
      },
      "outputs": [
        {
          "output_type": "display_data",
          "data": {
            "text/plain": [
              "<Figure size 504x576 with 2 Axes>"
            ],
            "image/png": "[encoded data removed]"
          },
          "metadata": {
            "needs_background": "light"
          }
        }
      ],
      "source": [
        "sg.utils.plot_history(history)"
      ]
    },
    {
      "cell_type": "markdown",
      "metadata": {
        "id": "Z8bB5b3KVvNJ"
      },
      "source": [
        "As the final part of our evaluation, let's check the model against the test set. We again create the data required for this using the `flow` method on our `FullBatchNodeGenerator` from above, and can use the model's `evaluate` method to compute the metric values for the trained model.\n",
        "\n",
        "As expected, the model performs similarly on the validation set during training and on the test set here."
      ]
    },
    {
      "cell_type": "code",
      "execution_count": 20,
      "metadata": {
        "id": "029NXdnkVvNJ"
      },
      "outputs": [],
      "source": [
        "test_gen = generator.flow(test_subjects.index, test_targets)"
      ]
    },
    {
      "cell_type": "code",
      "execution_count": 21,
      "metadata": {
        "id": "cfyBhDdAVvNJ",
        "outputId": "f8d55831-51d6-4b50-f285-76613a60a49e",
        "colab": {
          "base_uri": "https://localhost:8080/"
        }
      },
      "outputs": [
        {
          "output_type": "stream",
          "name": "stdout",
          "text": [
            "1/1 [==============================] - 0s 41ms/step - loss: 0.7127 - acc: 0.8037\n",
            "\n",
            "Test Set Metrics:\n",
            "\tloss: 0.7127\n",
            "\tacc: 0.8037\n"
          ]
        }
      ],
      "source": [
        "test_metrics = model.evaluate(test_gen)\n",
        "print(\"\\nTest Set Metrics:\")\n",
        "for name, val in zip(model.metrics_names, test_metrics):\n",
        "    print(\"\\t{}: {:0.4f}\".format(name, val))"
      ]
    },
    {
      "cell_type": "markdown",
      "metadata": {
        "id": "UF9EHEH3VvNK"
      },
      "source": [
        "### Predictions with the model"
      ]
    },
    {
      "cell_type": "code",
      "execution_count": 22,
      "metadata": {
        "id": "iMpqNM2vVvNL",
        "colab": {
          "base_uri": "https://localhost:8080/"
        },
        "outputId": "99bd8a7c-a6f8-4f8c-b06a-e57ea41e57f7"
      },
      "outputs": [
        {
          "output_type": "stream",
          "name": "stdout",
          "text": [
            "1/1 [==============================] - 0s 147ms/step\n"
          ]
        }
      ],
      "source": [
        "all_nodes = node_subjects.index\n",
        "all_gen = generator.flow(all_nodes)\n",
        "all_predictions = model.predict(all_gen)"
      ]
    },
    {
      "cell_type": "markdown",
      "metadata": {
        "id": "rVW-3czeVvNL"
      },
      "source": [
        "These predictions will be the output of the softmax layer, so to get final categories we'll use the `inverse_transform` method of our target attribute specification to turn these values back to the original categories."
      ]
    },
    {
      "cell_type": "code",
      "execution_count": 23,
      "metadata": {
        "id": "k-_2cU12VvNL"
      },
      "outputs": [],
      "source": [
        "node_predictions = target_encoding.inverse_transform(all_predictions.squeeze())"
      ]
    },
    {
      "cell_type": "markdown",
      "metadata": {
        "id": "1NCoOsciVvNM"
      },
      "source": [
        "Let's have a look at a few predictions after training the model:"
      ]
    },
    {
      "cell_type": "code",
      "execution_count": 24,
      "metadata": {
        "id": "4DGImMDnVvNM",
        "outputId": "1ded5f27-d10c-4eba-bed0-613493cec794",
        "colab": {
          "base_uri": "https://localhost:8080/",
          "height": 677
        }
      },
      "outputs": [
        {
          "output_type": "execute_result",
          "data": {
            "text/plain": [
              "                      Predicted                    True\n",
              "31336                    Theory         Neural_Networks\n",
              "1061127           Rule_Learning           Rule_Learning\n",
              "1106406  Reinforcement_Learning  Reinforcement_Learning\n",
              "13195    Reinforcement_Learning  Reinforcement_Learning\n",
              "37879     Probabilistic_Methods   Probabilistic_Methods\n",
              "1126012   Probabilistic_Methods   Probabilistic_Methods\n",
              "1107140  Reinforcement_Learning                  Theory\n",
              "1102850                  Theory         Neural_Networks\n",
              "31349                    Theory         Neural_Networks\n",
              "1106418                  Theory                  Theory\n",
              "1123188         Neural_Networks         Neural_Networks\n",
              "1128990         Neural_Networks      Genetic_Algorithms\n",
              "109323    Probabilistic_Methods   Probabilistic_Methods\n",
              "217139               Case_Based              Case_Based\n",
              "31353                    Theory         Neural_Networks\n",
              "32083           Neural_Networks         Neural_Networks\n",
              "1126029  Reinforcement_Learning  Reinforcement_Learning\n",
              "1118017         Neural_Networks         Neural_Networks\n",
              "49482           Neural_Networks         Neural_Networks\n",
              "753265          Neural_Networks         Neural_Networks"
            ],
            "text/html": [
              "\n",
              "  <div id=\"df-5e2da061-bf48-42fd-9cdf-91fce61143ed\">\n",
              "    <div class=\"colab-df-container\">\n",
              "      <div>\n",
              "<style scoped>\n",
              "    .dataframe tbody tr th:only-of-type {\n",
              "        vertical-align: middle;\n",
              "    }\n",
              "\n",
              "    .dataframe tbody tr th {\n",
              "        vertical-align: top;\n",
              "    }\n",
              "\n",
              "    .dataframe thead th {\n",
              "        text-align: right;\n",
              "    }\n",
              "</style>\n",
              "<table border=\"1\" class=\"dataframe\">\n",
              "  <thead>\n",
              "    <tr style=\"text-align: right;\">\n",
              "      <th></th>\n",
              "      <th>Predicted</th>\n",
              "      <th>True</th>\n",
              "    </tr>\n",
              "  </thead>\n",
              "  <tbody>\n",
              "    <tr>\n",
              "      <th>31336</th>\n",
              "      <td>Theory</td>\n",
              "      <td>Neural_Networks</td>\n",
              "    </tr>\n",
              "    <tr>\n",
              "      <th>1061127</th>\n",
              "      <td>Rule_Learning</td>\n",
              "      <td>Rule_Learning</td>\n",
              "    </tr>\n",
              "    <tr>\n",
              "      <th>1106406</th>\n",
              "      <td>Reinforcement_Learning</td>\n",
              "      <td>Reinforcement_Learning</td>\n",
              "    </tr>\n",
              "    <tr>\n",
              "      <th>13195</th>\n",
              "      <td>Reinforcement_Learning</td>\n",
              "      <td>Reinforcement_Learning</td>\n",
              "    </tr>\n",
              "    <tr>\n",
              "      <th>37879</th>\n",
              "      <td>Probabilistic_Methods</td>\n",
              "      <td>Probabilistic_Methods</td>\n",
              "    </tr>\n",
              "    <tr>\n",
              "      <th>1126012</th>\n",
              "      <td>Probabilistic_Methods</td>\n",
              "      <td>Probabilistic_Methods</td>\n",
              "    </tr>\n",
              "    <tr>\n",
              "      <th>1107140</th>\n",
              "      <td>Reinforcement_Learning</td>\n",
              "      <td>Theory</td>\n",
              "    </tr>\n",
              "    <tr>\n",
              "      <th>1102850</th>\n",
              "      <td>Theory</td>\n",
              "      <td>Neural_Networks</td>\n",
              "    </tr>\n",
              "    <tr>\n",
              "      <th>31349</th>\n",
              "      <td>Theory</td>\n",
              "      <td>Neural_Networks</td>\n",
              "    </tr>\n",
              "    <tr>\n",
              "      <th>1106418</th>\n",
              "      <td>Theory</td>\n",
              "      <td>Theory</td>\n",
              "    </tr>\n",
              "    <tr>\n",
              "      <th>1123188</th>\n",
              "      <td>Neural_Networks</td>\n",
              "      <td>Neural_Networks</td>\n",
              "    </tr>\n",
              "    <tr>\n",
              "      <th>1128990</th>\n",
              "      <td>Neural_Networks</td>\n",
              "      <td>Genetic_Algorithms</td>\n",
              "    </tr>\n",
              "    <tr>\n",
              "      <th>109323</th>\n",
              "      <td>Probabilistic_Methods</td>\n",
              "      <td>Probabilistic_Methods</td>\n",
              "    </tr>\n",
              "    <tr>\n",
              "      <th>217139</th>\n",
              "      <td>Case_Based</td>\n",
              "      <td>Case_Based</td>\n",
              "    </tr>\n",
              "    <tr>\n",
              "      <th>31353</th>\n",
              "      <td>Theory</td>\n",
              "      <td>Neural_Networks</td>\n",
              "    </tr>\n",
              "    <tr>\n",
              "      <th>32083</th>\n",
              "      <td>Neural_Networks</td>\n",
              "      <td>Neural_Networks</td>\n",
              "    </tr>\n",
              "    <tr>\n",
              "      <th>1126029</th>\n",
              "      <td>Reinforcement_Learning</td>\n",
              "      <td>Reinforcement_Learning</td>\n",
              "    </tr>\n",
              "    <tr>\n",
              "      <th>1118017</th>\n",
              "      <td>Neural_Networks</td>\n",
              "      <td>Neural_Networks</td>\n",
              "    </tr>\n",
              "    <tr>\n",
              "      <th>49482</th>\n",
              "      <td>Neural_Networks</td>\n",
              "      <td>Neural_Networks</td>\n",
              "    </tr>\n",
              "    <tr>\n",
              "      <th>753265</th>\n",
              "      <td>Neural_Networks</td>\n",
              "      <td>Neural_Networks</td>\n",
              "    </tr>\n",
              "  </tbody>\n",
              "</table>\n",
              "</div>\n",
              "      <button class=\"colab-df-convert\" onclick=\"convertToInteractive('df-5e2da061-bf48-42fd-9cdf-91fce61143ed')\"\n",
              "              title=\"Convert this dataframe to an interactive table.\"\n",
              "              style=\"display:none;\">\n",
              "        \n",
              "  <svg xmlns=\"http://www.w3.org/2000/svg\" height=\"24px\"viewBox=\"0 0 24 24\"\n",
              "       width=\"24px\">\n",
              "    <path d=\"M0 0h24v24H0V0z\" fill=\"none\"/>\n",
              "    <path d=\"M18.56 5.44l.94 2.06.94-2.06 2.06-.94-2.06-.94-.94-2.06-.94 2.06-2.06.94zm-11 1L8.5 8.5l.94-2.06 2.06-.94-2.06-.94L8.5 2.5l-.94 2.06-2.06.94zm10 10l.94 2.06.94-2.06 2.06-.94-2.06-.94-.94-2.06-.94 2.06-2.06.94z\"/><path d=\"M17.41 7.96l-1.37-1.37c-.4-.4-.92-.59-1.43-.59-.52 0-1.04.2-1.43.59L10.3 9.45l-7.72 7.72c-.78.78-.78 2.05 0 2.83L4 21.41c.39.39.9.59 1.41.59.51 0 1.02-.2 1.41-.59l7.78-7.78 2.81-2.81c.8-.78.8-2.07 0-2.86zM5.41 20L4 18.59l7.72-7.72 1.47 1.35L5.41 20z\"/>\n",
              "  </svg>\n",
              "      </button>\n",
              "      \n",
              "  <style>\n",
              "    .colab-df-container {\n",
              "      display:flex;\n",
              "      flex-wrap:wrap;\n",
              "      gap: 12px;\n",
              "    }\n",
              "\n",
              "    .colab-df-convert {\n",
              "      background-color: #E8F0FE;\n",
              "      border: none;\n",
              "      border-radius: 50%;\n",
              "      cursor: pointer;\n",
              "      display: none;\n",
              "      fill: #1967D2;\n",
              "      height: 32px;\n",
              "      padding: 0 0 0 0;\n",
              "      width: 32px;\n",
              "    }\n",
              "\n",
              "    .colab-df-convert:hover {\n",
              "      background-color: #E2EBFA;\n",
              "      box-shadow: 0px 1px 2px rgba(60, 64, 67, 0.3), 0px 1px 3px 1px rgba(60, 64, 67, 0.15);\n",
              "      fill: #174EA6;\n",
              "    }\n",
              "\n",
              "    [theme=dark] .colab-df-convert {\n",
              "      background-color: #3B4455;\n",
              "      fill: #D2E3FC;\n",
              "    }\n",
              "\n",
              "    [theme=dark] .colab-df-convert:hover {\n",
              "      background-color: #434B5C;\n",
              "      box-shadow: 0px 1px 3px 1px rgba(0, 0, 0, 0.15);\n",
              "      filter: drop-shadow(0px 1px 2px rgba(0, 0, 0, 0.3));\n",
              "      fill: #FFFFFF;\n",
              "    }\n",
              "  </style>\n",
              "\n",
              "      <script>\n",
              "        const buttonEl =\n",
              "          document.querySelector('#df-5e2da061-bf48-42fd-9cdf-91fce61143ed button.colab-df-convert');\n",
              "        buttonEl.style.display =\n",
              "          google.colab.kernel.accessAllowed ? 'block' : 'none';\n",
              "\n",
              "        async function convertToInteractive(key) {\n",
              "          const element = document.querySelector('#df-5e2da061-bf48-42fd-9cdf-91fce61143ed');\n",
              "          const dataTable =\n",
              "            await google.colab.kernel.invokeFunction('convertToInteractive',\n",
              "                                                     [key], {});\n",
              "          if (!dataTable) return;\n",
              "\n",
              "          const docLinkHtml = 'Like what you see? Visit the ' +\n",
              "            '<a target=\"_blank\" href=https://colab.research.google.com/notebooks/data_table.ipynb>data table notebook</a>'\n",
              "            + ' to learn more about interactive tables.';\n",
              "          element.innerHTML = '';\n",
              "          dataTable['output_type'] = 'display_data';\n",
              "          await google.colab.output.renderOutput(dataTable, element);\n",
              "          const docLink = document.createElement('div');\n",
              "          docLink.innerHTML = docLinkHtml;\n",
              "          element.appendChild(docLink);\n",
              "        }\n",
              "      </script>\n",
              "    </div>\n",
              "  </div>\n",
              "  "
            ]
          },
          "metadata": {},
          "execution_count": 24
        }
      ],
      "source": [
        "df = pd.DataFrame({\"Predicted\": node_predictions, \"True\": node_subjects})\n",
        "df.head(20)"
      ]
    },
    {
      "cell_type": "markdown",
      "metadata": {
        "id": "EMpBxmKwVvNS"
      },
      "source": [
        "### Conclusion\n",
        "\n",
        "This notebook gave an example using the GCN algorithm to predict the class of nodes. Specifically, the subject of an academic paper in the Cora dataset. Our model used:\n",
        "\n",
        "- the graph structure of the dataset, in the form of citation links between papers\n",
        "- the 1433-dimensional feature vectors associated with each paper\n"
      ]
    },
    {
      "cell_type": "markdown",
      "source": [
        "## Node classification with Graph ATention Network (GAT)"
      ],
      "metadata": {
        "id": "Fr7Wrctcb1kX"
      }
    },
    {
      "cell_type": "markdown",
      "source": [
        "Install NetworkX & stellar"
      ],
      "metadata": {
        "id": "aSM9t3vocZpx"
      }
    },
    {
      "cell_type": "code",
      "source": [
        "# install StellarGraph if running on Google Colab\n",
        "import sys\n",
        "if 'google.colab' in sys.modules:\n",
        "  %pip install -q stellargraph[demos]==1.2.1"
      ],
      "metadata": {
        "id": "mBexANBvcl09"
      },
      "execution_count": 25,
      "outputs": []
    },
    {
      "cell_type": "code",
      "source": [
        "# verify that we're using the correct version of StellarGraph for this notebook\n",
        "import stellargraph as sg\n",
        "\n",
        "try:\n",
        "    sg.utils.validate_notebook_version(\"1.2.1\")\n",
        "except AttributeError:\n",
        "    raise ValueError(\n",
        "        f\"This notebook requires StellarGraph version 1.2.1, but a different version {sg.__version__} is installed.  Please see <https://github.com/stellargraph/stellargraph/issues/1172>.\"\n",
        "    ) from None"
      ],
      "metadata": {
        "id": "6LjH7P5hcmo8"
      },
      "execution_count": 26,
      "outputs": []
    },
    {
      "cell_type": "markdown",
      "source": [
        "### Importing Libraries"
      ],
      "metadata": {
        "id": "ZSlQ5ch3cs8R"
      }
    },
    {
      "cell_type": "code",
      "source": [
        "import networkx as nx\n",
        "import pandas as pd\n",
        "import os\n",
        "\n",
        "import stellargraph as sg\n",
        "from stellargraph.mapper import FullBatchNodeGenerator\n",
        "from stellargraph.layer import GAT\n",
        "\n",
        "from tensorflow.keras import layers, optimizers, losses, metrics, Model\n",
        "from sklearn import preprocessing, feature_extraction, model_selection\n",
        "from stellargraph import datasets\n",
        "from IPython.display import display, HTML\n",
        "import matplotlib.pyplot as plt\n",
        "%matplotlib inline"
      ],
      "metadata": {
        "id": "EK1ZeNkXcmmd"
      },
      "execution_count": 27,
      "outputs": []
    },
    {
      "cell_type": "markdown",
      "source": [
        "### Loading the CORA network"
      ],
      "metadata": {
        "id": "a1lIwJM2czFo"
      }
    },
    {
      "cell_type": "code",
      "source": [
        "dataset = datasets.Cora()\n",
        "display(HTML(dataset.description))\n",
        "G, node_subjects = dataset.load()"
      ],
      "metadata": {
        "colab": {
          "base_uri": "https://localhost:8080/",
          "height": 52
        },
        "id": "XYF7omkvcmjw",
        "outputId": "262f365f-553e-4ec7-9e85-acc5127b2079"
      },
      "execution_count": 28,
      "outputs": [
        {
          "output_type": "display_data",
          "data": {
            "text/plain": [
              "<IPython.core.display.HTML object>"
            ],
            "text/html": [
              "The Cora dataset consists of 2708 scientific publications classified into one of seven classes. The citation network consists of 5429 links. Each publication in the dataset is described by a 0/1-valued word vector indicating the absence/presence of the corresponding word from the dictionary. The dictionary consists of 1433 unique words."
            ]
          },
          "metadata": {}
        }
      ]
    },
    {
      "cell_type": "code",
      "source": [
        "print(G.info())"
      ],
      "metadata": {
        "colab": {
          "base_uri": "https://localhost:8080/"
        },
        "id": "aAV28dPqcmhL",
        "outputId": "5cf1d126-f7c9-451e-9d88-f543b1648505"
      },
      "execution_count": 29,
      "outputs": [
        {
          "output_type": "stream",
          "name": "stdout",
          "text": [
            "StellarGraph: Undirected multigraph\n",
            " Nodes: 2708, Edges: 5429\n",
            "\n",
            " Node types:\n",
            "  paper: [2708]\n",
            "    Features: float32 vector, length 1433\n",
            "    Edge types: paper-cites->paper\n",
            "\n",
            " Edge types:\n",
            "    paper-cites->paper: [5429]\n",
            "        Weights: all 1 (default)\n",
            "        Features: none\n"
          ]
        }
      ]
    },
    {
      "cell_type": "markdown",
      "source": [
        "We aim to train a graph-ML model that will predict the \"subject\" attribute on the nodes. These subjects are one of 7 categories:"
      ],
      "metadata": {
        "id": "6dBrA7usc-Ql"
      }
    },
    {
      "cell_type": "code",
      "source": [
        "set(node_subjects)"
      ],
      "metadata": {
        "colab": {
          "base_uri": "https://localhost:8080/"
        },
        "id": "d9u_APeTcmem",
        "outputId": "d06c996c-1971-4571-dac2-7ca98b8238d2"
      },
      "execution_count": 30,
      "outputs": [
        {
          "output_type": "execute_result",
          "data": {
            "text/plain": [
              "{'Case_Based',\n",
              " 'Genetic_Algorithms',\n",
              " 'Neural_Networks',\n",
              " 'Probabilistic_Methods',\n",
              " 'Reinforcement_Learning',\n",
              " 'Rule_Learning',\n",
              " 'Theory'}"
            ]
          },
          "metadata": {},
          "execution_count": 30
        }
      ]
    },
    {
      "cell_type": "markdown",
      "source": [
        "### Data Splitting\n",
        "\n",
        "\n",
        "---\n",
        "For machine learning we want to take a subset of the nodes for training, and use the rest for validation and testing. We'll use scikit-learn again to do this.\n",
        "\n",
        "Here we're taking 140 node labels for training, 500 for validation, and the rest for testing.\n"
      ],
      "metadata": {
        "id": "UsxJNSK1dFd6"
      }
    },
    {
      "cell_type": "code",
      "source": [
        "train_subjects, test_subjects = model_selection.train_test_split(\n",
        "    node_subjects, train_size=140, test_size=None, stratify=node_subjects\n",
        ")\n",
        "val_subjects, test_subjects = model_selection.train_test_split(\n",
        "    test_subjects, train_size=500, test_size=None, stratify=test_subjects\n",
        ")"
      ],
      "metadata": {
        "id": "45MrMfQGcmcD"
      },
      "execution_count": 31,
      "outputs": []
    },
    {
      "cell_type": "markdown",
      "source": [
        "Note using stratified sampling gives the following counts:"
      ],
      "metadata": {
        "id": "rpsrsFLsdN7Z"
      }
    },
    {
      "cell_type": "code",
      "source": [
        "from collections import Counter\n",
        "\n",
        "Counter(train_subjects)"
      ],
      "metadata": {
        "colab": {
          "base_uri": "https://localhost:8080/"
        },
        "id": "okpIohMkcmZS",
        "outputId": "2784a7bc-ba97-4260-9116-ea094da8617b"
      },
      "execution_count": 32,
      "outputs": [
        {
          "output_type": "execute_result",
          "data": {
            "text/plain": [
              "Counter({'Neural_Networks': 42,\n",
              "         'Case_Based': 16,\n",
              "         'Theory': 18,\n",
              "         'Reinforcement_Learning': 11,\n",
              "         'Probabilistic_Methods': 22,\n",
              "         'Genetic_Algorithms': 22,\n",
              "         'Rule_Learning': 9})"
            ]
          },
          "metadata": {},
          "execution_count": 32
        }
      ]
    },
    {
      "cell_type": "markdown",
      "source": [
        "### Data Conversion\n",
        "\n",
        "---\n",
        "\n",
        "For our categorical target, we will use one-hot vectors that will be fed into a soft-max Keras layer during training. To do this conversion ..."
      ],
      "metadata": {
        "id": "u8J_z-TMdVxU"
      }
    },
    {
      "cell_type": "code",
      "source": [
        "target_encoding = preprocessing.LabelBinarizer()\n",
        "\n",
        "train_targets = target_encoding.fit_transform(train_subjects)\n",
        "val_targets = target_encoding.transform(val_subjects)\n",
        "test_targets = target_encoding.transform(test_subjects)"
      ],
      "metadata": {
        "id": "XV2B-nYXcmWp"
      },
      "execution_count": 33,
      "outputs": []
    },
    {
      "cell_type": "markdown",
      "source": [
        "### Model Creation - Keras\n",
        "\n",
        "---\n",
        "\n",
        "\n",
        "To feed data from the graph to the Keras model we need a generator. Since GAT is a full-batch model, we use the FullBatchNodeGenerator class to feed node features and graph adjacency matrix to the model."
      ],
      "metadata": {
        "id": "knwMQtFEdgmf"
      }
    },
    {
      "cell_type": "code",
      "source": [
        "generator = FullBatchNodeGenerator(G, method=\"gat\")"
      ],
      "metadata": {
        "id": "3Tuz4nPHcmUa"
      },
      "execution_count": 34,
      "outputs": []
    },
    {
      "cell_type": "code",
      "source": [
        "train_gen = generator.flow(train_subjects.index, train_targets)"
      ],
      "metadata": {
        "id": "iQJbacHqcmR3"
      },
      "execution_count": 35,
      "outputs": []
    },
    {
      "cell_type": "code",
      "source": [
        "gat = GAT(\n",
        "    layer_sizes=[8, train_targets.shape[1]],\n",
        "    activations=[\"elu\", \"softmax\"],\n",
        "    attn_heads=8,\n",
        "    generator=generator,\n",
        "    in_dropout=0.5,\n",
        "    attn_dropout=0.5,\n",
        "    normalize=None,\n",
        ")"
      ],
      "metadata": {
        "id": "GMnlfs50dtMA"
      },
      "execution_count": 36,
      "outputs": []
    },
    {
      "cell_type": "markdown",
      "source": [
        "Expose the input and output tensors of the GAT model for node prediction, via GAT.in_out_tensors() method:"
      ],
      "metadata": {
        "id": "an8aINthd0_Q"
      }
    },
    {
      "cell_type": "code",
      "source": [
        "x_inp, predictions = gat.in_out_tensors()"
      ],
      "metadata": {
        "id": "KDV_Y_TsdtJE"
      },
      "execution_count": 37,
      "outputs": []
    },
    {
      "cell_type": "markdown",
      "source": [
        "### Model Training"
      ],
      "metadata": {
        "id": "HnVLldmJd5e6"
      }
    },
    {
      "cell_type": "code",
      "source": [
        "model = Model(inputs=x_inp, outputs=predictions)\n",
        "model.compile(\n",
        "    optimizer=optimizers.Adam(lr=0.005),\n",
        "    loss=losses.categorical_crossentropy,\n",
        "    metrics=[\"acc\"],\n",
        ")"
      ],
      "metadata": {
        "colab": {
          "base_uri": "https://localhost:8080/"
        },
        "id": "a8xXqBa5d0Bs",
        "outputId": "0c91108c-fb9d-4d70-de3c-74d74299754d"
      },
      "execution_count": 38,
      "outputs": [
        {
          "output_type": "stream",
          "name": "stderr",
          "text": [
            "/usr/local/lib/python3.7/dist-packages/keras/optimizers/optimizer_v2/adam.py:110: UserWarning: The `lr` argument is deprecated, use `learning_rate` instead.\n",
            "  super(Adam, self).__init__(name, **kwargs)\n"
          ]
        }
      ]
    },
    {
      "cell_type": "code",
      "source": [
        "val_gen = generator.flow(val_subjects.index, val_targets)"
      ],
      "metadata": {
        "id": "hbcH27FwdtGD"
      },
      "execution_count": 39,
      "outputs": []
    },
    {
      "cell_type": "code",
      "source": [
        "from tensorflow.keras.callbacks import EarlyStopping, ModelCheckpoint\n",
        "\n",
        "if not os.path.isdir(\"logs\"):\n",
        "    os.makedirs(\"logs\")\n",
        "es_callback = EarlyStopping(\n",
        "    monitor=\"val_acc\", patience=20\n",
        ")  # patience is the number of epochs to wait before early stopping in case of no further improvement\n",
        "mc_callback = ModelCheckpoint(\n",
        "    \"logs/best_model.h5\", monitor=\"val_acc\", save_best_only=True, save_weights_only=True\n",
        ")"
      ],
      "metadata": {
        "id": "BvRNhwMadtDE"
      },
      "execution_count": 40,
      "outputs": []
    },
    {
      "cell_type": "code",
      "source": [
        "history = model.fit(\n",
        "    train_gen,\n",
        "    epochs=50,\n",
        "    validation_data=val_gen,\n",
        "    verbose=2,\n",
        "    shuffle=False,  # this should be False, since shuffling data means shuffling the whole graph\n",
        "    callbacks=[es_callback, mc_callback],\n",
        ")"
      ],
      "metadata": {
        "colab": {
          "base_uri": "https://localhost:8080/"
        },
        "id": "wAdEVw27eFl9",
        "outputId": "aff39e18-a19a-4bb0-eb44-8a061f68d622"
      },
      "execution_count": 41,
      "outputs": [
        {
          "output_type": "stream",
          "name": "stdout",
          "text": [
            "Epoch 1/50\n",
            "1/1 - 7s - loss: 1.9650 - acc: 0.2143 - val_loss: 1.8209 - val_acc: 0.4060 - 7s/epoch - 7s/step\n",
            "Epoch 2/50\n",
            "1/1 - 0s - loss: 1.8230 - acc: 0.3286 - val_loss: 1.7228 - val_acc: 0.4040 - 200ms/epoch - 200ms/step\n",
            "Epoch 3/50\n",
            "1/1 - 0s - loss: 1.6971 - acc: 0.4071 - val_loss: 1.6417 - val_acc: 0.3940 - 162ms/epoch - 162ms/step\n",
            "Epoch 4/50\n",
            "1/1 - 0s - loss: 1.6272 - acc: 0.4214 - val_loss: 1.5755 - val_acc: 0.3880 - 184ms/epoch - 184ms/step\n",
            "Epoch 5/50\n",
            "1/1 - 0s - loss: 1.4789 - acc: 0.4929 - val_loss: 1.5149 - val_acc: 0.3980 - 258ms/epoch - 258ms/step\n",
            "Epoch 6/50\n",
            "1/1 - 0s - loss: 1.4527 - acc: 0.4714 - val_loss: 1.4540 - val_acc: 0.4340 - 235ms/epoch - 235ms/step\n",
            "Epoch 7/50\n",
            "1/1 - 0s - loss: 1.4149 - acc: 0.5571 - val_loss: 1.3927 - val_acc: 0.4840 - 351ms/epoch - 351ms/step\n",
            "Epoch 8/50\n",
            "1/1 - 0s - loss: 1.3442 - acc: 0.5286 - val_loss: 1.3304 - val_acc: 0.5500 - 243ms/epoch - 243ms/step\n",
            "Epoch 9/50\n",
            "1/1 - 0s - loss: 1.2452 - acc: 0.6071 - val_loss: 1.2703 - val_acc: 0.5980 - 243ms/epoch - 243ms/step\n",
            "Epoch 10/50\n",
            "1/1 - 0s - loss: 1.1349 - acc: 0.6571 - val_loss: 1.2140 - val_acc: 0.6480 - 274ms/epoch - 274ms/step\n",
            "Epoch 11/50\n",
            "1/1 - 0s - loss: 1.0126 - acc: 0.7214 - val_loss: 1.1620 - val_acc: 0.6960 - 339ms/epoch - 339ms/step\n",
            "Epoch 12/50\n",
            "1/1 - 0s - loss: 1.0623 - acc: 0.7571 - val_loss: 1.1157 - val_acc: 0.7220 - 338ms/epoch - 338ms/step\n",
            "Epoch 13/50\n",
            "1/1 - 0s - loss: 0.9447 - acc: 0.7714 - val_loss: 1.0725 - val_acc: 0.7540 - 266ms/epoch - 266ms/step\n",
            "Epoch 14/50\n",
            "1/1 - 0s - loss: 0.8813 - acc: 0.8214 - val_loss: 1.0320 - val_acc: 0.7720 - 212ms/epoch - 212ms/step\n",
            "Epoch 15/50\n",
            "1/1 - 0s - loss: 0.8788 - acc: 0.8143 - val_loss: 0.9944 - val_acc: 0.7740 - 269ms/epoch - 269ms/step\n",
            "Epoch 16/50\n",
            "1/1 - 0s - loss: 0.8213 - acc: 0.7643 - val_loss: 0.9598 - val_acc: 0.7800 - 214ms/epoch - 214ms/step\n",
            "Epoch 17/50\n",
            "1/1 - 0s - loss: 0.8781 - acc: 0.7643 - val_loss: 0.9292 - val_acc: 0.7780 - 154ms/epoch - 154ms/step\n",
            "Epoch 18/50\n",
            "1/1 - 0s - loss: 0.7862 - acc: 0.8429 - val_loss: 0.9009 - val_acc: 0.7800 - 168ms/epoch - 168ms/step\n",
            "Epoch 19/50\n",
            "1/1 - 0s - loss: 0.7220 - acc: 0.8286 - val_loss: 0.8752 - val_acc: 0.7800 - 193ms/epoch - 193ms/step\n",
            "Epoch 20/50\n",
            "1/1 - 0s - loss: 0.6874 - acc: 0.8714 - val_loss: 0.8525 - val_acc: 0.7780 - 193ms/epoch - 193ms/step\n",
            "Epoch 21/50\n",
            "1/1 - 0s - loss: 0.7123 - acc: 0.8000 - val_loss: 0.8335 - val_acc: 0.7800 - 157ms/epoch - 157ms/step\n",
            "Epoch 22/50\n",
            "1/1 - 0s - loss: 0.7573 - acc: 0.8071 - val_loss: 0.8179 - val_acc: 0.7840 - 268ms/epoch - 268ms/step\n",
            "Epoch 23/50\n",
            "1/1 - 0s - loss: 0.7031 - acc: 0.8071 - val_loss: 0.8044 - val_acc: 0.7820 - 215ms/epoch - 215ms/step\n",
            "Epoch 24/50\n",
            "1/1 - 0s - loss: 0.6492 - acc: 0.8500 - val_loss: 0.7931 - val_acc: 0.7780 - 264ms/epoch - 264ms/step\n",
            "Epoch 25/50\n",
            "1/1 - 0s - loss: 0.5929 - acc: 0.8929 - val_loss: 0.7830 - val_acc: 0.7780 - 241ms/epoch - 241ms/step\n",
            "Epoch 26/50\n",
            "1/1 - 0s - loss: 0.7041 - acc: 0.8286 - val_loss: 0.7749 - val_acc: 0.7780 - 287ms/epoch - 287ms/step\n",
            "Epoch 27/50\n",
            "1/1 - 0s - loss: 0.5526 - acc: 0.8643 - val_loss: 0.7678 - val_acc: 0.7720 - 187ms/epoch - 187ms/step\n",
            "Epoch 28/50\n",
            "1/1 - 0s - loss: 0.6811 - acc: 0.7929 - val_loss: 0.7608 - val_acc: 0.7720 - 328ms/epoch - 328ms/step\n",
            "Epoch 29/50\n",
            "1/1 - 0s - loss: 0.5941 - acc: 0.8714 - val_loss: 0.7544 - val_acc: 0.7720 - 276ms/epoch - 276ms/step\n",
            "Epoch 30/50\n",
            "1/1 - 0s - loss: 0.7028 - acc: 0.8143 - val_loss: 0.7492 - val_acc: 0.7720 - 282ms/epoch - 282ms/step\n",
            "Epoch 31/50\n",
            "1/1 - 0s - loss: 0.7376 - acc: 0.8143 - val_loss: 0.7435 - val_acc: 0.7740 - 245ms/epoch - 245ms/step\n",
            "Epoch 32/50\n",
            "1/1 - 0s - loss: 0.5919 - acc: 0.8357 - val_loss: 0.7370 - val_acc: 0.7760 - 303ms/epoch - 303ms/step\n",
            "Epoch 33/50\n",
            "1/1 - 0s - loss: 0.6550 - acc: 0.8000 - val_loss: 0.7294 - val_acc: 0.7800 - 263ms/epoch - 263ms/step\n",
            "Epoch 34/50\n",
            "1/1 - 0s - loss: 0.6266 - acc: 0.8429 - val_loss: 0.7240 - val_acc: 0.7840 - 168ms/epoch - 168ms/step\n",
            "Epoch 35/50\n",
            "1/1 - 0s - loss: 0.6000 - acc: 0.8286 - val_loss: 0.7182 - val_acc: 0.7820 - 284ms/epoch - 284ms/step\n",
            "Epoch 36/50\n",
            "1/1 - 0s - loss: 0.5409 - acc: 0.8643 - val_loss: 0.7125 - val_acc: 0.7880 - 245ms/epoch - 245ms/step\n",
            "Epoch 37/50\n",
            "1/1 - 0s - loss: 0.6276 - acc: 0.8357 - val_loss: 0.7071 - val_acc: 0.7880 - 191ms/epoch - 191ms/step\n",
            "Epoch 38/50\n",
            "1/1 - 0s - loss: 0.5232 - acc: 0.8214 - val_loss: 0.7026 - val_acc: 0.7900 - 288ms/epoch - 288ms/step\n",
            "Epoch 39/50\n",
            "1/1 - 0s - loss: 0.4820 - acc: 0.8714 - val_loss: 0.6976 - val_acc: 0.7940 - 242ms/epoch - 242ms/step\n",
            "Epoch 40/50\n",
            "1/1 - 0s - loss: 0.5086 - acc: 0.8929 - val_loss: 0.6935 - val_acc: 0.7920 - 197ms/epoch - 197ms/step\n",
            "Epoch 41/50\n",
            "1/1 - 0s - loss: 0.5335 - acc: 0.8357 - val_loss: 0.6894 - val_acc: 0.8000 - 318ms/epoch - 318ms/step\n",
            "Epoch 42/50\n",
            "1/1 - 0s - loss: 0.5569 - acc: 0.8429 - val_loss: 0.6859 - val_acc: 0.8020 - 339ms/epoch - 339ms/step\n",
            "Epoch 43/50\n",
            "1/1 - 0s - loss: 0.4402 - acc: 0.8929 - val_loss: 0.6815 - val_acc: 0.8000 - 98ms/epoch - 98ms/step\n",
            "Epoch 44/50\n",
            "1/1 - 0s - loss: 0.4617 - acc: 0.9071 - val_loss: 0.6777 - val_acc: 0.8020 - 103ms/epoch - 103ms/step\n",
            "Epoch 45/50\n",
            "1/1 - 0s - loss: 0.5011 - acc: 0.8929 - val_loss: 0.6749 - val_acc: 0.8020 - 107ms/epoch - 107ms/step\n",
            "Epoch 46/50\n",
            "1/1 - 0s - loss: 0.4970 - acc: 0.8786 - val_loss: 0.6729 - val_acc: 0.8080 - 137ms/epoch - 137ms/step\n",
            "Epoch 47/50\n",
            "1/1 - 0s - loss: 0.4572 - acc: 0.9071 - val_loss: 0.6712 - val_acc: 0.8080 - 112ms/epoch - 112ms/step\n",
            "Epoch 48/50\n",
            "1/1 - 0s - loss: 0.4982 - acc: 0.8643 - val_loss: 0.6702 - val_acc: 0.8060 - 110ms/epoch - 110ms/step\n",
            "Epoch 49/50\n",
            "1/1 - 0s - loss: 0.5017 - acc: 0.8857 - val_loss: 0.6688 - val_acc: 0.8060 - 123ms/epoch - 123ms/step\n",
            "Epoch 50/50\n",
            "1/1 - 0s - loss: 0.4303 - acc: 0.8714 - val_loss: 0.6677 - val_acc: 0.8040 - 104ms/epoch - 104ms/step\n"
          ]
        }
      ]
    },
    {
      "cell_type": "markdown",
      "source": [
        "Plot the training history:"
      ],
      "metadata": {
        "id": "rgwu7P_LeLJ_"
      }
    },
    {
      "cell_type": "code",
      "source": [
        "sg.utils.plot_history(history)"
      ],
      "metadata": {
        "colab": {
          "base_uri": "https://localhost:8080/",
          "height": 585
        },
        "id": "thgjjXOweL5W",
        "outputId": "96f60e5c-d905-4601-b6b4-9ed709ba066e"
      },
      "execution_count": 42,
      "outputs": [
        {
          "output_type": "display_data",
          "data": {
            "text/plain": [
              "<Figure size 504x576 with 2 Axes>"
            ],
            "image/png": "[encoded data removed]"
          },
          "metadata": {
            "needs_background": "light"
          }
        }
      ]
    },
    {
      "cell_type": "markdown",
      "source": [
        "Reload the saved weights of the best model found during the training (according to validation accuracy)"
      ],
      "metadata": {
        "id": "8UhWKUXoeQ7A"
      }
    },
    {
      "cell_type": "code",
      "source": [
        "model.load_weights(\"logs/best_model.h5\")"
      ],
      "metadata": {
        "id": "aBUcgj3ieP2d"
      },
      "execution_count": 43,
      "outputs": []
    },
    {
      "cell_type": "code",
      "source": [
        "test_gen = generator.flow(test_subjects.index, test_targets)"
      ],
      "metadata": {
        "id": "wv73IcLyeT72"
      },
      "execution_count": 44,
      "outputs": []
    },
    {
      "cell_type": "code",
      "source": [
        "test_metrics = model.evaluate(test_gen)\n",
        "print(\"\\nTest Set Metrics:\")\n",
        "for name, val in zip(model.metrics_names, test_metrics):\n",
        "    print(\"\\t{}: {:0.4f}\".format(name, val))"
      ],
      "metadata": {
        "colab": {
          "base_uri": "https://localhost:8080/"
        },
        "id": "QmV_fnN_eYqh",
        "outputId": "ef06a05d-0989-44a0-c452-6b03e489696f"
      },
      "execution_count": 45,
      "outputs": [
        {
          "output_type": "stream",
          "name": "stdout",
          "text": [
            "1/1 [==============================] - 0s 53ms/step - loss: 0.6487 - acc: 0.8075\n",
            "\n",
            "Test Set Metrics:\n",
            "\tloss: 0.6487\n",
            "\tacc: 0.8075\n"
          ]
        }
      ]
    },
    {
      "cell_type": "markdown",
      "source": [
        "###Making predictions with the model"
      ],
      "metadata": {
        "id": "cAnIf_4RebbT"
      }
    },
    {
      "cell_type": "code",
      "source": [
        "all_nodes = node_subjects.index\n",
        "all_gen = generator.flow(all_nodes)\n",
        "all_predictions = model.predict(all_gen)"
      ],
      "metadata": {
        "colab": {
          "base_uri": "https://localhost:8080/"
        },
        "id": "6XjRoF-geYnu",
        "outputId": "d1d6f9ac-7488-4c83-cfb7-03e010338cc5"
      },
      "execution_count": 46,
      "outputs": [
        {
          "output_type": "stream",
          "name": "stdout",
          "text": [
            "1/1 [==============================] - 0s 382ms/step\n"
          ]
        }
      ]
    },
    {
      "cell_type": "code",
      "source": [
        "node_predictions = target_encoding.inverse_transform(all_predictions.squeeze())"
      ],
      "metadata": {
        "id": "tpFk_2fpeYk9"
      },
      "execution_count": 47,
      "outputs": []
    },
    {
      "cell_type": "code",
      "source": [
        "df = pd.DataFrame({\"Predicted\": node_predictions, \"True\": node_subjects})\n",
        "df.head(20)"
      ],
      "metadata": {
        "colab": {
          "base_uri": "https://localhost:8080/",
          "height": 677
        },
        "id": "IcbTg3A1eYiP",
        "outputId": "1f73df4f-58ea-4dfa-d439-c25ab881fc75"
      },
      "execution_count": 48,
      "outputs": [
        {
          "output_type": "execute_result",
          "data": {
            "text/plain": [
              "                      Predicted                    True\n",
              "31336           Neural_Networks         Neural_Networks\n",
              "1061127           Rule_Learning           Rule_Learning\n",
              "1106406  Reinforcement_Learning  Reinforcement_Learning\n",
              "13195    Reinforcement_Learning  Reinforcement_Learning\n",
              "37879     Probabilistic_Methods   Probabilistic_Methods\n",
              "1126012   Probabilistic_Methods   Probabilistic_Methods\n",
              "1107140   Probabilistic_Methods                  Theory\n",
              "1102850         Neural_Networks         Neural_Networks\n",
              "31349           Neural_Networks         Neural_Networks\n",
              "1106418                  Theory                  Theory\n",
              "1123188         Neural_Networks         Neural_Networks\n",
              "1128990      Genetic_Algorithms      Genetic_Algorithms\n",
              "109323    Probabilistic_Methods   Probabilistic_Methods\n",
              "217139               Case_Based              Case_Based\n",
              "31353           Neural_Networks         Neural_Networks\n",
              "32083           Neural_Networks         Neural_Networks\n",
              "1126029  Reinforcement_Learning  Reinforcement_Learning\n",
              "1118017         Neural_Networks         Neural_Networks\n",
              "49482           Neural_Networks         Neural_Networks\n",
              "753265          Neural_Networks         Neural_Networks"
            ],
            "text/html": [
              "\n",
              "  <div id=\"df-40df79c3-64d9-4aea-b885-a36167fbcd3f\">\n",
              "    <div class=\"colab-df-container\">\n",
              "      <div>\n",
              "<style scoped>\n",
              "    .dataframe tbody tr th:only-of-type {\n",
              "        vertical-align: middle;\n",
              "    }\n",
              "\n",
              "    .dataframe tbody tr th {\n",
              "        vertical-align: top;\n",
              "    }\n",
              "\n",
              "    .dataframe thead th {\n",
              "        text-align: right;\n",
              "    }\n",
              "</style>\n",
              "<table border=\"1\" class=\"dataframe\">\n",
              "  <thead>\n",
              "    <tr style=\"text-align: right;\">\n",
              "      <th></th>\n",
              "      <th>Predicted</th>\n",
              "      <th>True</th>\n",
              "    </tr>\n",
              "  </thead>\n",
              "  <tbody>\n",
              "    <tr>\n",
              "      <th>31336</th>\n",
              "      <td>Neural_Networks</td>\n",
              "      <td>Neural_Networks</td>\n",
              "    </tr>\n",
              "    <tr>\n",
              "      <th>1061127</th>\n",
              "      <td>Rule_Learning</td>\n",
              "      <td>Rule_Learning</td>\n",
              "    </tr>\n",
              "    <tr>\n",
              "      <th>1106406</th>\n",
              "      <td>Reinforcement_Learning</td>\n",
              "      <td>Reinforcement_Learning</td>\n",
              "    </tr>\n",
              "    <tr>\n",
              "      <th>13195</th>\n",
              "      <td>Reinforcement_Learning</td>\n",
              "      <td>Reinforcement_Learning</td>\n",
              "    </tr>\n",
              "    <tr>\n",
              "      <th>37879</th>\n",
              "      <td>Probabilistic_Methods</td>\n",
              "      <td>Probabilistic_Methods</td>\n",
              "    </tr>\n",
              "    <tr>\n",
              "      <th>1126012</th>\n",
              "      <td>Probabilistic_Methods</td>\n",
              "      <td>Probabilistic_Methods</td>\n",
              "    </tr>\n",
              "    <tr>\n",
              "      <th>1107140</th>\n",
              "      <td>Probabilistic_Methods</td>\n",
              "      <td>Theory</td>\n",
              "    </tr>\n",
              "    <tr>\n",
              "      <th>1102850</th>\n",
              "      <td>Neural_Networks</td>\n",
              "      <td>Neural_Networks</td>\n",
              "    </tr>\n",
              "    <tr>\n",
              "      <th>31349</th>\n",
              "      <td>Neural_Networks</td>\n",
              "      <td>Neural_Networks</td>\n",
              "    </tr>\n",
              "    <tr>\n",
              "      <th>1106418</th>\n",
              "      <td>Theory</td>\n",
              "      <td>Theory</td>\n",
              "    </tr>\n",
              "    <tr>\n",
              "      <th>1123188</th>\n",
              "      <td>Neural_Networks</td>\n",
              "      <td>Neural_Networks</td>\n",
              "    </tr>\n",
              "    <tr>\n",
              "      <th>1128990</th>\n",
              "      <td>Genetic_Algorithms</td>\n",
              "      <td>Genetic_Algorithms</td>\n",
              "    </tr>\n",
              "    <tr>\n",
              "      <th>109323</th>\n",
              "      <td>Probabilistic_Methods</td>\n",
              "      <td>Probabilistic_Methods</td>\n",
              "    </tr>\n",
              "    <tr>\n",
              "      <th>217139</th>\n",
              "      <td>Case_Based</td>\n",
              "      <td>Case_Based</td>\n",
              "    </tr>\n",
              "    <tr>\n",
              "      <th>31353</th>\n",
              "      <td>Neural_Networks</td>\n",
              "      <td>Neural_Networks</td>\n",
              "    </tr>\n",
              "    <tr>\n",
              "      <th>32083</th>\n",
              "      <td>Neural_Networks</td>\n",
              "      <td>Neural_Networks</td>\n",
              "    </tr>\n",
              "    <tr>\n",
              "      <th>1126029</th>\n",
              "      <td>Reinforcement_Learning</td>\n",
              "      <td>Reinforcement_Learning</td>\n",
              "    </tr>\n",
              "    <tr>\n",
              "      <th>1118017</th>\n",
              "      <td>Neural_Networks</td>\n",
              "      <td>Neural_Networks</td>\n",
              "    </tr>\n",
              "    <tr>\n",
              "      <th>49482</th>\n",
              "      <td>Neural_Networks</td>\n",
              "      <td>Neural_Networks</td>\n",
              "    </tr>\n",
              "    <tr>\n",
              "      <th>753265</th>\n",
              "      <td>Neural_Networks</td>\n",
              "      <td>Neural_Networks</td>\n",
              "    </tr>\n",
              "  </tbody>\n",
              "</table>\n",
              "</div>\n",
              "      <button class=\"colab-df-convert\" onclick=\"convertToInteractive('df-40df79c3-64d9-4aea-b885-a36167fbcd3f')\"\n",
              "              title=\"Convert this dataframe to an interactive table.\"\n",
              "              style=\"display:none;\">\n",
              "        \n",
              "  <svg xmlns=\"http://www.w3.org/2000/svg\" height=\"24px\"viewBox=\"0 0 24 24\"\n",
              "       width=\"24px\">\n",
              "    <path d=\"M0 0h24v24H0V0z\" fill=\"none\"/>\n",
              "    <path d=\"M18.56 5.44l.94 2.06.94-2.06 2.06-.94-2.06-.94-.94-2.06-.94 2.06-2.06.94zm-11 1L8.5 8.5l.94-2.06 2.06-.94-2.06-.94L8.5 2.5l-.94 2.06-2.06.94zm10 10l.94 2.06.94-2.06 2.06-.94-2.06-.94-.94-2.06-.94 2.06-2.06.94z\"/><path d=\"M17.41 7.96l-1.37-1.37c-.4-.4-.92-.59-1.43-.59-.52 0-1.04.2-1.43.59L10.3 9.45l-7.72 7.72c-.78.78-.78 2.05 0 2.83L4 21.41c.39.39.9.59 1.41.59.51 0 1.02-.2 1.41-.59l7.78-7.78 2.81-2.81c.8-.78.8-2.07 0-2.86zM5.41 20L4 18.59l7.72-7.72 1.47 1.35L5.41 20z\"/>\n",
              "  </svg>\n",
              "      </button>\n",
              "      \n",
              "  <style>\n",
              "    .colab-df-container {\n",
              "      display:flex;\n",
              "      flex-wrap:wrap;\n",
              "      gap: 12px;\n",
              "    }\n",
              "\n",
              "    .colab-df-convert {\n",
              "      background-color: #E8F0FE;\n",
              "      border: none;\n",
              "      border-radius: 50%;\n",
              "      cursor: pointer;\n",
              "      display: none;\n",
              "      fill: #1967D2;\n",
              "      height: 32px;\n",
              "      padding: 0 0 0 0;\n",
              "      width: 32px;\n",
              "    }\n",
              "\n",
              "    .colab-df-convert:hover {\n",
              "      background-color: #E2EBFA;\n",
              "      box-shadow: 0px 1px 2px rgba(60, 64, 67, 0.3), 0px 1px 3px 1px rgba(60, 64, 67, 0.15);\n",
              "      fill: #174EA6;\n",
              "    }\n",
              "\n",
              "    [theme=dark] .colab-df-convert {\n",
              "      background-color: #3B4455;\n",
              "      fill: #D2E3FC;\n",
              "    }\n",
              "\n",
              "    [theme=dark] .colab-df-convert:hover {\n",
              "      background-color: #434B5C;\n",
              "      box-shadow: 0px 1px 3px 1px rgba(0, 0, 0, 0.15);\n",
              "      filter: drop-shadow(0px 1px 2px rgba(0, 0, 0, 0.3));\n",
              "      fill: #FFFFFF;\n",
              "    }\n",
              "  </style>\n",
              "\n",
              "      <script>\n",
              "        const buttonEl =\n",
              "          document.querySelector('#df-40df79c3-64d9-4aea-b885-a36167fbcd3f button.colab-df-convert');\n",
              "        buttonEl.style.display =\n",
              "          google.colab.kernel.accessAllowed ? 'block' : 'none';\n",
              "\n",
              "        async function convertToInteractive(key) {\n",
              "          const element = document.querySelector('#df-40df79c3-64d9-4aea-b885-a36167fbcd3f');\n",
              "          const dataTable =\n",
              "            await google.colab.kernel.invokeFunction('convertToInteractive',\n",
              "                                                     [key], {});\n",
              "          if (!dataTable) return;\n",
              "\n",
              "          const docLinkHtml = 'Like what you see? Visit the ' +\n",
              "            '<a target=\"_blank\" href=https://colab.research.google.com/notebooks/data_table.ipynb>data table notebook</a>'\n",
              "            + ' to learn more about interactive tables.';\n",
              "          element.innerHTML = '';\n",
              "          dataTable['output_type'] = 'display_data';\n",
              "          await google.colab.output.renderOutput(dataTable, element);\n",
              "          const docLink = document.createElement('div');\n",
              "          docLink.innerHTML = docLinkHtml;\n",
              "          element.appendChild(docLink);\n",
              "        }\n",
              "      </script>\n",
              "    </div>\n",
              "  </div>\n",
              "  "
            ]
          },
          "metadata": {},
          "execution_count": 48
        }
      ]
    },
    {
      "cell_type": "markdown",
      "source": [
        "###Node Embeddings"
      ],
      "metadata": {
        "id": "jZsSg1y2en1K"
      }
    },
    {
      "cell_type": "code",
      "source": [
        "emb_layer = next(l for l in model.layers if l.name.startswith(\"graph_attention\"))\n",
        "print(\n",
        "    \"Embedding layer: {}, output shape {}\".format(emb_layer.name, emb_layer.output_shape)\n",
        ")"
      ],
      "metadata": {
        "colab": {
          "base_uri": "https://localhost:8080/"
        },
        "id": "TPi8kD-meYfb",
        "outputId": "93d7bbaf-de46-459b-d2f5-95dd20e83e9a"
      },
      "execution_count": 49,
      "outputs": [
        {
          "output_type": "stream",
          "name": "stdout",
          "text": [
            "Embedding layer: graph_attention_sparse, output shape (1, 2708, 64)\n"
          ]
        }
      ]
    },
    {
      "cell_type": "code",
      "source": [
        "embedding_model = Model(inputs=x_inp, outputs=emb_layer.output)"
      ],
      "metadata": {
        "id": "DESe5Y6jeYck"
      },
      "execution_count": 50,
      "outputs": []
    },
    {
      "cell_type": "markdown",
      "source": [
        "The embeddings can now be calculated using the predict function. Note that the embeddings returned are 64 dimensional features (8 dimensions for each of the 8 attention heads) for all nodes."
      ],
      "metadata": {
        "id": "uIzx-wOSexvc"
      }
    },
    {
      "cell_type": "code",
      "source": [
        "emb = embedding_model.predict(all_gen)\n",
        "emb.shape"
      ],
      "metadata": {
        "colab": {
          "base_uri": "https://localhost:8080/"
        },
        "id": "jmJ19W-neYZr",
        "outputId": "9eb14685-05b4-4c34-d227-d8e3a8c7849d"
      },
      "execution_count": 51,
      "outputs": [
        {
          "output_type": "stream",
          "name": "stdout",
          "text": [
            "1/1 [==============================] - 0s 356ms/step\n"
          ]
        },
        {
          "output_type": "execute_result",
          "data": {
            "text/plain": [
              "(1, 2708, 64)"
            ]
          },
          "metadata": {},
          "execution_count": 51
        }
      ]
    },
    {
      "cell_type": "markdown",
      "source": [
        "Projecting the embeddings to 2d using either TSNE or PCA transform, and visualise, coloring nodes by their true subject label"
      ],
      "metadata": {
        "id": "14PHSI1Ne3-e"
      }
    },
    {
      "cell_type": "code",
      "source": [
        "from sklearn.decomposition import PCA\n",
        "from sklearn.manifold import TSNE\n",
        "import pandas as pd\n",
        "import numpy as np"
      ],
      "metadata": {
        "id": "-W01jWhyeYWm"
      },
      "execution_count": 52,
      "outputs": []
    },
    {
      "cell_type": "code",
      "source": [
        "X = emb.squeeze()\n",
        "y = np.argmax(target_encoding.transform(node_subjects), axis=1)"
      ],
      "metadata": {
        "id": "Ayj5ISy0eYT5"
      },
      "execution_count": 53,
      "outputs": []
    },
    {
      "cell_type": "code",
      "source": [
        "if X.shape[1] > 2:\n",
        "    transform = TSNE  # PCA\n",
        "\n",
        "    trans = transform(n_components=2)\n",
        "    emb_transformed = pd.DataFrame(trans.fit_transform(X), index=list(G.nodes()))\n",
        "    emb_transformed[\"label\"] = y\n",
        "else:\n",
        "    emb_transformed = pd.DataFrame(X, index=list(G.nodes()))\n",
        "    emb_transformed = emb_transformed.rename(columns={\"0\": 0, \"1\": 1})\n",
        "    emb_transformed[\"label\"] = y"
      ],
      "metadata": {
        "colab": {
          "base_uri": "https://localhost:8080/"
        },
        "id": "wkn95QEpeYRH",
        "outputId": "8da37315-e9db-480e-f082-a5a1467ff90c"
      },
      "execution_count": 54,
      "outputs": [
        {
          "output_type": "stream",
          "name": "stderr",
          "text": [
            "/usr/local/lib/python3.7/dist-packages/sklearn/manifold/_t_sne.py:783: FutureWarning: The default initialization in TSNE will change from 'random' to 'pca' in 1.2.\n",
            "  FutureWarning,\n",
            "/usr/local/lib/python3.7/dist-packages/sklearn/manifold/_t_sne.py:793: FutureWarning: The default learning rate in TSNE will change from 200.0 to 'auto' in 1.2.\n",
            "  FutureWarning,\n"
          ]
        }
      ]
    },
    {
      "cell_type": "code",
      "source": [
        "alpha = 0.7\n",
        "\n",
        "fig, ax = plt.subplots(figsize=(7, 7))\n",
        "ax.scatter(\n",
        "    emb_transformed[0],\n",
        "    emb_transformed[1],\n",
        "    c=emb_transformed[\"label\"].astype(\"category\"),\n",
        "    cmap=\"jet\",\n",
        "    alpha=alpha,\n",
        ")\n",
        "ax.set(aspect=\"equal\", xlabel=\"$X_1$\", ylabel=\"$X_2$\")\n",
        "plt.title(\n",
        "    \"{} visualization of GAT embeddings for cora dataset\".format(transform.__name__)\n",
        ")\n",
        "plt.show()"
      ],
      "metadata": {
        "colab": {
          "base_uri": "https://localhost:8080/",
          "height": 445
        },
        "id": "poupdFz4fMkt",
        "outputId": "deafca24-e461-4f79-b072-131432e53741"
      },
      "execution_count": 55,
      "outputs": [
        {
          "output_type": "display_data",
          "data": {
            "text/plain": [
              "<Figure size 504x504 with 1 Axes>"
            ],
            "image/png": "[encoded data removed]"
          },
          "metadata": {
            "needs_background": "light"
          }
        }
      ]
    },
    {
      "cell_type": "markdown",
      "source": [
        "## References\n",
        "#####https://stellargraph.readthedocs.io/en/stable/demos/node-classification/gcn-node-classification.html\n",
        "#####https://stellargraph.readthedocs.io/en/stable/demos/node-classification/gat-node-classification.html"
      ],
      "metadata": {
        "id": "3xuOdyZRfP8y"
      }
    }
  ],
  "metadata": {
    "kernelspec": {
      "display_name": "Python 3",
      "language": "python",
      "name": "python3"
    },
    "language_info": {
      "codemirror_mode": {
        "name": "ipython",
        "version": 3
      },
      "file_extension": ".py",
      "mimetype": "text/x-python",
      "name": "python",
      "nbconvert_exporter": "python",
      "pygments_lexer": "ipython3",
      "version": "3.6.9"
    },
    "colab": {
      "provenance": [],
      "collapsed_sections": [],
      "include_colab_link": true
    },
    "accelerator": "GPU"
  },
  "nbformat": 4,
  "nbformat_minor": 0
}